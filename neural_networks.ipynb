{
  "cells": [
    {
      "cell_type": "markdown",
      "metadata": {
        "id": "cQtc9C8ym76f"
      },
      "source": [
        "# Packages Installation"
      ]
    },
    {
      "cell_type": "code",
      "execution_count": null,
      "metadata": {
        "colab": {
          "base_uri": "https://localhost:8080/"
        },
        "id": "uMmkckHNmzYB",
        "outputId": "4e95acbc-9562-49d0-9cd7-3378284beac7"
      },
      "outputs": [
        {
          "output_type": "stream",
          "name": "stdout",
          "text": [
            "Looking in indexes: https://pypi.org/simple, https://us-python.pkg.dev/colab-wheels/public/simple/\n",
            "Requirement already satisfied: scikeras[tensorflow] in /usr/local/lib/python3.8/dist-packages (0.9.0)\n",
            "Requirement already satisfied: scikit-learn>=1.0.0 in /usr/local/lib/python3.8/dist-packages (from scikeras[tensorflow]) (1.0.2)\n",
            "Requirement already satisfied: packaging>=0.21 in /usr/local/lib/python3.8/dist-packages (from scikeras[tensorflow]) (21.3)\n",
            "Requirement already satisfied: tensorflow>=2.7.0 in /usr/local/lib/python3.8/dist-packages (from scikeras[tensorflow]) (2.9.2)\n",
            "Requirement already satisfied: pyparsing!=3.0.5,>=2.0.2 in /usr/local/lib/python3.8/dist-packages (from packaging>=0.21->scikeras[tensorflow]) (3.0.9)\n",
            "Requirement already satisfied: numpy>=1.14.6 in /usr/local/lib/python3.8/dist-packages (from scikit-learn>=1.0.0->scikeras[tensorflow]) (1.21.6)\n",
            "Requirement already satisfied: threadpoolctl>=2.0.0 in /usr/local/lib/python3.8/dist-packages (from scikit-learn>=1.0.0->scikeras[tensorflow]) (3.1.0)\n",
            "Requirement already satisfied: scipy>=1.1.0 in /usr/local/lib/python3.8/dist-packages (from scikit-learn>=1.0.0->scikeras[tensorflow]) (1.7.3)\n",
            "Requirement already satisfied: joblib>=0.11 in /usr/local/lib/python3.8/dist-packages (from scikit-learn>=1.0.0->scikeras[tensorflow]) (1.2.0)\n",
            "Requirement already satisfied: gast<=0.4.0,>=0.2.1 in /usr/local/lib/python3.8/dist-packages (from tensorflow>=2.7.0->scikeras[tensorflow]) (0.4.0)\n",
            "Requirement already satisfied: opt-einsum>=2.3.2 in /usr/local/lib/python3.8/dist-packages (from tensorflow>=2.7.0->scikeras[tensorflow]) (3.3.0)\n",
            "Requirement already satisfied: keras-preprocessing>=1.1.1 in /usr/local/lib/python3.8/dist-packages (from tensorflow>=2.7.0->scikeras[tensorflow]) (1.1.2)\n",
            "Requirement already satisfied: tensorboard<2.10,>=2.9 in /usr/local/lib/python3.8/dist-packages (from tensorflow>=2.7.0->scikeras[tensorflow]) (2.9.1)\n",
            "Requirement already satisfied: keras<2.10.0,>=2.9.0rc0 in /usr/local/lib/python3.8/dist-packages (from tensorflow>=2.7.0->scikeras[tensorflow]) (2.9.0)\n",
            "Requirement already satisfied: libclang>=13.0.0 in /usr/local/lib/python3.8/dist-packages (from tensorflow>=2.7.0->scikeras[tensorflow]) (14.0.6)\n",
            "Requirement already satisfied: tensorflow-io-gcs-filesystem>=0.23.1 in /usr/local/lib/python3.8/dist-packages (from tensorflow>=2.7.0->scikeras[tensorflow]) (0.28.0)\n",
            "Requirement already satisfied: h5py>=2.9.0 in /usr/local/lib/python3.8/dist-packages (from tensorflow>=2.7.0->scikeras[tensorflow]) (3.1.0)\n",
            "Requirement already satisfied: typing-extensions>=3.6.6 in /usr/local/lib/python3.8/dist-packages (from tensorflow>=2.7.0->scikeras[tensorflow]) (4.1.1)\n",
            "Requirement already satisfied: six>=1.12.0 in /usr/local/lib/python3.8/dist-packages (from tensorflow>=2.7.0->scikeras[tensorflow]) (1.15.0)\n",
            "Requirement already satisfied: tensorflow-estimator<2.10.0,>=2.9.0rc0 in /usr/local/lib/python3.8/dist-packages (from tensorflow>=2.7.0->scikeras[tensorflow]) (2.9.0)\n",
            "Requirement already satisfied: wrapt>=1.11.0 in /usr/local/lib/python3.8/dist-packages (from tensorflow>=2.7.0->scikeras[tensorflow]) (1.14.1)\n",
            "Requirement already satisfied: google-pasta>=0.1.1 in /usr/local/lib/python3.8/dist-packages (from tensorflow>=2.7.0->scikeras[tensorflow]) (0.2.0)\n",
            "Requirement already satisfied: flatbuffers<2,>=1.12 in /usr/local/lib/python3.8/dist-packages (from tensorflow>=2.7.0->scikeras[tensorflow]) (1.12)\n",
            "Requirement already satisfied: astunparse>=1.6.0 in /usr/local/lib/python3.8/dist-packages (from tensorflow>=2.7.0->scikeras[tensorflow]) (1.6.3)\n",
            "Requirement already satisfied: grpcio<2.0,>=1.24.3 in /usr/local/lib/python3.8/dist-packages (from tensorflow>=2.7.0->scikeras[tensorflow]) (1.50.0)\n",
            "Requirement already satisfied: protobuf<3.20,>=3.9.2 in /usr/local/lib/python3.8/dist-packages (from tensorflow>=2.7.0->scikeras[tensorflow]) (3.19.6)\n",
            "Requirement already satisfied: setuptools in /usr/local/lib/python3.8/dist-packages (from tensorflow>=2.7.0->scikeras[tensorflow]) (57.4.0)\n",
            "Requirement already satisfied: termcolor>=1.1.0 in /usr/local/lib/python3.8/dist-packages (from tensorflow>=2.7.0->scikeras[tensorflow]) (2.1.1)\n",
            "Requirement already satisfied: absl-py>=1.0.0 in /usr/local/lib/python3.8/dist-packages (from tensorflow>=2.7.0->scikeras[tensorflow]) (1.3.0)\n",
            "Requirement already satisfied: wheel<1.0,>=0.23.0 in /usr/local/lib/python3.8/dist-packages (from astunparse>=1.6.0->tensorflow>=2.7.0->scikeras[tensorflow]) (0.38.4)\n",
            "Requirement already satisfied: markdown>=2.6.8 in /usr/local/lib/python3.8/dist-packages (from tensorboard<2.10,>=2.9->tensorflow>=2.7.0->scikeras[tensorflow]) (3.4.1)\n",
            "Requirement already satisfied: tensorboard-data-server<0.7.0,>=0.6.0 in /usr/local/lib/python3.8/dist-packages (from tensorboard<2.10,>=2.9->tensorflow>=2.7.0->scikeras[tensorflow]) (0.6.1)\n",
            "Requirement already satisfied: google-auth-oauthlib<0.5,>=0.4.1 in /usr/local/lib/python3.8/dist-packages (from tensorboard<2.10,>=2.9->tensorflow>=2.7.0->scikeras[tensorflow]) (0.4.6)\n",
            "Requirement already satisfied: requests<3,>=2.21.0 in /usr/local/lib/python3.8/dist-packages (from tensorboard<2.10,>=2.9->tensorflow>=2.7.0->scikeras[tensorflow]) (2.23.0)\n",
            "Requirement already satisfied: werkzeug>=1.0.1 in /usr/local/lib/python3.8/dist-packages (from tensorboard<2.10,>=2.9->tensorflow>=2.7.0->scikeras[tensorflow]) (1.0.1)\n",
            "Requirement already satisfied: google-auth<3,>=1.6.3 in /usr/local/lib/python3.8/dist-packages (from tensorboard<2.10,>=2.9->tensorflow>=2.7.0->scikeras[tensorflow]) (2.14.1)\n",
            "Requirement already satisfied: tensorboard-plugin-wit>=1.6.0 in /usr/local/lib/python3.8/dist-packages (from tensorboard<2.10,>=2.9->tensorflow>=2.7.0->scikeras[tensorflow]) (1.8.1)\n",
            "Requirement already satisfied: pyasn1-modules>=0.2.1 in /usr/local/lib/python3.8/dist-packages (from google-auth<3,>=1.6.3->tensorboard<2.10,>=2.9->tensorflow>=2.7.0->scikeras[tensorflow]) (0.2.8)\n",
            "Requirement already satisfied: rsa<5,>=3.1.4 in /usr/local/lib/python3.8/dist-packages (from google-auth<3,>=1.6.3->tensorboard<2.10,>=2.9->tensorflow>=2.7.0->scikeras[tensorflow]) (4.9)\n",
            "Requirement already satisfied: cachetools<6.0,>=2.0.0 in /usr/local/lib/python3.8/dist-packages (from google-auth<3,>=1.6.3->tensorboard<2.10,>=2.9->tensorflow>=2.7.0->scikeras[tensorflow]) (5.2.0)\n",
            "Requirement already satisfied: requests-oauthlib>=0.7.0 in /usr/local/lib/python3.8/dist-packages (from google-auth-oauthlib<0.5,>=0.4.1->tensorboard<2.10,>=2.9->tensorflow>=2.7.0->scikeras[tensorflow]) (1.3.1)\n",
            "Requirement already satisfied: importlib-metadata>=4.4 in /usr/local/lib/python3.8/dist-packages (from markdown>=2.6.8->tensorboard<2.10,>=2.9->tensorflow>=2.7.0->scikeras[tensorflow]) (4.13.0)\n",
            "Requirement already satisfied: zipp>=0.5 in /usr/local/lib/python3.8/dist-packages (from importlib-metadata>=4.4->markdown>=2.6.8->tensorboard<2.10,>=2.9->tensorflow>=2.7.0->scikeras[tensorflow]) (3.10.0)\n",
            "Requirement already satisfied: pyasn1<0.5.0,>=0.4.6 in /usr/local/lib/python3.8/dist-packages (from pyasn1-modules>=0.2.1->google-auth<3,>=1.6.3->tensorboard<2.10,>=2.9->tensorflow>=2.7.0->scikeras[tensorflow]) (0.4.8)\n",
            "Requirement already satisfied: certifi>=2017.4.17 in /usr/local/lib/python3.8/dist-packages (from requests<3,>=2.21.0->tensorboard<2.10,>=2.9->tensorflow>=2.7.0->scikeras[tensorflow]) (2022.9.24)\n",
            "Requirement already satisfied: idna<3,>=2.5 in /usr/local/lib/python3.8/dist-packages (from requests<3,>=2.21.0->tensorboard<2.10,>=2.9->tensorflow>=2.7.0->scikeras[tensorflow]) (2.10)\n",
            "Requirement already satisfied: chardet<4,>=3.0.2 in /usr/local/lib/python3.8/dist-packages (from requests<3,>=2.21.0->tensorboard<2.10,>=2.9->tensorflow>=2.7.0->scikeras[tensorflow]) (3.0.4)\n",
            "Requirement already satisfied: urllib3!=1.25.0,!=1.25.1,<1.26,>=1.21.1 in /usr/local/lib/python3.8/dist-packages (from requests<3,>=2.21.0->tensorboard<2.10,>=2.9->tensorflow>=2.7.0->scikeras[tensorflow]) (1.24.3)\n",
            "Requirement already satisfied: oauthlib>=3.0.0 in /usr/local/lib/python3.8/dist-packages (from requests-oauthlib>=0.7.0->google-auth-oauthlib<0.5,>=0.4.1->tensorboard<2.10,>=2.9->tensorflow>=2.7.0->scikeras[tensorflow]) (3.2.2)\n"
          ]
        }
      ],
      "source": [
        "!pip install scikeras[tensorflow]"
      ]
    },
    {
      "cell_type": "markdown",
      "metadata": {
        "id": "ghl2A7y_U5Qa"
      },
      "source": [
        "# Imports"
      ]
    },
    {
      "cell_type": "code",
      "execution_count": null,
      "metadata": {
        "id": "B_EvgExRU7AS"
      },
      "outputs": [],
      "source": [
        "import numpy as np\n",
        "import pandas as pd\n",
        "import matplotlib.pyplot as plt\n",
        "\n",
        "# Preprocessing\n",
        "import tensorflow as tf\n",
        "from sklearn.preprocessing import OneHotEncoder\n",
        "from sklearn.model_selection import train_test_split\n",
        "from sklearn.preprocessing import StandardScaler\n",
        "from scipy.optimize import check_grad\n",
        "\n",
        "# ConvNet\n",
        "from tensorflow.keras.models import Sequential\n",
        "from tensorflow.keras.layers import Conv2D, MaxPooling2D, Dense, Flatten, Dropout, BatchNormalization\n",
        "from tensorflow.keras.losses import categorical_crossentropy\n",
        "from keras.utils import plot_model, to_categorical\n",
        "\n",
        "# MLP\n",
        "from typing import List\n",
        "from tqdm import tqdm\n",
        "\n",
        "# Hyperparameter tuning with GridSearch (task 3-6)\n",
        "from tensorflow import keras\n",
        "from sklearn.model_selection import GridSearchCV\n",
        "from scikeras.wrappers import KerasClassifier"
      ]
    },
    {
      "cell_type": "markdown",
      "metadata": {
        "id": "AFexNyk-TfU1"
      },
      "source": [
        "# Task 1: Acquire the data"
      ]
    },
    {
      "cell_type": "markdown",
      "metadata": {
        "id": "BnF6inmZaUz4"
      },
      "source": [
        "## Notes on Processing\n",
        "*   Followed this [tensorflow guide](https://www.tensorflow.org/tutorials/keras/classification) to import the images into numpy arrays.\n",
        "*   60K training examples, with each image being 28x28 pixels\n",
        "*  10K testing images"
      ]
    },
    {
      "cell_type": "markdown",
      "metadata": {
        "id": "rW_pDxemTfGU"
      },
      "source": [
        "Notes on normalization from [this website](https://cs231n.github.io/neural-networks-2/#datapre): \n",
        "\n",
        "*   \"It only makes sense to apply this preprocessing if you have a reason to believe that different input features have different scales (or units), but they should be of approximately equal importance to the learning algorithm. In case of images, the relative scales of pixels are already approximately equal (and in range from 0 to 255), so it is not strictly necessary to perform this additional preprocessing step.\"\n",
        "\n",
        "*   \"it is very important to zero-center the data, and it is common to see normalization of every pixel as well.\"\n",
        "\n",
        "\n",
        "\n"
      ]
    },
    {
      "cell_type": "markdown",
      "metadata": {
        "id": "_nswz4ZPcozj"
      },
      "source": [
        "## Load data"
      ]
    },
    {
      "cell_type": "code",
      "execution_count": null,
      "metadata": {
        "id": "aI5RQr-MZwbP"
      },
      "outputs": [],
      "source": [
        "fashion_mnist = tf.keras.datasets.fashion_mnist\n",
        "(X_train, y_train_pre_ohe), (X_test, y_test_pre_ohe) = fashion_mnist.load_data()"
      ]
    },
    {
      "cell_type": "code",
      "execution_count": null,
      "metadata": {
        "id": "-WRzMkIOZ2Ln"
      },
      "outputs": [],
      "source": [
        "categories = ['T-shirt/top', 'Trouser', 'Pullover', 'Dress', 'Coat',\n",
        "               'Sandal', 'Shirt', 'Sneaker', 'Bag', 'Ankle boot']"
      ]
    },
    {
      "cell_type": "markdown",
      "metadata": {
        "id": "xb-O7ys8iHTU"
      },
      "source": [
        "## Explore data distribution\n",
        "\n",
        "60K training, 10k testing. Evenly split across 10 classes (so, 6k per class in training, 1k per class in testing)."
      ]
    },
    {
      "cell_type": "code",
      "execution_count": null,
      "metadata": {
        "colab": {
          "base_uri": "https://localhost:8080/"
        },
        "id": "LKhtgykVaJBw",
        "outputId": "34f69e9a-4001-421b-cfbf-f664a2a12e65"
      },
      "outputs": [
        {
          "output_type": "stream",
          "name": "stdout",
          "text": [
            "(60000, 28, 28)\n",
            "(60000,)\n",
            "(10000, 28, 28)\n",
            "(10000,)\n"
          ]
        }
      ],
      "source": [
        "print(X_train.shape)\n",
        "print(y_train_pre_ohe.shape)\n",
        "print(X_test.shape)\n",
        "print(y_test_pre_ohe.shape)"
      ]
    },
    {
      "cell_type": "code",
      "execution_count": null,
      "metadata": {
        "colab": {
          "base_uri": "https://localhost:8080/"
        },
        "id": "KoMsrsxBhwLZ",
        "outputId": "91cc7e2d-1097-49b5-8805-c07140eacdf4"
      },
      "outputs": [
        {
          "output_type": "stream",
          "name": "stdout",
          "text": [
            "Count per class (train): [6000 6000 6000 6000 6000 6000 6000 6000 6000 6000]\n",
            "Count per class (test): [1000 1000 1000 1000 1000 1000 1000 1000 1000 1000]\n"
          ]
        }
      ],
      "source": [
        "# The results of the below don't tell us much it seems\n",
        "# df_X = pd.DataFrame(X_train)\n",
        "# df_y = pd.DataFrame(y_train)\n",
        "# print(df_X.describe())\n",
        "# print(df_y.describe())\n",
        "\n",
        "print(f\"Count per class (train): {np.bincount(y_train_pre_ohe)}\")\n",
        "print(f\"Count per class (test): {np.bincount(y_test_pre_ohe)}\")"
      ]
    },
    {
      "cell_type": "markdown",
      "metadata": {
        "id": "v8E27kL-crcr"
      },
      "source": [
        "## One hot encoding of y\n",
        "\n",
        "y_train_pre_ohe & y_test_pre_ohe still kept so we can get labels by indexing in categories (see for example the Explore data section)."
      ]
    },
    {
      "cell_type": "code",
      "execution_count": null,
      "metadata": {
        "id": "yzsjDH2qbaem"
      },
      "outputs": [],
      "source": [
        "ohe = OneHotEncoder()\n",
        "y_train = ohe.fit_transform(y_train_pre_ohe.reshape(-1, 1)).toarray()\n",
        "y_test = ohe.fit_transform(y_test_pre_ohe.reshape(-1, 1)).toarray()"
      ]
    },
    {
      "cell_type": "markdown",
      "metadata": {
        "id": "WiFTtMhbc404"
      },
      "source": [
        "## Normalizing X & X_not_normalized\n",
        "\n",
        "Per the [tensorflow guide](https://www.tensorflow.org/tutorials/keras/classification), since all values are between 0 and 255, it is sufficient to divide them by 255 as a way of performing the normalization. This will make all values between 0 and 1. "
      ]
    },
    {
      "cell_type": "code",
      "execution_count": null,
      "metadata": {
        "id": "t1u1BwOlc63p"
      },
      "outputs": [],
      "source": [
        "X_train_not_normalized = X_train / 1\n",
        "X_test_not_normalized = X_test / 1\n",
        "X_train = X_train / 255\n",
        "X_test = X_test / 255"
      ]
    },
    {
      "cell_type": "markdown",
      "metadata": {
        "id": "Eb_AYusnfGJi"
      },
      "source": [
        "## Visualize data\n",
        "\n",
        "Note: this is done before we vectorize so that we can view the images to see what the dataset looks like."
      ]
    },
    {
      "cell_type": "code",
      "execution_count": null,
      "metadata": {
        "colab": {
          "base_uri": "https://localhost:8080/"
        },
        "id": "ulWXwth_e7YN",
        "outputId": "b5b110ab-de60-4726-a12f-a940663c232d"
      },
      "outputs": [
        {
          "output_type": "stream",
          "name": "stdout",
          "text": [
            "Training set\n"
          ]
        },
        {
          "output_type": "display_data",
          "data": {
            "text/plain": [
              "<Figure size 720x720 with 25 Axes>"
            ],
            "image/png": "[encoded data removed]"
          },
          "metadata": {}
        },
        {
          "output_type": "stream",
          "name": "stdout",
          "text": [
            "Testing set\n"
          ]
        },
        {
          "output_type": "display_data",
          "data": {
            "text/plain": [
              "<Figure size 720x720 with 25 Axes>"
            ],
            "image/png": "[encoded data removed]"
          },
          "metadata": {}
        }
      ],
      "source": [
        "print(\"Training set\")\n",
        "plt.figure(figsize=(10,10))\n",
        "for i in range(25):\n",
        "    plt.subplot(5,5,i+1)\n",
        "    plt.xticks([])\n",
        "    plt.yticks([])\n",
        "    plt.grid(False)\n",
        "    plt.imshow(X_train[i], cmap=plt.cm.binary)\n",
        "    plt.xlabel(categories[y_train_pre_ohe[i]])\n",
        "plt.show()\n",
        "\n",
        "print(\"Testing set\")\n",
        "plt.figure(figsize=(10,10))\n",
        "for i in range(25):\n",
        "    plt.subplot(5,5,i+1)\n",
        "    plt.xticks([])\n",
        "    plt.yticks([])\n",
        "    plt.grid(False)\n",
        "    plt.imshow(X_test[i], cmap=plt.cm.binary)\n",
        "    plt.xlabel(categories[y_test_pre_ohe[i]])\n",
        "plt.show()"
      ]
    },
    {
      "cell_type": "markdown",
      "metadata": {
        "id": "yHvrt-MCfHXi"
      },
      "source": [
        "## Sets for ConvNet\n",
        "\n",
        "It works with pre-OHE labels and un-vectorized data. Also, it makes use of validation sets. "
      ]
    },
    {
      "cell_type": "code",
      "execution_count": null,
      "metadata": {
        "id": "rqmXsThRfNuY"
      },
      "outputs": [],
      "source": [
        "X_train_pre_vect = X_train\n",
        "X_test_pre_vect = X_test\n",
        "X_train_w_val, X_val, y_train_w_val, y_val = train_test_split(\n",
        "    X_train_pre_vect, y_train_pre_ohe, test_size = 0.2, random_state=1, shuffle=True)"
      ]
    },
    {
      "cell_type": "markdown",
      "metadata": {
        "id": "ppXTdC3V9C0p"
      },
      "source": [
        "## Vectorize Images in X\n",
        "\n",
        "We do this by flatting the images. Each image (so, each element of X) is a 28x28 2D array. So, we convert each image into a 28x28=784 long array so that each image is represented by just one flattened array."
      ]
    },
    {
      "cell_type": "code",
      "execution_count": null,
      "metadata": {
        "id": "aaCwhFVM9CQS"
      },
      "outputs": [],
      "source": [
        "# Vectorize normalized X\n",
        "flat = []\n",
        "for image in X_train:\n",
        "  flat.append(image.flatten())\n",
        "flat = np.array(flat)\n",
        "X_train = flat\n",
        "\n",
        "flat = []\n",
        "for image in X_test:\n",
        "  flat.append(image.flatten())\n",
        "flat = np.array(flat)\n",
        "X_test = flat\n",
        "\n",
        "# Vectorize not normalized X\n",
        "flat = []\n",
        "for image in X_train_not_normalized:\n",
        "  flat.append(image.flatten())\n",
        "flat = np.array(flat)\n",
        "X_train_not_normalized = flat\n",
        "\n",
        "flat = []\n",
        "for image in X_test_not_normalized:\n",
        "  flat.append(image.flatten())\n",
        "flat = np.array(flat)\n",
        "X_test_not_normalized = flat\n",
        "\n",
        "del flat # no more need for this, save space"
      ]
    },
    {
      "cell_type": "markdown",
      "metadata": {
        "id": "ANabYaQLiFMK"
      },
      "source": [
        "## Mini sets for plots"
      ]
    },
    {
      "cell_type": "code",
      "execution_count": null,
      "metadata": {
        "id": "_2gXCK7hiEz6"
      },
      "outputs": [],
      "source": [
        "indices = np.random.choice(X_test.shape[0], 500, replace=False)\n",
        "X_test_mini = X_test[indices]\n",
        "y_test_mini = y_test[indices]\n",
        "X_train_mini = X_train[indices]\n",
        "y_train_mini = y_train[indices]"
      ]
    },
    {
      "cell_type": "markdown",
      "metadata": {
        "id": "4um3Mbo-ietO"
      },
      "source": [
        "## Variable list\n",
        "\n",
        "*   **X_train** and **y_train** for training\n",
        "*   **X_test** and **y_test** for testing\n",
        "*   Mini sets used just for accuracy plots\n",
        "*   **X_train_not_normalized** for pre-normalized X_train; same for **X_test_not_normalized**\n",
        "*   **y_train_pre_ohe** & **y_test_pre_ohe** have y values pre-one-hot-encoding; useful for getting category index when passed to **categories** list\n",
        "*   Stuff for ConvNet: **Y_train_w_val** and **y_train_w_val** for 80% size training set if validation with **X_val** and **y_val** is used. Note that these are pre-OHE and un-vectorized X.\n",
        "*   **categories** contains the list of category names"
      ]
    },
    {
      "cell_type": "markdown",
      "metadata": {
        "id": "IGFfPPrie1gQ"
      },
      "source": [
        "# Task 2: MLP Implementation\n",
        "\n",
        "Please note that the code in this section is heavily inspired from the class tutorial code."
      ]
    },
    {
      "cell_type": "markdown",
      "metadata": {
        "id": "bwbTS5kNP9Av"
      },
      "source": [
        "## Layers"
      ]
    },
    {
      "cell_type": "markdown",
      "metadata": {
        "id": "SpP_CFD2QHaF"
      },
      "source": [
        "### Base Layer Class"
      ]
    },
    {
      "cell_type": "code",
      "execution_count": null,
      "metadata": {
        "id": "onHjRpjWPF-A"
      },
      "outputs": [],
      "source": [
        "class NeuralNetLayer:\n",
        "    def __init__(self):\n",
        "        self.gradient = None\n",
        "        self.parameters = None\n",
        "        \n",
        "    def forward(self, x):\n",
        "        raise NotImplementedError\n",
        "\n",
        "    def backward(self, gradient):\n",
        "        raise NotImplementedError"
      ]
    },
    {
      "cell_type": "markdown",
      "metadata": {
        "id": "T01w6Et5QBu0"
      },
      "source": [
        "### Softmax Output Layer"
      ]
    },
    {
      "cell_type": "code",
      "execution_count": null,
      "metadata": {
        "id": "Vd8Wiw8HQP7z"
      },
      "outputs": [],
      "source": [
        "class SoftmaxOutputLayer(NeuralNetLayer):\n",
        "    def __init__(self):\n",
        "        super().__init__()\n",
        "        self.cur_probs = None\n",
        "\n",
        "    def forward(self, x):\n",
        "        z = x.max()\n",
        "        exps = np.exp(x - z)\n",
        "        probs = exps / np.sum(exps, axis=-1)[:, None]\n",
        "        self.cur_probs = probs\n",
        "        return probs\n",
        "\n",
        "    def backward(self, target):\n",
        "        assert self.cur_probs is not None, \"Must call forward before backward\"\n",
        "        return self.cur_probs - target"
      ]
    },
    {
      "cell_type": "markdown",
      "metadata": {
        "id": "UvV0Qz8kQR8o"
      },
      "source": [
        "### LinearLayer"
      ]
    },
    {
      "cell_type": "code",
      "execution_count": null,
      "metadata": {
        "id": "cDS3WcogQYIW"
      },
      "outputs": [],
      "source": [
        "class LinearLayer(NeuralNetLayer):\n",
        "    def __init__(self, input_size, output_size, regularization=False, lmbd=0, perturb=False, rho=0):\n",
        "        super().__init__()\n",
        "        self.ni = input_size\n",
        "        self.no = output_size\n",
        "        self.w = 0.2 * np.random.randn(output_size, input_size)\n",
        "        self.b = np.random.randn(output_size)\n",
        "        self.cur_input = None\n",
        "        self.parameters = [self.w, self.b]\n",
        "        self.regularization = regularization\n",
        "        self.lmbd = lmbd\n",
        "        self.epsilon = 1e-8\n",
        "        self.small_perturb = perturb\n",
        "        self.rho = rho\n",
        "\n",
        "        # Small perturbation is roughly estimated by (L(w + eps*norm(rho)) - L(w))/eps\n",
        "    \n",
        "    def small_perturbation(self, gradient):\n",
        "        first = np.sum(gradient.dot((self.w + (self.epsilon*self.rho))))\n",
        "        second = np.sum(gradient.dot(self.w))\n",
        "        print((first - second)/self.epsilon)\n",
        "\n",
        "    def forward(self, x):\n",
        "        self.cur_input = x\n",
        "        return (self.w[None, :, :] @ x[:, :, None]).squeeze() + self.b\n",
        "\n",
        "    def backward(self, gradient):\n",
        "        assert self.cur_input is not None, \"Must call forward before backward\"\n",
        "        dw = gradient[:, :, None] @ self.cur_input[:, None, :]\n",
        "        db = gradient\n",
        "        self.gradient = [dw, db]\n",
        "        grad = 0\n",
        "        if self.regularization:\n",
        "            grad = gradient.dot(self.w) + gradient.dot(self.lmbd * self.w)\n",
        "        else:\n",
        "            grad = gradient.dot(self.w)\n",
        "\n",
        "        if self.small_perturb:\n",
        "            self.small_perturbation(gradient)\n",
        "        \n",
        "        return grad"
      ]
    },
    {
      "cell_type": "markdown",
      "metadata": {
        "id": "aPOeitbGQaMV"
      },
      "source": [
        "### ReLU Layer"
      ]
    },
    {
      "cell_type": "code",
      "execution_count": null,
      "metadata": {
        "id": "cc2o8demQcbT"
      },
      "outputs": [],
      "source": [
        "class ReLULayer(NeuralNetLayer):\n",
        "    def __init__(self):\n",
        "        super().__init__()\n",
        "        \n",
        "    def forward(self, x):        \n",
        "        # Where gradients are calculated, regularization is done\n",
        "        self.gradient = np.where(x > 0, 1.0, 0.0)\n",
        "        return np.maximum(0, x)\n",
        "\n",
        "    def backward(self, gradient):\n",
        "        assert self.gradient is not None, \"Must call forward before backward\"\n",
        "        return gradient * self.gradient"
      ]
    },
    {
      "cell_type": "markdown",
      "metadata": {
        "id": "6tJx2iceqYG-"
      },
      "source": [
        "### Leaky ReLU Layer\n",
        "\n",
        "Leaky ReLU is f(x)=xI[x≥0]+αxI[x<0] from ed. \n",
        "So, gradient is: \n",
        "- For x >= 0: 1\n",
        "- For x < 0: α\n",
        "\n",
        "We set α to 0.01 as that is the [PyTorch default](https://pytorch.org/docs/stable/generated/torch.nn.LeakyReLU.html)"
      ]
    },
    {
      "cell_type": "code",
      "execution_count": null,
      "metadata": {
        "id": "hAXANAKcqYG-"
      },
      "outputs": [],
      "source": [
        "class LeakyReLULayer(NeuralNetLayer):\n",
        "    def __init__(self):\n",
        "        super().__init__()\n",
        "        \n",
        "    def forward(self, x):\n",
        "        self.gradient = np.where(x >= 0, 1.0, 0.01)\n",
        "        return np.maximum(0, x) + 0.01 * np.minimum(x, 0)\n",
        "\n",
        "    def backward(self, gradient):\n",
        "        assert self.gradient is not None, \"Must call forward before backward\"\n",
        "        return gradient * self.gradient"
      ]
    },
    {
      "cell_type": "markdown",
      "metadata": {
        "id": "gd_TlChHqZf3"
      },
      "source": [
        "### Tanh Layer"
      ]
    },
    {
      "cell_type": "code",
      "execution_count": null,
      "metadata": {
        "id": "dSv9sDq0qZf4"
      },
      "outputs": [],
      "source": [
        "class TanhLayer(NeuralNetLayer):\n",
        "    def __init__(self):\n",
        "        super().__init__()\n",
        "        \n",
        "    def forward(self, x):\n",
        "        z = (np.exp(x) - np.exp(-x)) / (np.exp(x) + np.exp(-x))\n",
        "        self.gradient = np.ones(x.shape) - (z*z)\n",
        "        return z\n",
        "\n",
        "    def backward(self, gradient):\n",
        "        assert self.gradient is not None, \"Must call forward before backward\"\n",
        "        return gradient * self.gradient"
      ]
    },
    {
      "cell_type": "markdown",
      "metadata": {
        "id": "8BRuYqjqQenz"
      },
      "source": [
        "## MLP"
      ]
    },
    {
      "cell_type": "code",
      "execution_count": null,
      "metadata": {
        "id": "D65j3qhuQjTH"
      },
      "outputs": [],
      "source": [
        "from pickle import FALSE\n",
        "class MLP:\n",
        "    def __init__(self, activationFunction, numHiddenLayers, numUnitsHiddenLayers, inputSize, outputSize, epoch_number, mini_batch_size, regularization=False, lmbd=0, small_perturb=False):\n",
        "      # Should:\n",
        "      #   - initialize weight\n",
        "      #   - initialize biases\n",
        "      #   - initialize other important properities of the MLP\n",
        "        self.regularization = regularization\n",
        "        self.lmbd = lmbd\n",
        "        self.activationFunction = activationFunction\n",
        "        self.numHiddenLayers = numHiddenLayers\n",
        "        self.numUnitsHiddenLayers = numUnitsHiddenLayers\n",
        "        self.optimizer = GradientDescentOptimizer(self, 1e-2, regularization, lmbd)\n",
        "        self.inputSize = inputSize    # Input to the MLP (X)\n",
        "        self.outputSize = outputSize    # Output from the MLP (y)\n",
        "        self.mini_batch_size = mini_batch_size      # Size of each mini-batch\n",
        "        self.epoch_number = epoch_number    # Number of epochs\n",
        "        self.layers = []    # list of NeuralNetLayers\n",
        "\n",
        "        # Add first linearLayer\n",
        "        rho = 0.01 * np.random.randn(self.numUnitsHiddenLayers, self.inputSize)\n",
        "        norm = np.linalg.norm(rho)\n",
        "        self.rho = rho/norm\n",
        "\n",
        "        if self.numHiddenLayers > 0:\n",
        "            self.layers.append(LinearLayer(self.inputSize, self.numUnitsHiddenLayers, self.regularization, self.lmbd, small_perturb, self.rho))\n",
        "        else:\n",
        "            self.numUnitsHiddenLayers = self.inputSize\n",
        "\n",
        "        if (self.activationFunction.lower() == \"relu\"):\n",
        "          for i in range(0, self.numHiddenLayers):\n",
        "            self.layers.append(ReLULayer())\n",
        "            if i != self.numHiddenLayers - 1:\n",
        "                rho = 0.01 * np.random.randn(self.numUnitsHiddenLayers, self.numUnitsHiddenLayers)\n",
        "                norm = np.linalg.norm(rho)\n",
        "                self.rho = rho/norm\n",
        "                self.layers.append(LinearLayer(self.numUnitsHiddenLayers, self.numUnitsHiddenLayers, self.regularization, self.lmbd, small_perturb, self.rho))\n",
        "        \n",
        "        elif (self.activationFunction.lower() == \"leaky_relu\"):\n",
        "          for i in range(0, self.numHiddenLayers):\n",
        "            self.layers.append(LeakyReLULayer())\n",
        "            if i != self.numHiddenLayers - 1:\n",
        "                rho = 0.01 * np.random.randn(self.numUnitsHiddenLayers, self.numUnitsHiddenLayers)\n",
        "                norm = np.linalg.norm(rho)\n",
        "                self.rho = rho/norm\n",
        "                self.layers.append(LinearLayer(self.numUnitsHiddenLayers, self.numUnitsHiddenLayers, self.regularization, self.lmbd, small_perturb, self.rho))\n",
        "        \n",
        "        elif (self.activationFunction.lower() == \"tanh\"):\n",
        "          for i in range(0, self.numHiddenLayers):\n",
        "            self.layers.append(TanhLayer())\n",
        "            if i != self.numHiddenLayers - 1:\n",
        "                rho = 0.01 * np.random.randn(self.numUnitsHiddenLayers, self.numUnitsHiddenLayers)\n",
        "                norm = np.linalg.norm(rho)\n",
        "                self.rho = rho/norm\n",
        "                self.layers.append(LinearLayer(self.numUnitsHiddenLayers, self.numUnitsHiddenLayers, self.regularization, self.lmbd, small_perturb, self.rho))\n",
        "\n",
        "        elif (self.activationFunction.lower() == \"linear\"):\n",
        "          for i in range(0, self.numHiddenLayers):\n",
        "            self.layers.append(LinearLayer())\n",
        "\n",
        "        else:\n",
        "          raise Exception(self.activationFunction, \"is an invalid activation function.\")\n",
        "        \n",
        "        # Add linearLayer after hidden layers\n",
        "        # Add linearLayer after each hidden layers.\n",
        "        rho = 0.01 * np.random.randn(self.outputSize, self.numUnitsHiddenLayers)\n",
        "        norm = np.linalg.norm(rho)\n",
        "        self.rho = rho/norm\n",
        "        self.layers.append(LinearLayer(self.numUnitsHiddenLayers, self.outputSize, self.regularization, self.lmbd, small_perturb, self.rho))\n",
        "\n",
        "        # Add softmax\n",
        "        self.layers.append(SoftmaxOutputLayer())\n",
        "\n",
        "    def forward(self, x):\n",
        "        for layer in self.layers:\n",
        "            x = layer.forward(x)\n",
        "        return x\n",
        "\n",
        "    def backward(self, target):\n",
        "        for layer in self.layers[::-1]:\n",
        "            target = layer.backward(target)\n",
        "\n",
        "    def fit(self, data_x, data_y):\n",
        "      # losses = []\n",
        "      train_accuracies = []\n",
        "      test_accuracies = []\n",
        "      data_size = len(data_x)\n",
        "\n",
        "      # Permute the data, both x and y at the same time\n",
        "      np.random.seed(12) # set the seed\n",
        "      r = np.arange(len(data_x))\n",
        "      np.random.shuffle(r)\n",
        "      data_x = data_x[r]\n",
        "      data_y = data_y[r]\n",
        "\n",
        "      # Split in mini batches\n",
        "      number_batches = np.rint(data_size/mini_batch_size)\n",
        "      data_index = np.arange(data_size) # list of indices\n",
        "\n",
        "      # different batches, each containing the indices to retrieve the data\n",
        "      batches_index_list = np.split(data_index, number_batches)\n",
        "      batches_counter = 0\n",
        "      for _ in tqdm(range(self.epoch_number)):  # One iteration = one epoch\n",
        "          batches_counter = 0     # reset for each epoch\n",
        "\n",
        "          for _ in range(int(data_size / self.mini_batch_size)): # One iteration = one minibatch\n",
        "          # for _ in range(self.mini_batch_size): # One iteration = one minibatch\n",
        "              ### Mini-batch\n",
        "\n",
        "              # Stores the indices of the data points which are included in this batch\n",
        "              batch_indices = batches_index_list[batches_counter]\n",
        "              batch = data_x[batch_indices]\n",
        "              batch_labels = data_y[batch_indices]\n",
        "              batches_counter += 1\n",
        "\n",
        "              # Forward pass\n",
        "              predictions = self.forward(batch)\n",
        "              #print(predictions)\n",
        "              \n",
        "              # Check if predictions are yielding anomalous values.\n",
        "              if np.any(predictions == 0):\n",
        "                  print(\"There are some missing predictions\")\n",
        "\n",
        "              # Backward propagation to update gradients and weights\n",
        "              self.backward(batch_labels)\n",
        "              self.optimizer.step()\n",
        "      \n",
        "          # After 1 epoch -> Calculate cross entropy\n",
        "          # loss = -(batch_labels * np.log(predictions)).sum(axis=-1).mean()\n",
        "          # losses.append(loss)\n",
        "          # After each epoch, calculate train and test accuracies\n",
        "          y_train_pred = self.forward(X_train_mini)\n",
        "          train_acc = self.evaluate_acc(y_train_mini, y_train_pred, verbose=False)\n",
        "          train_accuracies.append(train_acc)\n",
        "          y_test_pred = self.forward(X_test_mini)\n",
        "          test_acc = self.evaluate_acc(y_test_mini, y_test_pred, verbose=False)\n",
        "          test_accuracies.append(test_acc)\n",
        "\n",
        "      # plt.plot(losses)\n",
        "      # plt.xlabel(\"Epoch\")\n",
        "      # plt.ylabel(\"Cross entropy loss\")\n",
        "      plt.title(\"Accuracy\")\n",
        "      plt.ylabel(\"Accuracy\")\n",
        "      plt.xlabel(\"Epoch\")\n",
        "      plt.plot(train_accuracies, label='train')\n",
        "      plt.plot(test_accuracies, label='test')\n",
        "      plt.legend()\n",
        "      plt.show()\n",
        "\n",
        "    def predict(self, data_x):\n",
        "      # Forward pass\n",
        "      return self.forward(data_x)\n",
        "\n",
        "    def evaluate_acc(self, y, y_pred, verbose=True):\n",
        "      # Same as A2 I think\n",
        "      accuracy = sum(y_pred.argmax(axis=1) == y.argmax(axis=1))\n",
        "      accuracy = accuracy / y.shape[0]\n",
        "      if verbose:\n",
        "        print(\"Accuracy: \", accuracy)\n",
        "      return accuracy\n",
        "\n",
        "    def check_grad(self, data_x, data_y):\n",
        "        losses = []\n",
        "        data_size = len(data_x)\n",
        "\n",
        "        # Permute the data, both x and y at the same time\n",
        "        np.random.seed(12) # set the seed\n",
        "        r = np.arange(len(data_x))\n",
        "        np.random.shuffle(r)\n",
        "        data_x = data_x[r]\n",
        "        data_y = data_y[r]\n",
        "\n",
        "        # Split in mini batches\n",
        "        number_batches = np.rint(data_size/mini_batch_size)\n",
        "        data_index = np.arange(data_size) # list of indices\n",
        "\n",
        "        # different batches, each containing the indices to retrieve the data\n",
        "        batches_index_list = np.split(data_index, number_batches)\n",
        "        batches_counter = 0\n",
        "\n",
        "        for _ in range(self.mini_batch_size): # One iteration = one minibatch\n",
        "              ### Mini-batch\n",
        "\n",
        "              # Stores the indices of the data points which are included in this batch\n",
        "              batch_indices = batches_index_list[batches_counter]\n",
        "              batch = data_x[batch_indices]\n",
        "              batch_labels = data_y[batch_indices]\n",
        "              batches_counter += 1\n",
        "\n",
        "              # Forward pass\n",
        "              predictions = self.forward(batch)\n",
        "              \n",
        "              # Check if predictions are yielding anomalous values.\n",
        "              if np.any(predictions == 0):\n",
        "                  print(\"There are some missing predictions\")\n",
        "\n",
        "              # Backward propagation to update gradients and weights\n",
        "              self.backward(batch_labels)\n",
        "              self.optimizer.step()\n"
      ]
    },
    {
      "cell_type": "code",
      "execution_count": null,
      "metadata": {
        "id": "eXWnz0x1QkSP"
      },
      "outputs": [],
      "source": [
        "class Optimizer:\n",
        "    def __init__(self, net: MLP):\n",
        "        self.net = net\n",
        "\n",
        "    def step(self):\n",
        "        for layer in self.net.layers[::-1]:\n",
        "            if layer.parameters is not None:\n",
        "                self.update(layer.parameters, layer.gradient)\n",
        "\n",
        "    def update(self, params, gradient):\n",
        "        raise NotImplementedError\n",
        "\n",
        "class GradientDescentOptimizer(Optimizer):\n",
        "    def __init__(self, net: MLP, lr: float, regularization=False, lmbd=0):\n",
        "        super().__init__(net)\n",
        "        self.lr = lr\n",
        "        self.regularization = regularization\n",
        "        self.lmbd = lmbd\n",
        "\n",
        "    def update(self, params, gradient):\n",
        "        for (p, g) in zip(params, gradient):\n",
        "            p -= (self.lr * g.mean(axis=0))"
      ]
    },
    {
      "cell_type": "markdown",
      "metadata": {
        "id": "oyolCE_Xm3yX"
      },
      "source": [
        "# Task 3: Exploration"
      ]
    },
    {
      "cell_type": "markdown",
      "metadata": {
        "id": "B2mGD8aNRPfD"
      },
      "source": [
        "## 1) Basic MLP's\n",
        "**Notes:**\n",
        "\n",
        "\n",
        "*   As expected, MLP with no hidden layers has very poor performance: acc 0.1\n",
        "*   1 hidden layer: significant improvement to 0.8449 accuracy, 100 epochs.\n",
        "*   2 layers w ReLU: 0.8548 with 100 epochs. Slight improvement over 1 layer. However, we see that the CE continuous to decrease even after 100 epochs, so we could run for longer (though it takes a long time)\n",
        "\n"
      ]
    },
    {
      "cell_type": "markdown",
      "metadata": {
        "id": "EHNmIXcre5kb"
      },
      "source": [
        "### 1.0 Small Perturbation\n",
        "We test the correctness of the weights. A numerical test is performed to check whether the weights change significantly throughout the fitting."
      ]
    },
    {
      "cell_type": "code",
      "execution_count": null,
      "metadata": {
        "colab": {
          "base_uri": "https://localhost:8080/"
        },
        "id": "tRWFXMA7e5IA",
        "outputId": "0ad77864-b8c0-4265-ea2e-6013a7219d11"
      },
      "outputs": [
        {
          "name": "stdout",
          "output_type": "stream",
          "text": [
            "23.136976778914686\n",
            "-10.421308616059832\n",
            "10.116434623341775\n",
            "1.6055764717748389\n",
            "20.516617382781988\n",
            "-2.036404112004675\n",
            "18.217015451682528\n",
            "-1.126090865000151\n",
            "10.110973391874722\n",
            "-2.8347585612209514\n",
            "11.541632005673819\n",
            "-2.7979012884316035\n",
            "15.948479514804603\n",
            "-4.223772975819884\n",
            "10.106032632961615\n",
            "-5.100213229525252\n",
            "9.42147480031963\n",
            "-2.4464767989229586\n",
            "3.645910950922371\n",
            "-1.5598203617628315\n",
            "10.38257693153355\n",
            "2.759499295734713\n",
            "9.282371937757716\n",
            "-0.00021458390619955026\n",
            "11.336498317859878\n",
            "-5.928369262164779\n",
            "0.7631861365098302\n",
            "0.38283758385659894\n",
            "14.441468465520302\n",
            "0.2140986055110261\n",
            "7.760623788044541\n",
            "-0.9155954217021645\n",
            "8.703990772573889\n",
            "-5.606143815839459\n",
            "7.26160909181317\n",
            "0.44376236019161297\n",
            "7.173172988927945\n",
            "0.1926949266817246\n",
            "14.219133781523396\n",
            "2.8097332460674806\n",
            "12.8543721888974\n",
            "5.529071245291561\n",
            "11.816675993259196\n",
            "-3.6513853274300345\n",
            "15.700441302612944\n",
            "-3.189518338331254\n",
            "4.988545843076508\n",
            "0.853339088280336\n",
            "4.215091986559116\n",
            "0.20602755057552713\n",
            "7.1984004534897394\n",
            "-0.7472010565834353\n",
            "13.17075284390512\n",
            "0.34734739529085346\n",
            "14.671840276037074\n",
            "0.25084290200538817\n",
            "16.428598748063905\n",
            "0.5090129207019345\n",
            "15.988890211815487\n",
            "0.36781599987989466\n",
            "9.901418074331758\n",
            "2.7441110717063566\n",
            "-2.940378607263483\n",
            "-1.2422979978055082\n",
            "2.0216402774053677\n",
            "-1.8081124153468409\n",
            "13.805645160402946\n",
            "1.604391286491591\n",
            "19.433826814463373\n",
            "3.5271099818601215\n",
            "-1.3128826026331808\n",
            "-4.369880457488762\n",
            "16.3866154423431\n",
            "-1.327383358784573\n",
            "9.511846599252749\n",
            "1.410604966167739\n",
            "4.097634054289756\n",
            "-1.5888232951510872\n",
            "5.260192992295742\n",
            "1.4303232376278174\n",
            "5.981954664946443\n",
            "-1.5780770468154515\n",
            "8.011206720226483\n",
            "-1.4520679769702838\n",
            "9.461972183544276\n",
            "3.089812139478454\n",
            "9.550172386241229\n",
            "0.7081965236466203\n",
            "9.842596870868192\n",
            "0.05724984930566279\n",
            "18.65557948121932\n",
            "3.3558926304522174\n",
            "9.360949881909164\n",
            "-0.22095605345384683\n",
            "8.125024564265004\n",
            "-1.6934109225985594\n",
            "-3.046117869054399\n",
            "-0.1347828515463334\n",
            "14.423262939544657\n",
            "1.8314102234739948\n",
            "3.7321583712390805\n",
            "1.9903751535821357\n",
            "9.859923011390492\n",
            "-1.0818553164426703\n",
            "10.114311521647323\n",
            "-1.235522084641616\n",
            "3.2376973990722036\n",
            "0.07671872026548954\n",
            "6.941024111029037\n",
            "-1.5549158405292474\n",
            "8.90028335476245\n",
            "1.1492300444615466\n",
            "5.759867249821582\n",
            "0.4870031489190296\n",
            "11.357964480041005\n",
            "-0.07314788774692715\n",
            "7.345148489434905\n",
            "0.13480514482466788\n",
            "2.6973323130619065\n",
            "1.2125397574891394\n",
            "7.565248338892161\n",
            "-1.9843355403281748\n",
            "3.63593541941043\n",
            "-0.18021992786998453\n",
            "10.083042933928255\n",
            "1.8506248977701034\n",
            "-4.9263174872749005\n",
            "-5.081875542600756\n",
            "10.803577854545665\n",
            "0.5719492435218854\n",
            "-6.556144160896338\n",
            "-1.6258802304491837\n",
            "8.114707839013136\n",
            "-0.5245070155979192\n",
            "3.406911730508\n",
            "-0.7505832400056534\n",
            "5.819159909492555\n",
            "-2.0262731936782075\n",
            "7.394098489044154\n",
            "-2.01392680310164\n",
            "7.814766611602408\n",
            "-0.3086348954184359\n",
            "5.9356650261577215\n",
            "-1.8239532550978765\n",
            "4.1796014649264634\n",
            "2.1684257944798446\n",
            "7.435087212570579\n",
            "-2.571932355976969\n",
            "10.026992036671345\n",
            "2.1767604607703106\n",
            "5.229681576679468\n",
            "0.6064837521080335\n",
            "2.6984955603381877\n",
            "1.0616254542128445\n",
            "11.259978904831769\n",
            "0.9994408856073278\n",
            "3.1187392224296673\n",
            "-0.18208936580776935\n",
            "15.364447492061117\n",
            "3.9972391618903202\n",
            "7.32640286216224\n",
            "0.31213573947752593\n",
            "-4.189246638475197\n",
            "-1.6507812006238964\n",
            "-2.8029305099153135\n",
            "-2.5773275069695956\n",
            "8.999330702863517\n",
            "-0.09675584777824042\n",
            "8.976713772312905\n",
            "0.09146425838935102\n",
            "1.914453662266169\n",
            "-2.186222047839692\n",
            "6.070585989448318\n",
            "-1.0427378072108695\n",
            "0.1381007308509652\n",
            "-2.452185299262055\n",
            "0.1828861173613916\n",
            "0.8862734546255524\n",
            "11.83465379028803\n",
            "-0.3248166180469525\n",
            "8.473189083701982\n",
            "-0.0650906883947755\n",
            "7.080359054612018\n",
            "1.0137237715923675\n",
            "10.301360831022066\n",
            "-1.1107413655508935\n",
            "-4.98877179566648\n",
            "1.0074234779722246\n",
            "5.866488983485851\n",
            "-0.6898481785810873\n",
            "7.546924507551012\n",
            "1.913817015974928\n",
            "7.818339042842126\n",
            "0.9353335883588443\n",
            "7.2163903297450815\n",
            "0.18313954797122278\n",
            "-4.759460381364988\n",
            "-2.046814984169032\n",
            "5.040363904029732\n",
            "1.2012876027256425\n",
            "3.134263559800843\n",
            "-1.1609614603003138\n",
            "-0.7404723945114711\n",
            "-1.4826685656998961\n",
            "4.99738526116289\n",
            "-1.3448662627979502\n",
            "0.00029340974094793637\n",
            "-0.9186170046859843\n",
            "1.5998732116884185\n",
            "-1.5005511500021385\n",
            "3.3011021471907043\n",
            "1.7014841091622657\n",
            "-1.7902157534166463\n",
            "-0.06678391173409182\n",
            "0.7996660666975686\n",
            "0.7718966799075133\n",
            "2.2702250301875893\n",
            "0.5092964272535028\n",
            "3.0589102806288793\n",
            "0.28120492601146907\n",
            "2.066131399303117\n",
            "-2.111853092401361\n",
            "7.020701175974864\n",
            "-0.5081560061626078\n",
            "3.6856508067728555\n",
            "1.4200475462189388\n",
            "5.550550952193589\n",
            "-0.7306454108402249\n",
            "8.307516097261214\n",
            "-0.2536538090680551\n",
            "0.7832340997993015\n",
            "-1.211540023859925\n",
            "0.4676156351024474\n",
            "0.7801240542448795\n",
            "10.233134162263013\n",
            "-0.4561169220096417\n",
            "1.491613677018222\n",
            "-0.1376854186219134\n",
            "12.976740393355612\n",
            "0.9653355448335788\n",
            "3.095572154165893\n",
            "-0.7627768638940324\n",
            "2.126248777045703\n",
            "0.4126405883653206\n",
            "1.2141762928408184\n",
            "-1.294355911340972\n",
            "5.808018244124469\n",
            "-1.2920551739625807\n",
            "3.3710007230070005\n",
            "-0.2793207443119172\n",
            "3.6508197354123695\n",
            "-1.6993730866943224\n",
            "3.027969164293154\n",
            "1.1566612556634936\n",
            "2.0309586901134935\n",
            "0.8455875777357846\n",
            "-4.806815567803824\n",
            "-1.6370030664347723\n",
            "5.5670859921974625\n",
            "-2.1669368521770593\n",
            "-1.1828568458049915\n",
            "-1.0716245668618285\n",
            "12.540996152665684\n",
            "2.9089783026847726\n",
            "7.597165918582505\n",
            "-0.604654815106187\n",
            "2.601518644951284\n",
            "-0.484706674797053\n",
            "-3.0549266671897612\n",
            "-0.1153594553215953\n",
            "6.460312640399479\n",
            "1.079720846064447\n",
            "6.036062671910258\n",
            "0.8997240286134911\n",
            "0.39290926068247245\n",
            "0.763847296525455\n",
            "5.825837590123228\n",
            "-0.895388296839883\n",
            "-0.5663240099096356\n",
            "-2.235483265167204\n",
            "2.584363301139092\n",
            "-1.934546656201519\n",
            "1.0419118012805484\n",
            "2.5401504899491556\n",
            "5.391152413380951\n",
            "-0.6139678987437946\n",
            "-2.7135095947983245\n",
            "-4.227636907216947\n",
            "8.750292224135592\n",
            "1.6783936018782697\n",
            "-3.102985868252972\n",
            "-0.5689095416983037\n",
            "1.653590286920803\n",
            "-1.6957969251052418\n",
            "5.017841697707581\n",
            "-1.9688336294620967\n",
            "0.7691008718779813\n",
            "-0.9577441062447178\n",
            "1.192465859389813\n",
            "-0.9411095902578381\n",
            "-0.0037005065678386018\n",
            "3.4532781967300252\n",
            "11.386789822154242\n",
            "1.2568932561407564\n",
            "0.11750884709726961\n",
            "-3.558731975772389\n",
            "8.396567818813594\n",
            "2.0000157974209287\n",
            "-5.873117370214231\n",
            "-0.039474912227888126\n",
            "3.640961132589382\n",
            "-0.5717389228721004\n",
            "8.892481595523805\n",
            "0.39883261138129456\n",
            "4.227111460863853\n",
            "1.2447050501407375\n",
            "3.3312047342803908\n",
            "1.3889732031202584\n",
            "2.8915133842843943\n",
            "1.3494720008111472\n",
            "2.1500094149473625\n",
            "-2.6266159913745923\n",
            "6.586683554132833\n",
            "-0.2187860559388355\n",
            "-2.330190618238248\n",
            "-1.1120050658064429\n",
            "-0.04603073477937869\n",
            "-0.6029804211493683\n",
            "5.227355970305325\n",
            "0.4244313345225237\n",
            "-0.4089492744441259\n",
            "-1.3800075748804375\n",
            "4.946497256241855\n",
            "-0.22908146490863146\n",
            "4.919472118558588\n",
            "-1.6305065742017177\n",
            "5.477319930946578\n",
            "-1.3093355732962664\n",
            "-2.3597722886847805\n",
            "-0.7142347158151097\n",
            "-1.5914818352058546\n",
            "-0.371840158663872\n",
            "-1.421894957331915\n",
            "-2.3095076073786913\n",
            "1.5738718772695393\n",
            "1.596542809068069\n",
            "-1.5863794722292823\n",
            "0.32138132155523635\n",
            "4.276335019426369\n",
            "-0.8352879277140346\n",
            "4.694878441569017\n",
            "3.3037849789252505\n",
            "2.2244286412842484\n",
            "-1.273501482046413\n",
            "6.535697849585631\n",
            "1.962198581395569\n",
            "7.9639359995553605\n",
            "-1.4863985597912688\n",
            "7.728827355890644\n",
            "0.9590756633315323\n",
            "-3.138918636125254\n",
            "-0.8977558252354356\n",
            "-1.550335149147486\n",
            "0.392199694942974\n",
            "-4.272781661818215\n",
            "-0.85745597289133\n",
            "6.282704134719097\n",
            "1.407417649090803\n",
            "-0.2522185571507407\n",
            "1.1814307754320907\n",
            "2.8752108249818775\n",
            "0.6820643605465193\n",
            "8.63752482871405\n",
            "-2.020868805630016\n",
            "3.0594421218665957\n",
            "-0.2636340923345415\n",
            "3.0008017404270504\n",
            "0.1363099855211658\n",
            "2.3118267300503703\n",
            "1.4170769446764098\n",
            "-1.6755003162671755\n",
            "-3.0070484768884853\n",
            "3.7564884536323007\n",
            "-0.11769643037951028\n",
            "-3.0488835012221216\n",
            "-0.37895517834840575\n",
            "-0.5898789012803718\n",
            "-2.659283637740373\n",
            "2.0599252081865416\n",
            "0.4449526969096951\n",
            "6.357280213364902\n",
            "-1.5388396334969912\n",
            "-1.5611415271621354\n",
            "-1.8026675263627112\n",
            "2.8127866258387257\n",
            "-0.7346327990376267\n",
            "-2.6810752729033993\n",
            "1.005138727805388\n",
            "0.7001867530220807\n",
            "2.6154523879995395\n"
          ]
        }
      ],
      "source": [
        "mini_batch_size = 200\n",
        "epoch_number = 50\n",
        "numHiddenLayers = 1\n",
        "HIDDEN_SIZE = 128\n",
        "\n",
        "inputSize = X_train.shape[1]\n",
        "outputSize = y_train.shape[1]\n",
        "model = MLP(\"relu\", numHiddenLayers , HIDDEN_SIZE, inputSize, outputSize, epoch_number, mini_batch_size, small_perturb=True)\n",
        "\n",
        "model.check_grad(X_train, y_train)"
      ]
    },
    {
      "cell_type": "markdown",
      "metadata": {
        "id": "08jAd372SlTu"
      },
      "source": [
        "### 1.1 No hidden layers.\n",
        "A MLP with only two linear functions and a softmax layer."
      ]
    },
    {
      "cell_type": "code",
      "execution_count": null,
      "metadata": {
        "colab": {
          "base_uri": "https://localhost:8080/",
          "height": 400
        },
        "id": "rv1yQVkESlyb",
        "outputId": "9880dac9-f105-4744-8769-f651e1881bb8"
      },
      "outputs": [
        {
          "output_type": "stream",
          "name": "stdout",
          "text": [
            "10\n",
            "[<__main__.LinearLayer object at 0x7f81b5707b80>, <__main__.SoftmaxOutputLayer object at 0x7f81b5707f40>]\n"
          ]
        },
        {
          "output_type": "stream",
          "name": "stderr",
          "text": [
            "100%|██████████| 75/75 [05:20<00:00,  4.27s/it]\n"
          ]
        },
        {
          "output_type": "display_data",
          "data": {
            "text/plain": [
              "<Figure size 432x288 with 1 Axes>"
            ],
            "image/png": "[encoded data removed]"
          },
          "metadata": {
            "needs_background": "light"
          }
        },
        {
          "output_type": "stream",
          "name": "stdout",
          "text": [
            "Accuracy:  0.8266\n"
          ]
        },
        {
          "output_type": "execute_result",
          "data": {
            "text/plain": [
              "0.8266"
            ]
          },
          "metadata": {},
          "execution_count": 29
        }
      ],
      "source": [
        "mini_batch_size = 200\n",
        "epoch_number = 75\n",
        "numHiddenLayers = 0\n",
        "# Since we are directly feeding into softmax, make hidden size = 10.\n",
        "HIDDEN_SIZE = 0\n",
        "\n",
        "inputSize = X_train.shape[1]\n",
        "outputSize = y_train.shape[1]\n",
        "model = MLP(\"relu\", numHiddenLayers , HIDDEN_SIZE, inputSize, outputSize, epoch_number, mini_batch_size)\n",
        "\n",
        "model.fit(X_train, y_train)\n",
        "\n",
        "y_pred = model.predict(X_test)\n",
        "model.evaluate_acc(y_test, y_pred)"
      ]
    },
    {
      "cell_type": "markdown",
      "metadata": {
        "id": "Y4TrOGIWQoQr"
      },
      "source": [
        "### 1.2 One Hidden Layer\n",
        "A MLP with 1 hidden layer having 128 units and ReLU activations."
      ]
    },
    {
      "cell_type": "code",
      "execution_count": null,
      "metadata": {
        "colab": {
          "base_uri": "https://localhost:8080/",
          "height": 363,
          "referenced_widgets": [
            "6d727204e3aa40d4812a608675a24661"
          ]
        },
        "id": "uG4OGuGkQxP2",
        "outputId": "b8efcfd9-1291-4343-c8a3-e3582b448d7b"
      },
      "outputs": [
        {
          "data": {
            "application/vnd.jupyter.widget-view+json": {
              "model_id": "6d727204e3aa40d4812a608675a24661",
              "version_major": 2,
              "version_minor": 0
            },
            "text/plain": [
              "  0%|          | 0/75 [00:00<?, ?it/s]"
            ]
          },
          "metadata": {},
          "output_type": "display_data"
        },
        {
          "data": {
            "image/png": "[encoded data removed]",
            "text/plain": [
              "<Figure size 432x288 with 1 Axes>"
            ]
          },
          "metadata": {},
          "output_type": "display_data"
        },
        {
          "name": "stdout",
          "output_type": "stream",
          "text": [
            "Accuracy:  0.8512\n"
          ]
        },
        {
          "data": {
            "text/plain": [
              "0.8512"
            ]
          },
          "execution_count": 22,
          "metadata": {},
          "output_type": "execute_result"
        }
      ],
      "source": [
        "mini_batch_size = 200\n",
        "epoch_number = 75\n",
        "numHiddenLayers = 1\n",
        "HIDDEN_SIZE = 128\n",
        "\n",
        "inputSize = X_train.shape[1]\n",
        "outputSize = y_train.shape[1]\n",
        "model = MLP(\"relu\", numHiddenLayers , HIDDEN_SIZE, inputSize, outputSize, epoch_number, mini_batch_size)\n",
        "\n",
        "model.fit(X_train, y_train)\n",
        "\n",
        "y_pred = model.predict(X_test)\n",
        "model.evaluate_acc(y_test, y_pred)"
      ]
    },
    {
      "cell_type": "code",
      "execution_count": null,
      "metadata": {
        "id": "FuXNfbIRalTR"
      },
      "outputs": [],
      "source": [
        "# Accuracy from 1-layer MLP w ReLU, 100 epochs\n",
        "relu_acc = 0.8555"
      ]
    },
    {
      "cell_type": "markdown",
      "metadata": {
        "id": "_owSHqQ_SbJ3"
      },
      "source": [
        "### 1.3 Two Hidden Layers\n",
        "A MLP with 2 hidden layers each having 128 units with ReLU activations."
      ]
    },
    {
      "cell_type": "code",
      "execution_count": null,
      "metadata": {
        "colab": {
          "base_uri": "https://localhost:8080/",
          "height": 1000
        },
        "id": "ntB6iWOeSiq1",
        "outputId": "5daed191-4fb1-4e73-a9b5-10e7ddc54ab1"
      },
      "outputs": [
        {
          "name": "stderr",
          "output_type": "stream",
          "text": [
            "  2%|▏         | 1/50 [00:24<19:37, 24.03s/it]"
          ]
        },
        {
          "name": "stdout",
          "output_type": "stream",
          "text": [
            "Accuracy:  0.704\n"
          ]
        },
        {
          "name": "stderr",
          "output_type": "stream",
          "text": [
            "\r  4%|▍         | 2/50 [00:48<19:13, 24.03s/it]"
          ]
        },
        {
          "name": "stdout",
          "output_type": "stream",
          "text": [
            "Accuracy:  0.726\n"
          ]
        },
        {
          "name": "stderr",
          "output_type": "stream",
          "text": [
            "\r  6%|▌         | 3/50 [01:12<18:48, 24.01s/it]"
          ]
        },
        {
          "name": "stdout",
          "output_type": "stream",
          "text": [
            "Accuracy:  0.764\n"
          ]
        },
        {
          "name": "stderr",
          "output_type": "stream",
          "text": [
            "\r  8%|▊         | 4/50 [01:36<18:25, 24.03s/it]"
          ]
        },
        {
          "name": "stdout",
          "output_type": "stream",
          "text": [
            "Accuracy:  0.782\n"
          ]
        },
        {
          "name": "stderr",
          "output_type": "stream",
          "text": [
            "\r 10%|█         | 5/50 [02:00<18:14, 24.33s/it]"
          ]
        },
        {
          "name": "stdout",
          "output_type": "stream",
          "text": [
            "Accuracy:  0.788\n"
          ]
        },
        {
          "name": "stderr",
          "output_type": "stream",
          "text": [
            "\r 12%|█▏        | 6/50 [02:25<17:46, 24.24s/it]"
          ]
        },
        {
          "name": "stdout",
          "output_type": "stream",
          "text": [
            "Accuracy:  0.79\n"
          ]
        },
        {
          "name": "stderr",
          "output_type": "stream",
          "text": [
            "\r 14%|█▍        | 7/50 [02:49<17:19, 24.18s/it]"
          ]
        },
        {
          "name": "stdout",
          "output_type": "stream",
          "text": [
            "Accuracy:  0.802\n"
          ]
        },
        {
          "name": "stderr",
          "output_type": "stream",
          "text": [
            "\r 16%|█▌        | 8/50 [03:13<16:53, 24.12s/it]"
          ]
        },
        {
          "name": "stdout",
          "output_type": "stream",
          "text": [
            "Accuracy:  0.808\n"
          ]
        },
        {
          "name": "stderr",
          "output_type": "stream",
          "text": [
            "\r 18%|█▊        | 9/50 [03:37<16:27, 24.10s/it]"
          ]
        },
        {
          "name": "stdout",
          "output_type": "stream",
          "text": [
            "Accuracy:  0.818\n"
          ]
        },
        {
          "name": "stderr",
          "output_type": "stream",
          "text": [
            "\r 20%|██        | 10/50 [04:01<16:02, 24.05s/it]"
          ]
        },
        {
          "name": "stdout",
          "output_type": "stream",
          "text": [
            "Accuracy:  0.822\n"
          ]
        },
        {
          "name": "stderr",
          "output_type": "stream",
          "text": [
            "\r 22%|██▏       | 11/50 [04:25<15:47, 24.31s/it]"
          ]
        },
        {
          "name": "stdout",
          "output_type": "stream",
          "text": [
            "Accuracy:  0.824\n"
          ]
        },
        {
          "name": "stderr",
          "output_type": "stream",
          "text": [
            "\r 24%|██▍       | 12/50 [04:49<15:20, 24.22s/it]"
          ]
        },
        {
          "name": "stdout",
          "output_type": "stream",
          "text": [
            "Accuracy:  0.822\n"
          ]
        },
        {
          "name": "stderr",
          "output_type": "stream",
          "text": [
            "\r 26%|██▌       | 13/50 [05:13<14:52, 24.13s/it]"
          ]
        },
        {
          "name": "stdout",
          "output_type": "stream",
          "text": [
            "Accuracy:  0.824\n"
          ]
        },
        {
          "name": "stderr",
          "output_type": "stream",
          "text": [
            "\r 28%|██▊       | 14/50 [05:37<14:27, 24.09s/it]"
          ]
        },
        {
          "name": "stdout",
          "output_type": "stream",
          "text": [
            "Accuracy:  0.826\n"
          ]
        },
        {
          "name": "stderr",
          "output_type": "stream",
          "text": [
            "\r 30%|███       | 15/50 [06:01<14:02, 24.07s/it]"
          ]
        },
        {
          "name": "stdout",
          "output_type": "stream",
          "text": [
            "Accuracy:  0.83\n"
          ]
        },
        {
          "name": "stderr",
          "output_type": "stream",
          "text": [
            "\r 32%|███▏      | 16/50 [06:25<13:38, 24.06s/it]"
          ]
        },
        {
          "name": "stdout",
          "output_type": "stream",
          "text": [
            "Accuracy:  0.836\n"
          ]
        },
        {
          "name": "stderr",
          "output_type": "stream",
          "text": [
            "\r 34%|███▍      | 17/50 [06:50<13:14, 24.07s/it]"
          ]
        },
        {
          "name": "stdout",
          "output_type": "stream",
          "text": [
            "Accuracy:  0.836\n"
          ]
        },
        {
          "name": "stderr",
          "output_type": "stream",
          "text": [
            "\r 36%|███▌      | 18/50 [07:15<12:59, 24.34s/it]"
          ]
        },
        {
          "name": "stdout",
          "output_type": "stream",
          "text": [
            "Accuracy:  0.84\n"
          ]
        },
        {
          "name": "stderr",
          "output_type": "stream",
          "text": [
            "\r 38%|███▊      | 19/50 [07:39<12:32, 24.26s/it]"
          ]
        },
        {
          "name": "stdout",
          "output_type": "stream",
          "text": [
            "Accuracy:  0.838\n"
          ]
        },
        {
          "name": "stderr",
          "output_type": "stream",
          "text": [
            "\r 40%|████      | 20/50 [08:03<12:05, 24.19s/it]"
          ]
        },
        {
          "name": "stdout",
          "output_type": "stream",
          "text": [
            "Accuracy:  0.838\n"
          ]
        },
        {
          "name": "stderr",
          "output_type": "stream",
          "text": [
            "\r 42%|████▏     | 21/50 [08:27<11:40, 24.14s/it]"
          ]
        },
        {
          "name": "stdout",
          "output_type": "stream",
          "text": [
            "Accuracy:  0.838\n"
          ]
        },
        {
          "name": "stderr",
          "output_type": "stream",
          "text": [
            "\r 44%|████▍     | 22/50 [08:51<11:15, 24.14s/it]"
          ]
        },
        {
          "name": "stdout",
          "output_type": "stream",
          "text": [
            "Accuracy:  0.838\n"
          ]
        },
        {
          "name": "stderr",
          "output_type": "stream",
          "text": [
            "\r 46%|████▌     | 23/50 [09:15<10:51, 24.13s/it]"
          ]
        },
        {
          "name": "stdout",
          "output_type": "stream",
          "text": [
            "Accuracy:  0.838\n"
          ]
        },
        {
          "name": "stderr",
          "output_type": "stream",
          "text": [
            "\r 48%|████▊     | 24/50 [09:40<10:33, 24.38s/it]"
          ]
        },
        {
          "name": "stdout",
          "output_type": "stream",
          "text": [
            "Accuracy:  0.84\n"
          ]
        },
        {
          "name": "stderr",
          "output_type": "stream",
          "text": [
            "\r 50%|█████     | 25/50 [10:04<10:07, 24.29s/it]"
          ]
        },
        {
          "name": "stdout",
          "output_type": "stream",
          "text": [
            "Accuracy:  0.84\n"
          ]
        },
        {
          "name": "stderr",
          "output_type": "stream",
          "text": [
            "\r 52%|█████▏    | 26/50 [10:28<09:41, 24.22s/it]"
          ]
        },
        {
          "name": "stdout",
          "output_type": "stream",
          "text": [
            "Accuracy:  0.842\n"
          ]
        },
        {
          "name": "stderr",
          "output_type": "stream",
          "text": [
            "\r 54%|█████▍    | 27/50 [10:52<09:14, 24.12s/it]"
          ]
        },
        {
          "name": "stdout",
          "output_type": "stream",
          "text": [
            "Accuracy:  0.844\n"
          ]
        },
        {
          "name": "stderr",
          "output_type": "stream",
          "text": [
            "\r 56%|█████▌    | 28/50 [11:16<08:49, 24.09s/it]"
          ]
        },
        {
          "name": "stdout",
          "output_type": "stream",
          "text": [
            "Accuracy:  0.846\n"
          ]
        },
        {
          "name": "stderr",
          "output_type": "stream",
          "text": [
            "\r 58%|█████▊    | 29/50 [11:40<08:24, 24.03s/it]"
          ]
        },
        {
          "name": "stdout",
          "output_type": "stream",
          "text": [
            "Accuracy:  0.844\n"
          ]
        },
        {
          "name": "stderr",
          "output_type": "stream",
          "text": [
            "\r 60%|██████    | 30/50 [12:05<08:05, 24.26s/it]"
          ]
        },
        {
          "name": "stdout",
          "output_type": "stream",
          "text": [
            "Accuracy:  0.844\n"
          ]
        },
        {
          "name": "stderr",
          "output_type": "stream",
          "text": [
            "\r 62%|██████▏   | 31/50 [12:29<07:39, 24.18s/it]"
          ]
        },
        {
          "name": "stdout",
          "output_type": "stream",
          "text": [
            "Accuracy:  0.846\n"
          ]
        },
        {
          "name": "stderr",
          "output_type": "stream",
          "text": [
            "\r 64%|██████▍   | 32/50 [12:53<07:14, 24.14s/it]"
          ]
        },
        {
          "name": "stdout",
          "output_type": "stream",
          "text": [
            "Accuracy:  0.848\n"
          ]
        },
        {
          "name": "stderr",
          "output_type": "stream",
          "text": [
            "\r 66%|██████▌   | 33/50 [13:17<06:49, 24.09s/it]"
          ]
        },
        {
          "name": "stdout",
          "output_type": "stream",
          "text": [
            "Accuracy:  0.848\n"
          ]
        },
        {
          "name": "stderr",
          "output_type": "stream",
          "text": [
            "\r 68%|██████▊   | 34/50 [13:41<06:24, 24.05s/it]"
          ]
        },
        {
          "name": "stdout",
          "output_type": "stream",
          "text": [
            "Accuracy:  0.848\n"
          ]
        },
        {
          "name": "stderr",
          "output_type": "stream",
          "text": [
            "\r 70%|███████   | 35/50 [14:05<06:00, 24.04s/it]"
          ]
        },
        {
          "name": "stdout",
          "output_type": "stream",
          "text": [
            "Accuracy:  0.85\n"
          ]
        },
        {
          "name": "stderr",
          "output_type": "stream",
          "text": [
            "\r 72%|███████▏  | 36/50 [14:28<05:36, 24.00s/it]"
          ]
        },
        {
          "name": "stdout",
          "output_type": "stream",
          "text": [
            "Accuracy:  0.85\n"
          ]
        },
        {
          "name": "stderr",
          "output_type": "stream",
          "text": [
            "\r 74%|███████▍  | 37/50 [14:53<05:15, 24.28s/it]"
          ]
        },
        {
          "name": "stdout",
          "output_type": "stream",
          "text": [
            "Accuracy:  0.854\n"
          ]
        },
        {
          "name": "stderr",
          "output_type": "stream",
          "text": [
            "\r 76%|███████▌  | 38/50 [15:17<04:50, 24.17s/it]"
          ]
        },
        {
          "name": "stdout",
          "output_type": "stream",
          "text": [
            "Accuracy:  0.854\n"
          ]
        },
        {
          "name": "stderr",
          "output_type": "stream",
          "text": [
            "\r 78%|███████▊  | 39/50 [15:41<04:25, 24.11s/it]"
          ]
        },
        {
          "name": "stdout",
          "output_type": "stream",
          "text": [
            "Accuracy:  0.854\n"
          ]
        },
        {
          "name": "stderr",
          "output_type": "stream",
          "text": [
            "\r 80%|████████  | 40/50 [16:05<04:00, 24.08s/it]"
          ]
        },
        {
          "name": "stdout",
          "output_type": "stream",
          "text": [
            "Accuracy:  0.856\n"
          ]
        },
        {
          "name": "stderr",
          "output_type": "stream",
          "text": [
            "\r 82%|████████▏ | 41/50 [16:29<03:36, 24.07s/it]"
          ]
        },
        {
          "name": "stdout",
          "output_type": "stream",
          "text": [
            "Accuracy:  0.86\n"
          ]
        },
        {
          "name": "stderr",
          "output_type": "stream",
          "text": [
            "\r 84%|████████▍ | 42/50 [16:53<03:12, 24.04s/it]"
          ]
        },
        {
          "name": "stdout",
          "output_type": "stream",
          "text": [
            "Accuracy:  0.86\n"
          ]
        },
        {
          "name": "stderr",
          "output_type": "stream",
          "text": [
            "\r 86%|████████▌ | 43/50 [17:18<02:49, 24.25s/it]"
          ]
        },
        {
          "name": "stdout",
          "output_type": "stream",
          "text": [
            "Accuracy:  0.862\n"
          ]
        },
        {
          "name": "stderr",
          "output_type": "stream",
          "text": [
            "\r 88%|████████▊ | 44/50 [17:42<02:24, 24.10s/it]"
          ]
        },
        {
          "name": "stdout",
          "output_type": "stream",
          "text": [
            "Accuracy:  0.862\n"
          ]
        },
        {
          "name": "stderr",
          "output_type": "stream",
          "text": [
            "\r 90%|█████████ | 45/50 [18:06<02:00, 24.06s/it]"
          ]
        },
        {
          "name": "stdout",
          "output_type": "stream",
          "text": [
            "Accuracy:  0.864\n"
          ]
        },
        {
          "name": "stderr",
          "output_type": "stream",
          "text": [
            "\r 92%|█████████▏| 46/50 [18:30<01:36, 24.02s/it]"
          ]
        },
        {
          "name": "stdout",
          "output_type": "stream",
          "text": [
            "Accuracy:  0.864\n"
          ]
        },
        {
          "name": "stderr",
          "output_type": "stream",
          "text": [
            "\r 94%|█████████▍| 47/50 [18:54<01:11, 23.96s/it]"
          ]
        },
        {
          "name": "stdout",
          "output_type": "stream",
          "text": [
            "Accuracy:  0.864\n"
          ]
        },
        {
          "name": "stderr",
          "output_type": "stream",
          "text": [
            "\r 96%|█████████▌| 48/50 [19:17<00:47, 23.95s/it]"
          ]
        },
        {
          "name": "stdout",
          "output_type": "stream",
          "text": [
            "Accuracy:  0.864\n"
          ]
        },
        {
          "name": "stderr",
          "output_type": "stream",
          "text": [
            "\r 98%|█████████▊| 49/50 [19:41<00:23, 23.90s/it]"
          ]
        },
        {
          "name": "stdout",
          "output_type": "stream",
          "text": [
            "Accuracy:  0.864\n"
          ]
        },
        {
          "name": "stderr",
          "output_type": "stream",
          "text": [
            "100%|██████████| 50/50 [20:06<00:00, 24.13s/it]"
          ]
        },
        {
          "name": "stdout",
          "output_type": "stream",
          "text": [
            "Accuracy:  0.862\n"
          ]
        },
        {
          "name": "stderr",
          "output_type": "stream",
          "text": [
            "\n"
          ]
        },
        {
          "data": {
            "image/png": "[encoded data removed]",
            "text/plain": [
              "<Figure size 432x288 with 1 Axes>"
            ]
          },
          "metadata": {},
          "output_type": "display_data"
        },
        {
          "name": "stdout",
          "output_type": "stream",
          "text": [
            "Accuracy:  0.8508\n"
          ]
        },
        {
          "data": {
            "text/plain": [
              "0.8508"
            ]
          },
          "execution_count": 25,
          "metadata": {},
          "output_type": "execute_result"
        }
      ],
      "source": [
        "mini_batch_size = 200\n",
        "epoch_number = 75\n",
        "numHiddenLayers = 2\n",
        "HIDDEN_SIZE = 128\n",
        "\n",
        "inputSize = X_train.shape[1]\n",
        "outputSize = y_train.shape[1]\n",
        "model = MLP(\"relu\", numHiddenLayers , HIDDEN_SIZE, inputSize, outputSize, epoch_number, mini_batch_size)\n",
        "\n",
        "model.fit(X_train, y_train)\n",
        "\n",
        "y_pred = model.predict(X_test)\n",
        "model.evaluate_acc(y_test, y_pred)"
      ]
    },
    {
      "cell_type": "code",
      "execution_count": null,
      "metadata": {
        "id": "ECwmdBHXoleg"
      },
      "outputs": [],
      "source": [
        "# Accuracy from 2-layer MLP w ReLU, 100 epochs\n",
        "relu_acc = 0.8508"
      ]
    },
    {
      "cell_type": "markdown",
      "metadata": {
        "id": "dRyRPfLFpb2r"
      },
      "source": [
        "## 2) Activation Functions\n",
        "\n",
        "* Leaky ReLU accuracy is 0.8507 and Tanh accuracy is 0.8515. Both of these are clearly inferior to basic ReLU which provides an accuracy of 0.8548, though all of them still perform fairly similarly. \n",
        "* Leaky ReLU therefore is not as great an option, especially considering the added complexity of an extra hyperparameter. We could perform hyperparamter optimization on this, but due to limited computational power we opted not to. \n",
        "* However, they still all perform fairly similarly since they all prevent the problem of vanishing gradients by being non-saturating\n",
        "* Tanh and Leaky ReLU's accuracies are negligibly different. Additionally, their accuracies are negligibly different the regular ReLU activation function. This is due to the model not being complex and large enough to end up having the vanishing gradient problem.\n",
        "The cross-entropy losses for the activation functions shows that there is not a significant impact from the vanishing gradient problem."
      ]
    },
    {
      "cell_type": "markdown",
      "metadata": {
        "id": "HsgDdHQCpur6"
      },
      "source": [
        "### Leaky ReLU\n"
      ]
    },
    {
      "cell_type": "code",
      "execution_count": null,
      "metadata": {
        "colab": {
          "background_save": true,
          "base_uri": "https://localhost:8080/",
          "height": 1000
        },
        "id": "WDYbYBzSp3FI",
        "outputId": "f16285ed-5084-4b4f-d14f-6b3a2a0c8c74"
      },
      "outputs": [
        {
          "name": "stderr",
          "output_type": "stream",
          "text": [
            "  1%|          | 1/100 [00:24<39:47, 24.12s/it]"
          ]
        },
        {
          "name": "stdout",
          "output_type": "stream",
          "text": [
            "Accuracy:  0.708\n"
          ]
        },
        {
          "name": "stderr",
          "output_type": "stream",
          "text": [
            "\r  2%|▏         | 2/100 [00:48<39:21, 24.10s/it]"
          ]
        },
        {
          "name": "stdout",
          "output_type": "stream",
          "text": [
            "Accuracy:  0.73\n"
          ]
        },
        {
          "name": "stderr",
          "output_type": "stream",
          "text": [
            "\r  3%|▎         | 3/100 [01:12<38:50, 24.02s/it]"
          ]
        },
        {
          "name": "stdout",
          "output_type": "stream",
          "text": [
            "Accuracy:  0.768\n"
          ]
        },
        {
          "name": "stderr",
          "output_type": "stream",
          "text": [
            "\r  4%|▍         | 4/100 [01:36<38:25, 24.01s/it]"
          ]
        },
        {
          "name": "stdout",
          "output_type": "stream",
          "text": [
            "Accuracy:  0.786\n"
          ]
        },
        {
          "name": "stderr",
          "output_type": "stream",
          "text": [
            "\r  5%|▌         | 5/100 [02:00<37:59, 24.00s/it]"
          ]
        },
        {
          "name": "stdout",
          "output_type": "stream",
          "text": [
            "Accuracy:  0.788\n"
          ]
        },
        {
          "name": "stderr",
          "output_type": "stream",
          "text": [
            "\r  6%|▌         | 6/100 [02:24<37:36, 24.01s/it]"
          ]
        },
        {
          "name": "stdout",
          "output_type": "stream",
          "text": [
            "Accuracy:  0.792\n"
          ]
        },
        {
          "name": "stderr",
          "output_type": "stream",
          "text": [
            "\r  7%|▋         | 7/100 [02:49<37:41, 24.32s/it]"
          ]
        },
        {
          "name": "stdout",
          "output_type": "stream",
          "text": [
            "Accuracy:  0.8\n"
          ]
        },
        {
          "name": "stderr",
          "output_type": "stream",
          "text": [
            "\r  8%|▊         | 8/100 [03:13<37:10, 24.24s/it]"
          ]
        },
        {
          "name": "stdout",
          "output_type": "stream",
          "text": [
            "Accuracy:  0.804\n"
          ]
        },
        {
          "name": "stderr",
          "output_type": "stream",
          "text": [
            "\r  9%|▉         | 9/100 [03:37<36:37, 24.15s/it]"
          ]
        },
        {
          "name": "stdout",
          "output_type": "stream",
          "text": [
            "Accuracy:  0.812\n"
          ]
        },
        {
          "name": "stderr",
          "output_type": "stream",
          "text": [
            "\r 10%|█         | 10/100 [04:01<36:10, 24.11s/it]"
          ]
        },
        {
          "name": "stdout",
          "output_type": "stream",
          "text": [
            "Accuracy:  0.818\n"
          ]
        },
        {
          "name": "stderr",
          "output_type": "stream",
          "text": [
            "\r 11%|█         | 11/100 [04:25<35:40, 24.05s/it]"
          ]
        },
        {
          "name": "stdout",
          "output_type": "stream",
          "text": [
            "Accuracy:  0.82\n"
          ]
        },
        {
          "name": "stderr",
          "output_type": "stream",
          "text": [
            "\r 12%|█▏        | 12/100 [04:51<36:13, 24.70s/it]"
          ]
        },
        {
          "name": "stdout",
          "output_type": "stream",
          "text": [
            "Accuracy:  0.826\n"
          ]
        },
        {
          "name": "stderr",
          "output_type": "stream",
          "text": [
            "\r 13%|█▎        | 13/100 [05:17<36:42, 25.32s/it]"
          ]
        },
        {
          "name": "stdout",
          "output_type": "stream",
          "text": [
            "Accuracy:  0.826\n"
          ]
        },
        {
          "name": "stderr",
          "output_type": "stream",
          "text": [
            "\r 14%|█▍        | 14/100 [05:43<36:34, 25.51s/it]"
          ]
        },
        {
          "name": "stdout",
          "output_type": "stream",
          "text": [
            "Accuracy:  0.83\n"
          ]
        },
        {
          "name": "stderr",
          "output_type": "stream",
          "text": [
            "\r 15%|█▌        | 15/100 [06:09<36:22, 25.67s/it]"
          ]
        },
        {
          "name": "stdout",
          "output_type": "stream",
          "text": [
            "Accuracy:  0.836\n"
          ]
        },
        {
          "name": "stderr",
          "output_type": "stream",
          "text": [
            "\r 16%|█▌        | 16/100 [06:36<36:06, 25.79s/it]"
          ]
        },
        {
          "name": "stdout",
          "output_type": "stream",
          "text": [
            "Accuracy:  0.836\n"
          ]
        },
        {
          "name": "stderr",
          "output_type": "stream",
          "text": [
            "\r 17%|█▋        | 17/100 [07:02<35:46, 25.87s/it]"
          ]
        },
        {
          "name": "stdout",
          "output_type": "stream",
          "text": [
            "Accuracy:  0.838\n"
          ]
        },
        {
          "name": "stderr",
          "output_type": "stream",
          "text": [
            "\r 18%|█▊        | 18/100 [07:28<35:23, 25.90s/it]"
          ]
        },
        {
          "name": "stdout",
          "output_type": "stream",
          "text": [
            "Accuracy:  0.838\n"
          ]
        },
        {
          "name": "stderr",
          "output_type": "stream",
          "text": [
            "\r 19%|█▉        | 19/100 [07:54<35:18, 26.16s/it]"
          ]
        },
        {
          "name": "stdout",
          "output_type": "stream",
          "text": [
            "Accuracy:  0.84\n"
          ]
        },
        {
          "name": "stderr",
          "output_type": "stream",
          "text": [
            "\r 20%|██        | 20/100 [08:20<34:52, 26.16s/it]"
          ]
        },
        {
          "name": "stdout",
          "output_type": "stream",
          "text": [
            "Accuracy:  0.84\n"
          ]
        },
        {
          "name": "stderr",
          "output_type": "stream",
          "text": [
            "\r 21%|██        | 21/100 [08:47<34:27, 26.16s/it]"
          ]
        },
        {
          "name": "stdout",
          "output_type": "stream",
          "text": [
            "Accuracy:  0.84\n"
          ]
        },
        {
          "name": "stderr",
          "output_type": "stream",
          "text": [
            "\r 22%|██▏       | 22/100 [09:13<33:58, 26.14s/it]"
          ]
        },
        {
          "name": "stdout",
          "output_type": "stream",
          "text": [
            "Accuracy:  0.84\n"
          ]
        },
        {
          "name": "stderr",
          "output_type": "stream",
          "text": [
            "\r 23%|██▎       | 23/100 [09:39<33:27, 26.08s/it]"
          ]
        },
        {
          "name": "stdout",
          "output_type": "stream",
          "text": [
            "Accuracy:  0.844\n"
          ]
        },
        {
          "name": "stderr",
          "output_type": "stream",
          "text": [
            "\r 24%|██▍       | 24/100 [10:05<33:01, 26.07s/it]"
          ]
        },
        {
          "name": "stdout",
          "output_type": "stream",
          "text": [
            "Accuracy:  0.844\n"
          ]
        },
        {
          "name": "stderr",
          "output_type": "stream",
          "text": [
            "\r 25%|██▌       | 25/100 [10:31<32:46, 26.22s/it]"
          ]
        },
        {
          "name": "stdout",
          "output_type": "stream",
          "text": [
            "Accuracy:  0.846\n"
          ]
        },
        {
          "name": "stderr",
          "output_type": "stream",
          "text": [
            "\r 26%|██▌       | 26/100 [10:57<32:13, 26.13s/it]"
          ]
        },
        {
          "name": "stdout",
          "output_type": "stream",
          "text": [
            "Accuracy:  0.846\n"
          ]
        },
        {
          "name": "stderr",
          "output_type": "stream",
          "text": [
            "\r 27%|██▋       | 27/100 [11:23<31:38, 26.00s/it]"
          ]
        },
        {
          "name": "stdout",
          "output_type": "stream",
          "text": [
            "Accuracy:  0.846\n"
          ]
        },
        {
          "name": "stderr",
          "output_type": "stream",
          "text": [
            "\r 28%|██▊       | 28/100 [11:48<31:02, 25.86s/it]"
          ]
        },
        {
          "name": "stdout",
          "output_type": "stream",
          "text": [
            "Accuracy:  0.846\n"
          ]
        },
        {
          "name": "stderr",
          "output_type": "stream",
          "text": [
            "\r 29%|██▉       | 29/100 [12:14<30:30, 25.78s/it]"
          ]
        },
        {
          "name": "stdout",
          "output_type": "stream",
          "text": [
            "Accuracy:  0.846\n"
          ]
        },
        {
          "name": "stderr",
          "output_type": "stream",
          "text": [
            "\r 30%|███       | 30/100 [12:40<30:01, 25.74s/it]"
          ]
        },
        {
          "name": "stdout",
          "output_type": "stream",
          "text": [
            "Accuracy:  0.846\n"
          ]
        },
        {
          "name": "stderr",
          "output_type": "stream",
          "text": [
            "\r 31%|███       | 31/100 [13:06<29:46, 25.90s/it]"
          ]
        },
        {
          "name": "stdout",
          "output_type": "stream",
          "text": [
            "Accuracy:  0.848\n"
          ]
        },
        {
          "name": "stderr",
          "output_type": "stream",
          "text": [
            "\r 32%|███▏      | 32/100 [13:32<29:13, 25.79s/it]"
          ]
        },
        {
          "name": "stdout",
          "output_type": "stream",
          "text": [
            "Accuracy:  0.85\n"
          ]
        },
        {
          "name": "stderr",
          "output_type": "stream",
          "text": [
            "\r 33%|███▎      | 33/100 [13:57<28:46, 25.77s/it]"
          ]
        },
        {
          "name": "stdout",
          "output_type": "stream",
          "text": [
            "Accuracy:  0.852\n"
          ]
        },
        {
          "name": "stderr",
          "output_type": "stream",
          "text": [
            "\r 34%|███▍      | 34/100 [14:23<28:19, 25.75s/it]"
          ]
        },
        {
          "name": "stdout",
          "output_type": "stream",
          "text": [
            "Accuracy:  0.852\n"
          ]
        },
        {
          "name": "stderr",
          "output_type": "stream",
          "text": [
            "\r 35%|███▌      | 35/100 [14:49<27:51, 25.72s/it]"
          ]
        },
        {
          "name": "stdout",
          "output_type": "stream",
          "text": [
            "Accuracy:  0.852\n"
          ]
        },
        {
          "name": "stderr",
          "output_type": "stream",
          "text": [
            "\r 36%|███▌      | 36/100 [15:14<27:22, 25.67s/it]"
          ]
        },
        {
          "name": "stdout",
          "output_type": "stream",
          "text": [
            "Accuracy:  0.852\n"
          ]
        },
        {
          "name": "stderr",
          "output_type": "stream",
          "text": [
            "\r 37%|███▋      | 37/100 [15:40<27:06, 25.82s/it]"
          ]
        },
        {
          "name": "stdout",
          "output_type": "stream",
          "text": [
            "Accuracy:  0.852\n"
          ]
        },
        {
          "name": "stderr",
          "output_type": "stream",
          "text": [
            "\r 38%|███▊      | 38/100 [16:06<26:37, 25.76s/it]"
          ]
        },
        {
          "name": "stdout",
          "output_type": "stream",
          "text": [
            "Accuracy:  0.852\n"
          ]
        },
        {
          "name": "stderr",
          "output_type": "stream",
          "text": [
            "\r 39%|███▉      | 39/100 [16:32<26:08, 25.71s/it]"
          ]
        },
        {
          "name": "stdout",
          "output_type": "stream",
          "text": [
            "Accuracy:  0.852\n"
          ]
        },
        {
          "name": "stderr",
          "output_type": "stream",
          "text": [
            "\r 40%|████      | 40/100 [16:57<25:40, 25.68s/it]"
          ]
        },
        {
          "name": "stdout",
          "output_type": "stream",
          "text": [
            "Accuracy:  0.854\n"
          ]
        },
        {
          "name": "stderr",
          "output_type": "stream",
          "text": [
            "\r 41%|████      | 41/100 [17:23<25:12, 25.63s/it]"
          ]
        },
        {
          "name": "stdout",
          "output_type": "stream",
          "text": [
            "Accuracy:  0.856\n"
          ]
        },
        {
          "name": "stderr",
          "output_type": "stream",
          "text": [
            "\r 42%|████▏     | 42/100 [17:48<24:44, 25.60s/it]"
          ]
        },
        {
          "name": "stdout",
          "output_type": "stream",
          "text": [
            "Accuracy:  0.858\n"
          ]
        },
        {
          "name": "stderr",
          "output_type": "stream",
          "text": [
            "\r 43%|████▎     | 43/100 [18:14<24:28, 25.76s/it]"
          ]
        },
        {
          "name": "stdout",
          "output_type": "stream",
          "text": [
            "Accuracy:  0.86\n"
          ]
        },
        {
          "name": "stderr",
          "output_type": "stream",
          "text": [
            "\r 44%|████▍     | 44/100 [18:40<23:59, 25.71s/it]"
          ]
        },
        {
          "name": "stdout",
          "output_type": "stream",
          "text": [
            "Accuracy:  0.86\n"
          ]
        },
        {
          "name": "stderr",
          "output_type": "stream",
          "text": [
            "\r 45%|████▌     | 45/100 [19:05<23:32, 25.68s/it]"
          ]
        },
        {
          "name": "stdout",
          "output_type": "stream",
          "text": [
            "Accuracy:  0.86\n"
          ]
        },
        {
          "name": "stderr",
          "output_type": "stream",
          "text": [
            "\r 46%|████▌     | 46/100 [19:31<23:02, 25.60s/it]"
          ]
        },
        {
          "name": "stdout",
          "output_type": "stream",
          "text": [
            "Accuracy:  0.862\n"
          ]
        },
        {
          "name": "stderr",
          "output_type": "stream",
          "text": [
            "\r 47%|████▋     | 47/100 [19:56<22:33, 25.53s/it]"
          ]
        },
        {
          "name": "stdout",
          "output_type": "stream",
          "text": [
            "Accuracy:  0.866\n"
          ]
        },
        {
          "name": "stderr",
          "output_type": "stream",
          "text": [
            "\r 48%|████▊     | 48/100 [20:22<22:07, 25.53s/it]"
          ]
        },
        {
          "name": "stdout",
          "output_type": "stream",
          "text": [
            "Accuracy:  0.866\n"
          ]
        },
        {
          "name": "stderr",
          "output_type": "stream",
          "text": [
            "\r 49%|████▉     | 49/100 [20:48<21:49, 25.68s/it]"
          ]
        },
        {
          "name": "stdout",
          "output_type": "stream",
          "text": [
            "Accuracy:  0.866\n"
          ]
        },
        {
          "name": "stderr",
          "output_type": "stream",
          "text": [
            "\r 50%|█████     | 50/100 [21:13<21:21, 25.63s/it]"
          ]
        },
        {
          "name": "stdout",
          "output_type": "stream",
          "text": [
            "Accuracy:  0.864\n"
          ]
        },
        {
          "name": "stderr",
          "output_type": "stream",
          "text": [
            "\r 51%|█████     | 51/100 [21:39<20:53, 25.58s/it]"
          ]
        },
        {
          "name": "stdout",
          "output_type": "stream",
          "text": [
            "Accuracy:  0.864\n"
          ]
        },
        {
          "name": "stderr",
          "output_type": "stream",
          "text": [
            "\r 52%|█████▏    | 52/100 [22:04<20:26, 25.55s/it]"
          ]
        },
        {
          "name": "stdout",
          "output_type": "stream",
          "text": [
            "Accuracy:  0.864\n"
          ]
        },
        {
          "name": "stderr",
          "output_type": "stream",
          "text": [
            "\r 53%|█████▎    | 53/100 [22:30<20:01, 25.56s/it]"
          ]
        },
        {
          "name": "stdout",
          "output_type": "stream",
          "text": [
            "Accuracy:  0.864\n"
          ]
        },
        {
          "name": "stderr",
          "output_type": "stream",
          "text": [
            "\r 54%|█████▍    | 54/100 [22:55<19:36, 25.57s/it]"
          ]
        },
        {
          "name": "stdout",
          "output_type": "stream",
          "text": [
            "Accuracy:  0.864\n"
          ]
        },
        {
          "name": "stderr",
          "output_type": "stream",
          "text": [
            "\r 55%|█████▌    | 55/100 [23:22<19:18, 25.75s/it]"
          ]
        },
        {
          "name": "stdout",
          "output_type": "stream",
          "text": [
            "Accuracy:  0.864\n"
          ]
        },
        {
          "name": "stderr",
          "output_type": "stream",
          "text": [
            "\r 56%|█████▌    | 56/100 [23:47<18:49, 25.68s/it]"
          ]
        },
        {
          "name": "stdout",
          "output_type": "stream",
          "text": [
            "Accuracy:  0.864\n"
          ]
        },
        {
          "name": "stderr",
          "output_type": "stream",
          "text": [
            "\r 57%|█████▋    | 57/100 [24:13<18:22, 25.63s/it]"
          ]
        },
        {
          "name": "stdout",
          "output_type": "stream",
          "text": [
            "Accuracy:  0.864\n"
          ]
        },
        {
          "name": "stderr",
          "output_type": "stream",
          "text": [
            "\r 58%|█████▊    | 58/100 [24:38<17:54, 25.58s/it]"
          ]
        },
        {
          "name": "stdout",
          "output_type": "stream",
          "text": [
            "Accuracy:  0.864\n"
          ]
        },
        {
          "name": "stderr",
          "output_type": "stream",
          "text": [
            "\r 59%|█████▉    | 59/100 [25:03<17:23, 25.46s/it]"
          ]
        },
        {
          "name": "stdout",
          "output_type": "stream",
          "text": [
            "Accuracy:  0.864\n"
          ]
        },
        {
          "name": "stderr",
          "output_type": "stream",
          "text": [
            "\r 60%|██████    | 60/100 [25:28<16:51, 25.30s/it]"
          ]
        },
        {
          "name": "stdout",
          "output_type": "stream",
          "text": [
            "Accuracy:  0.864\n"
          ]
        },
        {
          "name": "stderr",
          "output_type": "stream",
          "text": [
            "\r 61%|██████    | 61/100 [25:54<16:31, 25.42s/it]"
          ]
        },
        {
          "name": "stdout",
          "output_type": "stream",
          "text": [
            "Accuracy:  0.864\n"
          ]
        },
        {
          "name": "stderr",
          "output_type": "stream",
          "text": [
            "\r 62%|██████▏   | 62/100 [26:19<15:56, 25.18s/it]"
          ]
        },
        {
          "name": "stdout",
          "output_type": "stream",
          "text": [
            "Accuracy:  0.864\n"
          ]
        },
        {
          "name": "stderr",
          "output_type": "stream",
          "text": [
            "\r 63%|██████▎   | 63/100 [26:43<15:24, 24.99s/it]"
          ]
        },
        {
          "name": "stdout",
          "output_type": "stream",
          "text": [
            "Accuracy:  0.866\n"
          ]
        },
        {
          "name": "stderr",
          "output_type": "stream",
          "text": [
            "\r 64%|██████▍   | 64/100 [27:08<14:55, 24.87s/it]"
          ]
        },
        {
          "name": "stdout",
          "output_type": "stream",
          "text": [
            "Accuracy:  0.868\n"
          ]
        },
        {
          "name": "stderr",
          "output_type": "stream",
          "text": [
            "\r 65%|██████▌   | 65/100 [27:32<14:28, 24.81s/it]"
          ]
        },
        {
          "name": "stdout",
          "output_type": "stream",
          "text": [
            "Accuracy:  0.868\n"
          ]
        },
        {
          "name": "stderr",
          "output_type": "stream",
          "text": [
            "\r 66%|██████▌   | 66/100 [27:57<14:02, 24.79s/it]"
          ]
        },
        {
          "name": "stdout",
          "output_type": "stream",
          "text": [
            "Accuracy:  0.87\n"
          ]
        },
        {
          "name": "stderr",
          "output_type": "stream",
          "text": [
            "\r 67%|██████▋   | 67/100 [28:22<13:36, 24.74s/it]"
          ]
        },
        {
          "name": "stdout",
          "output_type": "stream",
          "text": [
            "Accuracy:  0.868\n"
          ]
        },
        {
          "name": "stderr",
          "output_type": "stream",
          "text": [
            "\r 68%|██████▊   | 68/100 [28:47<13:15, 24.87s/it]"
          ]
        },
        {
          "name": "stdout",
          "output_type": "stream",
          "text": [
            "Accuracy:  0.868\n"
          ]
        },
        {
          "name": "stderr",
          "output_type": "stream",
          "text": [
            "\r 69%|██████▉   | 69/100 [29:11<12:48, 24.78s/it]"
          ]
        },
        {
          "name": "stdout",
          "output_type": "stream",
          "text": [
            "Accuracy:  0.868\n"
          ]
        },
        {
          "name": "stderr",
          "output_type": "stream",
          "text": [
            "\r 70%|███████   | 70/100 [29:36<12:20, 24.68s/it]"
          ]
        },
        {
          "name": "stdout",
          "output_type": "stream",
          "text": [
            "Accuracy:  0.866\n"
          ]
        },
        {
          "name": "stderr",
          "output_type": "stream",
          "text": [
            "\r 71%|███████   | 71/100 [30:00<11:54, 24.63s/it]"
          ]
        },
        {
          "name": "stdout",
          "output_type": "stream",
          "text": [
            "Accuracy:  0.866\n"
          ]
        },
        {
          "name": "stderr",
          "output_type": "stream",
          "text": [
            "\r 72%|███████▏  | 72/100 [30:25<11:28, 24.59s/it]"
          ]
        },
        {
          "name": "stdout",
          "output_type": "stream",
          "text": [
            "Accuracy:  0.866\n"
          ]
        },
        {
          "name": "stderr",
          "output_type": "stream",
          "text": [
            "\r 73%|███████▎  | 73/100 [30:49<11:03, 24.58s/it]"
          ]
        },
        {
          "name": "stdout",
          "output_type": "stream",
          "text": [
            "Accuracy:  0.866\n"
          ]
        },
        {
          "name": "stderr",
          "output_type": "stream",
          "text": [
            "\r 74%|███████▍  | 74/100 [31:15<10:43, 24.76s/it]"
          ]
        },
        {
          "name": "stdout",
          "output_type": "stream",
          "text": [
            "Accuracy:  0.866\n"
          ]
        },
        {
          "name": "stderr",
          "output_type": "stream",
          "text": [
            "\r 75%|███████▌  | 75/100 [31:39<10:17, 24.69s/it]"
          ]
        },
        {
          "name": "stdout",
          "output_type": "stream",
          "text": [
            "Accuracy:  0.866\n"
          ]
        },
        {
          "name": "stderr",
          "output_type": "stream",
          "text": [
            "\r 76%|███████▌  | 76/100 [32:04<09:51, 24.65s/it]"
          ]
        },
        {
          "name": "stdout",
          "output_type": "stream",
          "text": [
            "Accuracy:  0.866\n"
          ]
        },
        {
          "name": "stderr",
          "output_type": "stream",
          "text": [
            "\r 77%|███████▋  | 77/100 [32:28<09:26, 24.64s/it]"
          ]
        },
        {
          "name": "stdout",
          "output_type": "stream",
          "text": [
            "Accuracy:  0.872\n"
          ]
        },
        {
          "name": "stderr",
          "output_type": "stream",
          "text": [
            "\r 78%|███████▊  | 78/100 [32:53<09:02, 24.64s/it]"
          ]
        },
        {
          "name": "stdout",
          "output_type": "stream",
          "text": [
            "Accuracy:  0.872\n"
          ]
        },
        {
          "name": "stderr",
          "output_type": "stream",
          "text": [
            "\r 79%|███████▉  | 79/100 [33:18<08:37, 24.63s/it]"
          ]
        },
        {
          "name": "stdout",
          "output_type": "stream",
          "text": [
            "Accuracy:  0.872\n"
          ]
        },
        {
          "name": "stderr",
          "output_type": "stream",
          "text": [
            "\r 80%|████████  | 80/100 [33:43<08:16, 24.81s/it]"
          ]
        },
        {
          "name": "stdout",
          "output_type": "stream",
          "text": [
            "Accuracy:  0.874\n"
          ]
        },
        {
          "name": "stderr",
          "output_type": "stream",
          "text": [
            "\r 81%|████████  | 81/100 [34:07<07:49, 24.73s/it]"
          ]
        },
        {
          "name": "stdout",
          "output_type": "stream",
          "text": [
            "Accuracy:  0.874\n"
          ]
        },
        {
          "name": "stderr",
          "output_type": "stream",
          "text": [
            "\r 82%|████████▏ | 82/100 [34:32<07:24, 24.68s/it]"
          ]
        },
        {
          "name": "stdout",
          "output_type": "stream",
          "text": [
            "Accuracy:  0.88\n"
          ]
        },
        {
          "name": "stderr",
          "output_type": "stream",
          "text": [
            "\r 83%|████████▎ | 83/100 [34:57<06:59, 24.67s/it]"
          ]
        },
        {
          "name": "stdout",
          "output_type": "stream",
          "text": [
            "Accuracy:  0.884\n"
          ]
        },
        {
          "name": "stderr",
          "output_type": "stream",
          "text": [
            "\r 84%|████████▍ | 84/100 [35:21<06:34, 24.63s/it]"
          ]
        },
        {
          "name": "stdout",
          "output_type": "stream",
          "text": [
            "Accuracy:  0.884\n"
          ]
        },
        {
          "name": "stderr",
          "output_type": "stream",
          "text": [
            "\r 85%|████████▌ | 85/100 [35:46<06:09, 24.62s/it]"
          ]
        },
        {
          "name": "stdout",
          "output_type": "stream",
          "text": [
            "Accuracy:  0.884\n"
          ]
        },
        {
          "name": "stderr",
          "output_type": "stream",
          "text": [
            "\r 86%|████████▌ | 86/100 [36:10<05:44, 24.63s/it]"
          ]
        },
        {
          "name": "stdout",
          "output_type": "stream",
          "text": [
            "Accuracy:  0.882\n"
          ]
        },
        {
          "name": "stderr",
          "output_type": "stream",
          "text": [
            "\r 87%|████████▋ | 87/100 [36:36<05:22, 24.78s/it]"
          ]
        },
        {
          "name": "stdout",
          "output_type": "stream",
          "text": [
            "Accuracy:  0.882\n"
          ]
        },
        {
          "name": "stderr",
          "output_type": "stream",
          "text": [
            "\r 88%|████████▊ | 88/100 [37:00<04:56, 24.71s/it]"
          ]
        },
        {
          "name": "stdout",
          "output_type": "stream",
          "text": [
            "Accuracy:  0.882\n"
          ]
        },
        {
          "name": "stderr",
          "output_type": "stream",
          "text": [
            "\r 89%|████████▉ | 89/100 [37:25<04:31, 24.66s/it]"
          ]
        },
        {
          "name": "stdout",
          "output_type": "stream",
          "text": [
            "Accuracy:  0.882\n"
          ]
        },
        {
          "name": "stderr",
          "output_type": "stream",
          "text": [
            "\r 90%|█████████ | 90/100 [37:49<04:06, 24.64s/it]"
          ]
        },
        {
          "name": "stdout",
          "output_type": "stream",
          "text": [
            "Accuracy:  0.882\n"
          ]
        },
        {
          "name": "stderr",
          "output_type": "stream",
          "text": [
            "\r 91%|█████████ | 91/100 [38:14<03:41, 24.63s/it]"
          ]
        },
        {
          "name": "stdout",
          "output_type": "stream",
          "text": [
            "Accuracy:  0.882\n"
          ]
        },
        {
          "name": "stderr",
          "output_type": "stream",
          "text": [
            "\r 92%|█████████▏| 92/100 [38:38<03:16, 24.60s/it]"
          ]
        },
        {
          "name": "stdout",
          "output_type": "stream",
          "text": [
            "Accuracy:  0.882\n"
          ]
        },
        {
          "name": "stderr",
          "output_type": "stream",
          "text": [
            "\r 93%|█████████▎| 93/100 [39:04<02:53, 24.78s/it]"
          ]
        },
        {
          "name": "stdout",
          "output_type": "stream",
          "text": [
            "Accuracy:  0.884\n"
          ]
        },
        {
          "name": "stderr",
          "output_type": "stream",
          "text": [
            "\r 94%|█████████▍| 94/100 [39:28<02:28, 24.70s/it]"
          ]
        },
        {
          "name": "stdout",
          "output_type": "stream",
          "text": [
            "Accuracy:  0.884\n"
          ]
        },
        {
          "name": "stderr",
          "output_type": "stream",
          "text": [
            "\r 95%|█████████▌| 95/100 [39:53<02:03, 24.64s/it]"
          ]
        },
        {
          "name": "stdout",
          "output_type": "stream",
          "text": [
            "Accuracy:  0.884\n"
          ]
        },
        {
          "name": "stderr",
          "output_type": "stream",
          "text": [
            "\r 96%|█████████▌| 96/100 [40:17<01:38, 24.60s/it]"
          ]
        },
        {
          "name": "stdout",
          "output_type": "stream",
          "text": [
            "Accuracy:  0.884\n"
          ]
        },
        {
          "name": "stderr",
          "output_type": "stream",
          "text": [
            "\r 97%|█████████▋| 97/100 [40:42<01:13, 24.59s/it]"
          ]
        },
        {
          "name": "stdout",
          "output_type": "stream",
          "text": [
            "Accuracy:  0.884\n"
          ]
        },
        {
          "name": "stderr",
          "output_type": "stream",
          "text": [
            "\r 98%|█████████▊| 98/100 [41:06<00:49, 24.57s/it]"
          ]
        },
        {
          "name": "stdout",
          "output_type": "stream",
          "text": [
            "Accuracy:  0.884\n"
          ]
        },
        {
          "name": "stderr",
          "output_type": "stream",
          "text": [
            "\r 99%|█████████▉| 99/100 [41:31<00:24, 24.54s/it]"
          ]
        },
        {
          "name": "stdout",
          "output_type": "stream",
          "text": [
            "Accuracy:  0.884\n"
          ]
        },
        {
          "name": "stderr",
          "output_type": "stream",
          "text": [
            "100%|██████████| 100/100 [41:56<00:00, 25.16s/it]"
          ]
        },
        {
          "name": "stdout",
          "output_type": "stream",
          "text": [
            "Accuracy:  0.884\n"
          ]
        },
        {
          "name": "stderr",
          "output_type": "stream",
          "text": [
            "\n"
          ]
        },
        {
          "data": {
            "image/png": "[encoded data removed]",
            "text/plain": [
              "<Figure size 432x288 with 1 Axes>"
            ]
          },
          "metadata": {},
          "output_type": "display_data"
        },
        {
          "name": "stdout",
          "output_type": "stream",
          "text": [
            "Accuracy:  0.8613\n"
          ]
        },
        {
          "data": {
            "text/plain": [
              "0.8613"
            ]
          },
          "execution_count": 27,
          "metadata": {},
          "output_type": "execute_result"
        }
      ],
      "source": [
        "mini_batch_size = 200\n",
        "epoch_number = 75\n",
        "numHiddenLayers = 2\n",
        "HIDDEN_SIZE = 128\n",
        "\n",
        "inputSize = X_train.shape[1]\n",
        "outputSize = y_train.shape[1]\n",
        "model = MLP(\"leaky_relu\", numHiddenLayers , HIDDEN_SIZE, inputSize, outputSize, epoch_number, mini_batch_size)\n",
        "\n",
        "model.fit(X_train, y_train)\n",
        "\n",
        "y_pred = model.predict(X_test)\n",
        "model.evaluate_acc(y_test, y_pred)"
      ]
    },
    {
      "cell_type": "code",
      "execution_count": null,
      "metadata": {
        "colab": {
          "background_save": true
        },
        "id": "80ml5GVFp6Je"
      },
      "outputs": [],
      "source": [
        "leakyrelu_acc = 0.8613"
      ]
    },
    {
      "cell_type": "markdown",
      "metadata": {
        "id": "_et2dzPapo5D"
      },
      "source": [
        "### Tanh"
      ]
    },
    {
      "cell_type": "code",
      "execution_count": null,
      "metadata": {
        "colab": {
          "background_save": true,
          "base_uri": "https://localhost:8080/"
        },
        "id": "IZ1Ej8hnpfpN",
        "outputId": "d01a5fe7-d18e-49b1-c3e6-59cb3ab4c6c2"
      },
      "outputs": [
        {
          "name": "stderr",
          "output_type": "stream",
          "text": [
            "  1%|          | 1/100 [00:24<41:00, 24.86s/it]"
          ]
        },
        {
          "name": "stdout",
          "output_type": "stream",
          "text": [
            "Accuracy:  0.712\n"
          ]
        },
        {
          "name": "stderr",
          "output_type": "stream",
          "text": [
            "\r  2%|▏         | 2/100 [00:49<40:33, 24.83s/it]"
          ]
        },
        {
          "name": "stdout",
          "output_type": "stream",
          "text": [
            "Accuracy:  0.73\n"
          ]
        },
        {
          "name": "stderr",
          "output_type": "stream",
          "text": [
            "\r  3%|▎         | 3/100 [01:14<40:09, 24.84s/it]"
          ]
        },
        {
          "name": "stdout",
          "output_type": "stream",
          "text": [
            "Accuracy:  0.756\n"
          ]
        },
        {
          "name": "stderr",
          "output_type": "stream",
          "text": [
            "\r  4%|▍         | 4/100 [01:39<39:39, 24.78s/it]"
          ]
        },
        {
          "name": "stdout",
          "output_type": "stream",
          "text": [
            "Accuracy:  0.774\n"
          ]
        },
        {
          "name": "stderr",
          "output_type": "stream",
          "text": [
            "\r  5%|▌         | 5/100 [02:03<39:13, 24.77s/it]"
          ]
        },
        {
          "name": "stdout",
          "output_type": "stream",
          "text": [
            "Accuracy:  0.792\n"
          ]
        },
        {
          "name": "stderr",
          "output_type": "stream",
          "text": [
            "\r  6%|▌         | 6/100 [02:29<39:08, 24.98s/it]"
          ]
        },
        {
          "name": "stdout",
          "output_type": "stream",
          "text": [
            "Accuracy:  0.8\n"
          ]
        },
        {
          "name": "stderr",
          "output_type": "stream",
          "text": [
            "\r  7%|▋         | 7/100 [02:54<38:36, 24.90s/it]"
          ]
        },
        {
          "name": "stdout",
          "output_type": "stream",
          "text": [
            "Accuracy:  0.814\n"
          ]
        },
        {
          "name": "stderr",
          "output_type": "stream",
          "text": [
            "\r  8%|▊         | 8/100 [03:18<38:06, 24.85s/it]"
          ]
        },
        {
          "name": "stdout",
          "output_type": "stream",
          "text": [
            "Accuracy:  0.808\n"
          ]
        },
        {
          "name": "stderr",
          "output_type": "stream",
          "text": [
            "\r  9%|▉         | 9/100 [03:43<37:37, 24.81s/it]"
          ]
        },
        {
          "name": "stdout",
          "output_type": "stream",
          "text": [
            "Accuracy:  0.814\n"
          ]
        },
        {
          "name": "stderr",
          "output_type": "stream",
          "text": [
            "\r 10%|█         | 10/100 [04:08<37:10, 24.79s/it]"
          ]
        },
        {
          "name": "stdout",
          "output_type": "stream",
          "text": [
            "Accuracy:  0.82\n"
          ]
        },
        {
          "name": "stderr",
          "output_type": "stream",
          "text": [
            "\r 11%|█         | 11/100 [04:32<36:42, 24.75s/it]"
          ]
        },
        {
          "name": "stdout",
          "output_type": "stream",
          "text": [
            "Accuracy:  0.82\n"
          ]
        },
        {
          "name": "stderr",
          "output_type": "stream",
          "text": [
            "\r 12%|█▏        | 12/100 [04:58<36:31, 24.90s/it]"
          ]
        },
        {
          "name": "stdout",
          "output_type": "stream",
          "text": [
            "Accuracy:  0.818\n"
          ]
        },
        {
          "name": "stderr",
          "output_type": "stream",
          "text": [
            "\r 13%|█▎        | 13/100 [05:22<36:01, 24.85s/it]"
          ]
        },
        {
          "name": "stdout",
          "output_type": "stream",
          "text": [
            "Accuracy:  0.82\n"
          ]
        },
        {
          "name": "stderr",
          "output_type": "stream",
          "text": [
            "\r 14%|█▍        | 14/100 [05:47<35:32, 24.80s/it]"
          ]
        },
        {
          "name": "stdout",
          "output_type": "stream",
          "text": [
            "Accuracy:  0.82\n"
          ]
        },
        {
          "name": "stderr",
          "output_type": "stream",
          "text": [
            "\r 15%|█▌        | 15/100 [06:12<35:08, 24.81s/it]"
          ]
        },
        {
          "name": "stdout",
          "output_type": "stream",
          "text": [
            "Accuracy:  0.82\n"
          ]
        },
        {
          "name": "stderr",
          "output_type": "stream",
          "text": [
            "\r 16%|█▌        | 16/100 [06:37<34:41, 24.78s/it]"
          ]
        },
        {
          "name": "stdout",
          "output_type": "stream",
          "text": [
            "Accuracy:  0.824\n"
          ]
        },
        {
          "name": "stderr",
          "output_type": "stream",
          "text": [
            "\r 17%|█▋        | 17/100 [07:01<34:14, 24.75s/it]"
          ]
        },
        {
          "name": "stdout",
          "output_type": "stream",
          "text": [
            "Accuracy:  0.824\n"
          ]
        },
        {
          "name": "stderr",
          "output_type": "stream",
          "text": [
            "\r 18%|█▊        | 18/100 [07:27<34:02, 24.90s/it]"
          ]
        },
        {
          "name": "stdout",
          "output_type": "stream",
          "text": [
            "Accuracy:  0.824\n"
          ]
        },
        {
          "name": "stderr",
          "output_type": "stream",
          "text": [
            "\r 19%|█▉        | 19/100 [07:51<33:33, 24.86s/it]"
          ]
        },
        {
          "name": "stdout",
          "output_type": "stream",
          "text": [
            "Accuracy:  0.83\n"
          ]
        },
        {
          "name": "stderr",
          "output_type": "stream",
          "text": [
            "\r 20%|██        | 20/100 [08:16<33:03, 24.79s/it]"
          ]
        },
        {
          "name": "stdout",
          "output_type": "stream",
          "text": [
            "Accuracy:  0.832\n"
          ]
        },
        {
          "name": "stderr",
          "output_type": "stream",
          "text": [
            "\r 21%|██        | 21/100 [08:41<32:37, 24.78s/it]"
          ]
        },
        {
          "name": "stdout",
          "output_type": "stream",
          "text": [
            "Accuracy:  0.834\n"
          ]
        },
        {
          "name": "stderr",
          "output_type": "stream",
          "text": [
            "\r 22%|██▏       | 22/100 [09:05<32:10, 24.76s/it]"
          ]
        },
        {
          "name": "stdout",
          "output_type": "stream",
          "text": [
            "Accuracy:  0.836\n"
          ]
        },
        {
          "name": "stderr",
          "output_type": "stream",
          "text": [
            "\r 23%|██▎       | 23/100 [09:30<31:43, 24.72s/it]"
          ]
        },
        {
          "name": "stdout",
          "output_type": "stream",
          "text": [
            "Accuracy:  0.836\n"
          ]
        },
        {
          "name": "stderr",
          "output_type": "stream",
          "text": [
            "\r 24%|██▍       | 24/100 [09:55<31:17, 24.71s/it]"
          ]
        },
        {
          "name": "stdout",
          "output_type": "stream",
          "text": [
            "Accuracy:  0.836\n"
          ]
        },
        {
          "name": "stderr",
          "output_type": "stream",
          "text": [
            "\r 25%|██▌       | 25/100 [10:20<31:05, 24.87s/it]"
          ]
        },
        {
          "name": "stdout",
          "output_type": "stream",
          "text": [
            "Accuracy:  0.836\n"
          ]
        },
        {
          "name": "stderr",
          "output_type": "stream",
          "text": [
            "\r 26%|██▌       | 26/100 [10:45<30:38, 24.85s/it]"
          ]
        },
        {
          "name": "stdout",
          "output_type": "stream",
          "text": [
            "Accuracy:  0.836\n"
          ]
        },
        {
          "name": "stderr",
          "output_type": "stream",
          "text": [
            "\r 27%|██▋       | 27/100 [11:10<30:12, 24.83s/it]"
          ]
        },
        {
          "name": "stdout",
          "output_type": "stream",
          "text": [
            "Accuracy:  0.836\n"
          ]
        },
        {
          "name": "stderr",
          "output_type": "stream",
          "text": [
            "\r 28%|██▊       | 28/100 [11:34<29:44, 24.78s/it]"
          ]
        },
        {
          "name": "stdout",
          "output_type": "stream",
          "text": [
            "Accuracy:  0.836\n"
          ]
        },
        {
          "name": "stderr",
          "output_type": "stream",
          "text": [
            "\r 29%|██▉       | 29/100 [11:59<29:18, 24.76s/it]"
          ]
        },
        {
          "name": "stdout",
          "output_type": "stream",
          "text": [
            "Accuracy:  0.838\n"
          ]
        },
        {
          "name": "stderr",
          "output_type": "stream",
          "text": [
            "\r 30%|███       | 30/100 [12:24<28:50, 24.72s/it]"
          ]
        },
        {
          "name": "stdout",
          "output_type": "stream",
          "text": [
            "Accuracy:  0.84\n"
          ]
        },
        {
          "name": "stderr",
          "output_type": "stream",
          "text": [
            "\r 31%|███       | 31/100 [12:49<28:36, 24.88s/it]"
          ]
        },
        {
          "name": "stdout",
          "output_type": "stream",
          "text": [
            "Accuracy:  0.84\n"
          ]
        },
        {
          "name": "stderr",
          "output_type": "stream",
          "text": [
            "\r 32%|███▏      | 32/100 [13:14<28:08, 24.83s/it]"
          ]
        },
        {
          "name": "stdout",
          "output_type": "stream",
          "text": [
            "Accuracy:  0.84\n"
          ]
        },
        {
          "name": "stderr",
          "output_type": "stream",
          "text": [
            "\r 33%|███▎      | 33/100 [13:38<27:41, 24.81s/it]"
          ]
        },
        {
          "name": "stdout",
          "output_type": "stream",
          "text": [
            "Accuracy:  0.84\n"
          ]
        },
        {
          "name": "stderr",
          "output_type": "stream",
          "text": [
            "\r 34%|███▍      | 34/100 [14:03<27:15, 24.77s/it]"
          ]
        },
        {
          "name": "stdout",
          "output_type": "stream",
          "text": [
            "Accuracy:  0.842\n"
          ]
        },
        {
          "name": "stderr",
          "output_type": "stream",
          "text": [
            "\r 35%|███▌      | 35/100 [14:28<26:46, 24.72s/it]"
          ]
        },
        {
          "name": "stdout",
          "output_type": "stream",
          "text": [
            "Accuracy:  0.842\n"
          ]
        },
        {
          "name": "stderr",
          "output_type": "stream",
          "text": [
            "\r 36%|███▌      | 36/100 [14:52<26:20, 24.70s/it]"
          ]
        },
        {
          "name": "stdout",
          "output_type": "stream",
          "text": [
            "Accuracy:  0.844\n"
          ]
        },
        {
          "name": "stderr",
          "output_type": "stream",
          "text": [
            "\r 37%|███▋      | 37/100 [15:18<26:08, 24.90s/it]"
          ]
        },
        {
          "name": "stdout",
          "output_type": "stream",
          "text": [
            "Accuracy:  0.842\n"
          ]
        },
        {
          "name": "stderr",
          "output_type": "stream",
          "text": [
            "\r 38%|███▊      | 38/100 [15:42<25:42, 24.88s/it]"
          ]
        },
        {
          "name": "stdout",
          "output_type": "stream",
          "text": [
            "Accuracy:  0.842\n"
          ]
        },
        {
          "name": "stderr",
          "output_type": "stream",
          "text": [
            "\r 39%|███▉      | 39/100 [16:07<25:15, 24.85s/it]"
          ]
        },
        {
          "name": "stdout",
          "output_type": "stream",
          "text": [
            "Accuracy:  0.842\n"
          ]
        },
        {
          "name": "stderr",
          "output_type": "stream",
          "text": [
            "\r 40%|████      | 40/100 [16:32<24:49, 24.82s/it]"
          ]
        },
        {
          "name": "stdout",
          "output_type": "stream",
          "text": [
            "Accuracy:  0.844\n"
          ]
        },
        {
          "name": "stderr",
          "output_type": "stream",
          "text": [
            "\r 41%|████      | 41/100 [16:57<24:22, 24.79s/it]"
          ]
        },
        {
          "name": "stdout",
          "output_type": "stream",
          "text": [
            "Accuracy:  0.848\n"
          ]
        },
        {
          "name": "stderr",
          "output_type": "stream",
          "text": [
            "\r 42%|████▏     | 42/100 [17:21<23:55, 24.75s/it]"
          ]
        },
        {
          "name": "stdout",
          "output_type": "stream",
          "text": [
            "Accuracy:  0.848\n"
          ]
        },
        {
          "name": "stderr",
          "output_type": "stream",
          "text": [
            "\r 43%|████▎     | 43/100 [17:47<23:37, 24.87s/it]"
          ]
        },
        {
          "name": "stdout",
          "output_type": "stream",
          "text": [
            "Accuracy:  0.848\n"
          ]
        },
        {
          "name": "stderr",
          "output_type": "stream",
          "text": [
            "\r 44%|████▍     | 44/100 [18:11<23:08, 24.79s/it]"
          ]
        },
        {
          "name": "stdout",
          "output_type": "stream",
          "text": [
            "Accuracy:  0.85\n"
          ]
        },
        {
          "name": "stderr",
          "output_type": "stream",
          "text": [
            "\r 45%|████▌     | 45/100 [18:36<22:41, 24.76s/it]"
          ]
        },
        {
          "name": "stdout",
          "output_type": "stream",
          "text": [
            "Accuracy:  0.854\n"
          ]
        },
        {
          "name": "stderr",
          "output_type": "stream",
          "text": [
            "\r 46%|████▌     | 46/100 [19:01<22:16, 24.76s/it]"
          ]
        },
        {
          "name": "stdout",
          "output_type": "stream",
          "text": [
            "Accuracy:  0.856\n"
          ]
        },
        {
          "name": "stderr",
          "output_type": "stream",
          "text": [
            "\r 47%|████▋     | 47/100 [19:25<21:49, 24.71s/it]"
          ]
        },
        {
          "name": "stdout",
          "output_type": "stream",
          "text": [
            "Accuracy:  0.856\n"
          ]
        },
        {
          "name": "stderr",
          "output_type": "stream",
          "text": [
            "\r 48%|████▊     | 48/100 [19:50<21:23, 24.68s/it]"
          ]
        },
        {
          "name": "stdout",
          "output_type": "stream",
          "text": [
            "Accuracy:  0.856\n"
          ]
        },
        {
          "name": "stderr",
          "output_type": "stream",
          "text": [
            "\r 49%|████▉     | 49/100 [20:15<21:08, 24.88s/it]"
          ]
        },
        {
          "name": "stdout",
          "output_type": "stream",
          "text": [
            "Accuracy:  0.856\n"
          ]
        },
        {
          "name": "stderr",
          "output_type": "stream",
          "text": [
            "\r 50%|█████     | 50/100 [20:40<20:43, 24.86s/it]"
          ]
        },
        {
          "name": "stdout",
          "output_type": "stream",
          "text": [
            "Accuracy:  0.858\n"
          ]
        },
        {
          "name": "stderr",
          "output_type": "stream",
          "text": [
            "\r 51%|█████     | 51/100 [21:05<20:16, 24.83s/it]"
          ]
        },
        {
          "name": "stdout",
          "output_type": "stream",
          "text": [
            "Accuracy:  0.86\n"
          ]
        },
        {
          "name": "stderr",
          "output_type": "stream",
          "text": [
            "\r 52%|█████▏    | 52/100 [21:29<19:49, 24.78s/it]"
          ]
        },
        {
          "name": "stdout",
          "output_type": "stream",
          "text": [
            "Accuracy:  0.862\n"
          ]
        },
        {
          "name": "stderr",
          "output_type": "stream",
          "text": [
            "\r 53%|█████▎    | 53/100 [21:54<19:23, 24.76s/it]"
          ]
        },
        {
          "name": "stdout",
          "output_type": "stream",
          "text": [
            "Accuracy:  0.862\n"
          ]
        },
        {
          "name": "stderr",
          "output_type": "stream",
          "text": [
            "\r 54%|█████▍    | 54/100 [22:19<18:57, 24.72s/it]"
          ]
        },
        {
          "name": "stdout",
          "output_type": "stream",
          "text": [
            "Accuracy:  0.862\n"
          ]
        },
        {
          "name": "stderr",
          "output_type": "stream",
          "text": [
            "\r 55%|█████▌    | 55/100 [22:43<18:32, 24.71s/it]"
          ]
        },
        {
          "name": "stdout",
          "output_type": "stream",
          "text": [
            "Accuracy:  0.862\n"
          ]
        },
        {
          "name": "stderr",
          "output_type": "stream",
          "text": [
            "\r 56%|█████▌    | 56/100 [23:09<18:15, 24.90s/it]"
          ]
        },
        {
          "name": "stdout",
          "output_type": "stream",
          "text": [
            "Accuracy:  0.862\n"
          ]
        },
        {
          "name": "stderr",
          "output_type": "stream",
          "text": [
            "\r 57%|█████▋    | 57/100 [23:33<17:46, 24.79s/it]"
          ]
        },
        {
          "name": "stdout",
          "output_type": "stream",
          "text": [
            "Accuracy:  0.864\n"
          ]
        },
        {
          "name": "stderr",
          "output_type": "stream",
          "text": [
            "\r 58%|█████▊    | 58/100 [23:58<17:19, 24.74s/it]"
          ]
        },
        {
          "name": "stdout",
          "output_type": "stream",
          "text": [
            "Accuracy:  0.864\n"
          ]
        },
        {
          "name": "stderr",
          "output_type": "stream",
          "text": [
            "\r 59%|█████▉    | 59/100 [24:23<16:53, 24.71s/it]"
          ]
        },
        {
          "name": "stdout",
          "output_type": "stream",
          "text": [
            "Accuracy:  0.864\n"
          ]
        },
        {
          "name": "stderr",
          "output_type": "stream",
          "text": [
            "\r 60%|██████    | 60/100 [24:47<16:27, 24.69s/it]"
          ]
        },
        {
          "name": "stdout",
          "output_type": "stream",
          "text": [
            "Accuracy:  0.864\n"
          ]
        },
        {
          "name": "stderr",
          "output_type": "stream",
          "text": [
            "\r 61%|██████    | 61/100 [25:12<16:03, 24.70s/it]"
          ]
        },
        {
          "name": "stdout",
          "output_type": "stream",
          "text": [
            "Accuracy:  0.864\n"
          ]
        },
        {
          "name": "stderr",
          "output_type": "stream",
          "text": [
            "\r 62%|██████▏   | 62/100 [25:37<15:44, 24.85s/it]"
          ]
        },
        {
          "name": "stdout",
          "output_type": "stream",
          "text": [
            "Accuracy:  0.866\n"
          ]
        },
        {
          "name": "stderr",
          "output_type": "stream",
          "text": [
            "\r 63%|██████▎   | 63/100 [26:02<15:18, 24.81s/it]"
          ]
        },
        {
          "name": "stdout",
          "output_type": "stream",
          "text": [
            "Accuracy:  0.866\n"
          ]
        },
        {
          "name": "stderr",
          "output_type": "stream",
          "text": [
            "\r 64%|██████▍   | 64/100 [26:26<14:51, 24.76s/it]"
          ]
        },
        {
          "name": "stdout",
          "output_type": "stream",
          "text": [
            "Accuracy:  0.866\n"
          ]
        },
        {
          "name": "stderr",
          "output_type": "stream",
          "text": [
            "\r 65%|██████▌   | 65/100 [26:51<14:25, 24.72s/it]"
          ]
        },
        {
          "name": "stdout",
          "output_type": "stream",
          "text": [
            "Accuracy:  0.866\n"
          ]
        },
        {
          "name": "stderr",
          "output_type": "stream",
          "text": [
            "\r 66%|██████▌   | 66/100 [27:16<14:01, 24.75s/it]"
          ]
        },
        {
          "name": "stdout",
          "output_type": "stream",
          "text": [
            "Accuracy:  0.866\n"
          ]
        },
        {
          "name": "stderr",
          "output_type": "stream",
          "text": [
            "\r 67%|██████▋   | 67/100 [27:41<13:35, 24.72s/it]"
          ]
        },
        {
          "name": "stdout",
          "output_type": "stream",
          "text": [
            "Accuracy:  0.868\n"
          ]
        },
        {
          "name": "stderr",
          "output_type": "stream",
          "text": [
            "\r 68%|██████▊   | 68/100 [28:06<13:17, 24.92s/it]"
          ]
        },
        {
          "name": "stdout",
          "output_type": "stream",
          "text": [
            "Accuracy:  0.868\n"
          ]
        },
        {
          "name": "stderr",
          "output_type": "stream",
          "text": [
            "\r 69%|██████▉   | 69/100 [28:31<12:50, 24.86s/it]"
          ]
        },
        {
          "name": "stdout",
          "output_type": "stream",
          "text": [
            "Accuracy:  0.87\n"
          ]
        },
        {
          "name": "stderr",
          "output_type": "stream",
          "text": [
            "\r 70%|███████   | 70/100 [28:55<12:24, 24.82s/it]"
          ]
        },
        {
          "name": "stdout",
          "output_type": "stream",
          "text": [
            "Accuracy:  0.87\n"
          ]
        },
        {
          "name": "stderr",
          "output_type": "stream",
          "text": [
            "\r 71%|███████   | 71/100 [29:20<11:57, 24.76s/it]"
          ]
        },
        {
          "name": "stdout",
          "output_type": "stream",
          "text": [
            "Accuracy:  0.87\n"
          ]
        },
        {
          "name": "stderr",
          "output_type": "stream",
          "text": [
            "\r 72%|███████▏  | 72/100 [29:45<11:32, 24.74s/it]"
          ]
        },
        {
          "name": "stdout",
          "output_type": "stream",
          "text": [
            "Accuracy:  0.87\n"
          ]
        },
        {
          "name": "stderr",
          "output_type": "stream",
          "text": [
            "\r 73%|███████▎  | 73/100 [30:10<11:08, 24.75s/it]"
          ]
        },
        {
          "name": "stdout",
          "output_type": "stream",
          "text": [
            "Accuracy:  0.87\n"
          ]
        },
        {
          "name": "stderr",
          "output_type": "stream",
          "text": [
            "\r 74%|███████▍  | 74/100 [30:35<10:49, 24.97s/it]"
          ]
        },
        {
          "name": "stdout",
          "output_type": "stream",
          "text": [
            "Accuracy:  0.87\n"
          ]
        },
        {
          "name": "stderr",
          "output_type": "stream",
          "text": [
            "\r 75%|███████▌  | 75/100 [31:00<10:22, 24.90s/it]"
          ]
        },
        {
          "name": "stdout",
          "output_type": "stream",
          "text": [
            "Accuracy:  0.87\n"
          ]
        },
        {
          "name": "stderr",
          "output_type": "stream",
          "text": [
            "\r 76%|███████▌  | 76/100 [31:24<09:52, 24.71s/it]"
          ]
        },
        {
          "name": "stdout",
          "output_type": "stream",
          "text": [
            "Accuracy:  0.876\n"
          ]
        },
        {
          "name": "stderr",
          "output_type": "stream",
          "text": [
            "\r 77%|███████▋  | 77/100 [31:48<09:25, 24.57s/it]"
          ]
        },
        {
          "name": "stdout",
          "output_type": "stream",
          "text": [
            "Accuracy:  0.878\n"
          ]
        },
        {
          "name": "stderr",
          "output_type": "stream",
          "text": [
            "\r 78%|███████▊  | 78/100 [32:12<08:58, 24.47s/it]"
          ]
        },
        {
          "name": "stdout",
          "output_type": "stream",
          "text": [
            "Accuracy:  0.878\n"
          ]
        },
        {
          "name": "stderr",
          "output_type": "stream",
          "text": [
            "\r 79%|███████▉  | 79/100 [32:37<08:32, 24.40s/it]"
          ]
        },
        {
          "name": "stdout",
          "output_type": "stream",
          "text": [
            "Accuracy:  0.88\n"
          ]
        },
        {
          "name": "stderr",
          "output_type": "stream",
          "text": [
            "\r 80%|████████  | 80/100 [33:02<08:10, 24.54s/it]"
          ]
        },
        {
          "name": "stdout",
          "output_type": "stream",
          "text": [
            "Accuracy:  0.88\n"
          ]
        },
        {
          "name": "stderr",
          "output_type": "stream",
          "text": [
            "\r 81%|████████  | 81/100 [33:26<07:44, 24.45s/it]"
          ]
        },
        {
          "name": "stdout",
          "output_type": "stream",
          "text": [
            "Accuracy:  0.882\n"
          ]
        },
        {
          "name": "stderr",
          "output_type": "stream",
          "text": [
            "\r 82%|████████▏ | 82/100 [33:50<07:18, 24.38s/it]"
          ]
        },
        {
          "name": "stdout",
          "output_type": "stream",
          "text": [
            "Accuracy:  0.884\n"
          ]
        },
        {
          "name": "stderr",
          "output_type": "stream",
          "text": [
            "\r 83%|████████▎ | 83/100 [34:14<06:53, 24.34s/it]"
          ]
        },
        {
          "name": "stdout",
          "output_type": "stream",
          "text": [
            "Accuracy:  0.884\n"
          ]
        },
        {
          "name": "stderr",
          "output_type": "stream",
          "text": [
            "\r 84%|████████▍ | 84/100 [34:39<06:29, 24.33s/it]"
          ]
        },
        {
          "name": "stdout",
          "output_type": "stream",
          "text": [
            "Accuracy:  0.884\n"
          ]
        },
        {
          "name": "stderr",
          "output_type": "stream",
          "text": [
            "\r 85%|████████▌ | 85/100 [35:03<06:05, 24.33s/it]"
          ]
        },
        {
          "name": "stdout",
          "output_type": "stream",
          "text": [
            "Accuracy:  0.884\n"
          ]
        },
        {
          "name": "stderr",
          "output_type": "stream",
          "text": [
            "\r 86%|████████▌ | 86/100 [35:28<05:42, 24.47s/it]"
          ]
        },
        {
          "name": "stdout",
          "output_type": "stream",
          "text": [
            "Accuracy:  0.884\n"
          ]
        },
        {
          "name": "stderr",
          "output_type": "stream",
          "text": [
            "\r 87%|████████▋ | 87/100 [35:52<05:17, 24.41s/it]"
          ]
        },
        {
          "name": "stdout",
          "output_type": "stream",
          "text": [
            "Accuracy:  0.884\n"
          ]
        },
        {
          "name": "stderr",
          "output_type": "stream",
          "text": [
            "\r 88%|████████▊ | 88/100 [36:16<04:52, 24.38s/it]"
          ]
        },
        {
          "name": "stdout",
          "output_type": "stream",
          "text": [
            "Accuracy:  0.884\n"
          ]
        },
        {
          "name": "stderr",
          "output_type": "stream",
          "text": [
            "\r 89%|████████▉ | 89/100 [36:40<04:27, 24.32s/it]"
          ]
        },
        {
          "name": "stdout",
          "output_type": "stream",
          "text": [
            "Accuracy:  0.884\n"
          ]
        },
        {
          "name": "stderr",
          "output_type": "stream",
          "text": [
            "\r 90%|█████████ | 90/100 [37:05<04:03, 24.31s/it]"
          ]
        },
        {
          "name": "stdout",
          "output_type": "stream",
          "text": [
            "Accuracy:  0.884\n"
          ]
        },
        {
          "name": "stderr",
          "output_type": "stream",
          "text": [
            "\r 91%|█████████ | 91/100 [37:29<03:38, 24.28s/it]"
          ]
        },
        {
          "name": "stdout",
          "output_type": "stream",
          "text": [
            "Accuracy:  0.884\n"
          ]
        },
        {
          "name": "stderr",
          "output_type": "stream",
          "text": [
            "\r 92%|█████████▏| 92/100 [37:53<03:14, 24.25s/it]"
          ]
        },
        {
          "name": "stdout",
          "output_type": "stream",
          "text": [
            "Accuracy:  0.884\n"
          ]
        },
        {
          "name": "stderr",
          "output_type": "stream",
          "text": [
            "\r 93%|█████████▎| 93/100 [38:18<02:51, 24.44s/it]"
          ]
        },
        {
          "name": "stdout",
          "output_type": "stream",
          "text": [
            "Accuracy:  0.882\n"
          ]
        },
        {
          "name": "stderr",
          "output_type": "stream",
          "text": [
            "\r 94%|█████████▍| 94/100 [38:42<02:26, 24.40s/it]"
          ]
        },
        {
          "name": "stdout",
          "output_type": "stream",
          "text": [
            "Accuracy:  0.882\n"
          ]
        },
        {
          "name": "stderr",
          "output_type": "stream",
          "text": [
            "\r 95%|█████████▌| 95/100 [39:07<02:01, 24.37s/it]"
          ]
        },
        {
          "name": "stdout",
          "output_type": "stream",
          "text": [
            "Accuracy:  0.882\n"
          ]
        },
        {
          "name": "stderr",
          "output_type": "stream",
          "text": [
            "\r 96%|█████████▌| 96/100 [39:31<01:37, 24.33s/it]"
          ]
        },
        {
          "name": "stdout",
          "output_type": "stream",
          "text": [
            "Accuracy:  0.882\n"
          ]
        },
        {
          "name": "stderr",
          "output_type": "stream",
          "text": [
            "\r 97%|█████████▋| 97/100 [39:55<01:12, 24.32s/it]"
          ]
        },
        {
          "name": "stdout",
          "output_type": "stream",
          "text": [
            "Accuracy:  0.884\n"
          ]
        },
        {
          "name": "stderr",
          "output_type": "stream",
          "text": [
            "\r 98%|█████████▊| 98/100 [40:20<00:48, 24.33s/it]"
          ]
        },
        {
          "name": "stdout",
          "output_type": "stream",
          "text": [
            "Accuracy:  0.886\n"
          ]
        },
        {
          "name": "stderr",
          "output_type": "stream",
          "text": [
            "\r 99%|█████████▉| 99/100 [40:44<00:24, 24.50s/it]"
          ]
        },
        {
          "name": "stdout",
          "output_type": "stream",
          "text": [
            "Accuracy:  0.886\n"
          ]
        },
        {
          "name": "stderr",
          "output_type": "stream",
          "text": [
            "100%|██████████| 100/100 [41:09<00:00, 24.69s/it]"
          ]
        },
        {
          "name": "stdout",
          "output_type": "stream",
          "text": [
            "Accuracy:  0.886\n"
          ]
        },
        {
          "name": "stderr",
          "output_type": "stream",
          "text": [
            "\n"
          ]
        },
        {
          "data": {
            "image/png": "[encoded data removed]",
            "text/plain": [
              "<Figure size 432x288 with 1 Axes>"
            ]
          },
          "metadata": {},
          "output_type": "display_data"
        },
        {
          "name": "stdout",
          "output_type": "stream",
          "text": [
            "Accuracy:  0.8598\n"
          ]
        },
        {
          "data": {
            "text/plain": [
              "0.8598"
            ]
          },
          "execution_count": 29,
          "metadata": {},
          "output_type": "execute_result"
        }
      ],
      "source": [
        "mini_batch_size = 200\n",
        "epoch_number = 75\n",
        "numHiddenLayers = 2\n",
        "HIDDEN_SIZE = 128\n",
        "\n",
        "inputSize = X_train.shape[1]\n",
        "outputSize = y_train.shape[1]\n",
        "model = MLP(\"tanh\", numHiddenLayers , HIDDEN_SIZE, inputSize, outputSize, epoch_number, mini_batch_size)\n",
        "\n",
        "model.fit(X_train, y_train)\n",
        "\n",
        "y_pred = model.predict(X_test)\n",
        "model.evaluate_acc(y_test, y_pred)"
      ]
    },
    {
      "cell_type": "code",
      "execution_count": null,
      "metadata": {
        "colab": {
          "background_save": true
        },
        "id": "TY9-0EWkpsGy"
      },
      "outputs": [],
      "source": [
        "tanh_acc = 0.8598"
      ]
    },
    {
      "cell_type": "markdown",
      "metadata": {
        "id": "yWxeFkUHOz9T"
      },
      "source": [
        "## 3) L2 Regularization\n",
        "We add weight penalties to weights that are too large. We force them to be smaller than they are otherwise."
      ]
    },
    {
      "cell_type": "code",
      "execution_count": null,
      "metadata": {
        "colab": {
          "background_save": true
        },
        "id": "RrVxEuzbO2PZ",
        "outputId": "b269ea1b-d5ea-40b4-d0c3-f6e44a404a3a"
      },
      "outputs": [
        {
          "name": "stderr",
          "output_type": "stream",
          "text": [
            "  1%|          | 1/100 [00:23<39:06, 23.70s/it]"
          ]
        },
        {
          "name": "stdout",
          "output_type": "stream",
          "text": [
            "Accuracy:  0.778\n"
          ]
        },
        {
          "name": "stderr",
          "output_type": "stream",
          "text": [
            "\r  2%|▏         | 2/100 [00:47<38:29, 23.56s/it]"
          ]
        },
        {
          "name": "stdout",
          "output_type": "stream",
          "text": [
            "Accuracy:  0.814\n"
          ]
        },
        {
          "name": "stderr",
          "output_type": "stream",
          "text": [
            "\r  3%|▎         | 3/100 [01:10<38:01, 23.52s/it]"
          ]
        },
        {
          "name": "stdout",
          "output_type": "stream",
          "text": [
            "Accuracy:  0.828\n"
          ]
        },
        {
          "name": "stderr",
          "output_type": "stream",
          "text": [
            "\r  4%|▍         | 4/100 [01:34<37:37, 23.52s/it]"
          ]
        },
        {
          "name": "stdout",
          "output_type": "stream",
          "text": [
            "Accuracy:  0.842\n"
          ]
        },
        {
          "name": "stderr",
          "output_type": "stream",
          "text": [
            "\r  5%|▌         | 5/100 [01:58<37:35, 23.74s/it]"
          ]
        },
        {
          "name": "stdout",
          "output_type": "stream",
          "text": [
            "Accuracy:  0.842\n"
          ]
        },
        {
          "name": "stderr",
          "output_type": "stream",
          "text": [
            "\r  6%|▌         | 6/100 [02:21<37:04, 23.67s/it]"
          ]
        },
        {
          "name": "stdout",
          "output_type": "stream",
          "text": [
            "Accuracy:  0.848\n"
          ]
        },
        {
          "name": "stderr",
          "output_type": "stream",
          "text": [
            "\r  7%|▋         | 7/100 [02:45<36:36, 23.62s/it]"
          ]
        },
        {
          "name": "stdout",
          "output_type": "stream",
          "text": [
            "Accuracy:  0.85\n"
          ]
        },
        {
          "name": "stderr",
          "output_type": "stream",
          "text": [
            "\r  8%|▊         | 8/100 [03:08<36:08, 23.57s/it]"
          ]
        },
        {
          "name": "stdout",
          "output_type": "stream",
          "text": [
            "Accuracy:  0.862\n"
          ]
        },
        {
          "name": "stderr",
          "output_type": "stream",
          "text": [
            "\r  9%|▉         | 9/100 [03:32<35:44, 23.56s/it]"
          ]
        },
        {
          "name": "stdout",
          "output_type": "stream",
          "text": [
            "Accuracy:  0.864\n"
          ]
        },
        {
          "name": "stderr",
          "output_type": "stream",
          "text": [
            "\r 10%|█         | 10/100 [03:55<35:18, 23.54s/it]"
          ]
        },
        {
          "name": "stdout",
          "output_type": "stream",
          "text": [
            "Accuracy:  0.866\n"
          ]
        },
        {
          "name": "stderr",
          "output_type": "stream",
          "text": [
            "\r 11%|█         | 11/100 [04:19<34:55, 23.54s/it]"
          ]
        },
        {
          "name": "stdout",
          "output_type": "stream",
          "text": [
            "Accuracy:  0.866\n"
          ]
        },
        {
          "name": "stderr",
          "output_type": "stream",
          "text": [
            "\r 12%|█▏        | 12/100 [04:43<34:48, 23.73s/it]"
          ]
        },
        {
          "name": "stdout",
          "output_type": "stream",
          "text": [
            "Accuracy:  0.866\n"
          ]
        },
        {
          "name": "stderr",
          "output_type": "stream",
          "text": [
            "\r 13%|█▎        | 13/100 [05:07<34:18, 23.67s/it]"
          ]
        },
        {
          "name": "stdout",
          "output_type": "stream",
          "text": [
            "Accuracy:  0.868\n"
          ]
        },
        {
          "name": "stderr",
          "output_type": "stream",
          "text": [
            "\r 14%|█▍        | 14/100 [05:30<33:50, 23.62s/it]"
          ]
        },
        {
          "name": "stdout",
          "output_type": "stream",
          "text": [
            "Accuracy:  0.872\n"
          ]
        },
        {
          "name": "stderr",
          "output_type": "stream",
          "text": [
            "\r 15%|█▌        | 15/100 [05:54<33:25, 23.59s/it]"
          ]
        },
        {
          "name": "stdout",
          "output_type": "stream",
          "text": [
            "Accuracy:  0.872\n"
          ]
        },
        {
          "name": "stderr",
          "output_type": "stream",
          "text": [
            "\r 16%|█▌        | 16/100 [06:17<32:57, 23.54s/it]"
          ]
        },
        {
          "name": "stdout",
          "output_type": "stream",
          "text": [
            "Accuracy:  0.872\n"
          ]
        },
        {
          "name": "stderr",
          "output_type": "stream",
          "text": [
            "\r 17%|█▋        | 17/100 [06:41<32:33, 23.53s/it]"
          ]
        },
        {
          "name": "stdout",
          "output_type": "stream",
          "text": [
            "Accuracy:  0.872\n"
          ]
        },
        {
          "name": "stderr",
          "output_type": "stream",
          "text": [
            "\r 18%|█▊        | 18/100 [07:05<32:25, 23.73s/it]"
          ]
        },
        {
          "name": "stdout",
          "output_type": "stream",
          "text": [
            "Accuracy:  0.872\n"
          ]
        },
        {
          "name": "stderr",
          "output_type": "stream",
          "text": [
            "\r 19%|█▉        | 19/100 [07:28<31:55, 23.65s/it]"
          ]
        },
        {
          "name": "stdout",
          "output_type": "stream",
          "text": [
            "Accuracy:  0.872\n"
          ]
        },
        {
          "name": "stderr",
          "output_type": "stream",
          "text": [
            "\r 20%|██        | 20/100 [07:52<31:28, 23.61s/it]"
          ]
        },
        {
          "name": "stdout",
          "output_type": "stream",
          "text": [
            "Accuracy:  0.874\n"
          ]
        },
        {
          "name": "stderr",
          "output_type": "stream",
          "text": [
            "\r 21%|██        | 21/100 [08:15<31:02, 23.58s/it]"
          ]
        },
        {
          "name": "stdout",
          "output_type": "stream",
          "text": [
            "Accuracy:  0.874\n"
          ]
        },
        {
          "name": "stderr",
          "output_type": "stream",
          "text": [
            "\r 22%|██▏       | 22/100 [08:39<30:36, 23.55s/it]"
          ]
        },
        {
          "name": "stdout",
          "output_type": "stream",
          "text": [
            "Accuracy:  0.878\n"
          ]
        },
        {
          "name": "stderr",
          "output_type": "stream",
          "text": [
            "\r 23%|██▎       | 23/100 [09:02<30:12, 23.54s/it]"
          ]
        },
        {
          "name": "stdout",
          "output_type": "stream",
          "text": [
            "Accuracy:  0.88\n"
          ]
        },
        {
          "name": "stderr",
          "output_type": "stream",
          "text": [
            "\r 24%|██▍       | 24/100 [09:26<30:04, 23.74s/it]"
          ]
        },
        {
          "name": "stdout",
          "output_type": "stream",
          "text": [
            "Accuracy:  0.882\n"
          ]
        },
        {
          "name": "stderr",
          "output_type": "stream",
          "text": [
            "\r 25%|██▌       | 25/100 [09:50<29:37, 23.70s/it]"
          ]
        },
        {
          "name": "stdout",
          "output_type": "stream",
          "text": [
            "Accuracy:  0.888\n"
          ]
        },
        {
          "name": "stderr",
          "output_type": "stream",
          "text": [
            "\r 26%|██▌       | 26/100 [10:14<29:09, 23.65s/it]"
          ]
        },
        {
          "name": "stdout",
          "output_type": "stream",
          "text": [
            "Accuracy:  0.888\n"
          ]
        },
        {
          "name": "stderr",
          "output_type": "stream",
          "text": [
            "\r 27%|██▋       | 27/100 [10:37<28:42, 23.60s/it]"
          ]
        },
        {
          "name": "stdout",
          "output_type": "stream",
          "text": [
            "Accuracy:  0.894\n"
          ]
        },
        {
          "name": "stderr",
          "output_type": "stream",
          "text": [
            "\r 28%|██▊       | 28/100 [11:01<28:17, 23.58s/it]"
          ]
        },
        {
          "name": "stdout",
          "output_type": "stream",
          "text": [
            "Accuracy:  0.894\n"
          ]
        },
        {
          "name": "stderr",
          "output_type": "stream",
          "text": [
            "\r 29%|██▉       | 29/100 [11:24<27:52, 23.56s/it]"
          ]
        },
        {
          "name": "stdout",
          "output_type": "stream",
          "text": [
            "Accuracy:  0.896\n"
          ]
        },
        {
          "name": "stderr",
          "output_type": "stream",
          "text": [
            "\r 30%|███       | 30/100 [11:48<27:29, 23.57s/it]"
          ]
        },
        {
          "name": "stdout",
          "output_type": "stream",
          "text": [
            "Accuracy:  0.9\n"
          ]
        },
        {
          "name": "stderr",
          "output_type": "stream",
          "text": [
            "\r 31%|███       | 31/100 [12:12<27:17, 23.73s/it]"
          ]
        },
        {
          "name": "stdout",
          "output_type": "stream",
          "text": [
            "Accuracy:  0.902\n"
          ]
        },
        {
          "name": "stderr",
          "output_type": "stream",
          "text": [
            "\r 32%|███▏      | 32/100 [12:35<26:49, 23.67s/it]"
          ]
        },
        {
          "name": "stdout",
          "output_type": "stream",
          "text": [
            "Accuracy:  0.902\n"
          ]
        },
        {
          "name": "stderr",
          "output_type": "stream",
          "text": [
            "\r 33%|███▎      | 33/100 [12:59<26:21, 23.61s/it]"
          ]
        },
        {
          "name": "stdout",
          "output_type": "stream",
          "text": [
            "Accuracy:  0.898\n"
          ]
        },
        {
          "name": "stderr",
          "output_type": "stream",
          "text": [
            "\r 34%|███▍      | 34/100 [13:22<25:56, 23.58s/it]"
          ]
        },
        {
          "name": "stdout",
          "output_type": "stream",
          "text": [
            "Accuracy:  0.9\n"
          ]
        },
        {
          "name": "stderr",
          "output_type": "stream",
          "text": [
            "\r 35%|███▌      | 35/100 [13:46<25:33, 23.59s/it]"
          ]
        },
        {
          "name": "stdout",
          "output_type": "stream",
          "text": [
            "Accuracy:  0.9\n"
          ]
        },
        {
          "name": "stderr",
          "output_type": "stream",
          "text": [
            "\r 36%|███▌      | 36/100 [14:09<25:09, 23.59s/it]"
          ]
        },
        {
          "name": "stdout",
          "output_type": "stream",
          "text": [
            "Accuracy:  0.9\n"
          ]
        },
        {
          "name": "stderr",
          "output_type": "stream",
          "text": [
            "\r 37%|███▋      | 37/100 [14:34<24:56, 23.76s/it]"
          ]
        },
        {
          "name": "stdout",
          "output_type": "stream",
          "text": [
            "Accuracy:  0.9\n"
          ]
        },
        {
          "name": "stderr",
          "output_type": "stream",
          "text": [
            "\r 38%|███▊      | 38/100 [14:57<24:30, 23.72s/it]"
          ]
        },
        {
          "name": "stdout",
          "output_type": "stream",
          "text": [
            "Accuracy:  0.898\n"
          ]
        },
        {
          "name": "stderr",
          "output_type": "stream",
          "text": [
            "\r 39%|███▉      | 39/100 [15:21<24:08, 23.74s/it]"
          ]
        },
        {
          "name": "stdout",
          "output_type": "stream",
          "text": [
            "Accuracy:  0.898\n"
          ]
        },
        {
          "name": "stderr",
          "output_type": "stream",
          "text": [
            "\r 40%|████      | 40/100 [15:45<23:45, 23.75s/it]"
          ]
        },
        {
          "name": "stdout",
          "output_type": "stream",
          "text": [
            "Accuracy:  0.9\n"
          ]
        },
        {
          "name": "stderr",
          "output_type": "stream",
          "text": [
            "\r 41%|████      | 41/100 [16:09<23:21, 23.75s/it]"
          ]
        },
        {
          "name": "stdout",
          "output_type": "stream",
          "text": [
            "Accuracy:  0.902\n"
          ]
        },
        {
          "name": "stderr",
          "output_type": "stream",
          "text": [
            "\r 42%|████▏     | 42/100 [16:32<22:56, 23.73s/it]"
          ]
        },
        {
          "name": "stdout",
          "output_type": "stream",
          "text": [
            "Accuracy:  0.904\n"
          ]
        },
        {
          "name": "stderr",
          "output_type": "stream",
          "text": [
            "\r 43%|████▎     | 43/100 [16:57<22:44, 23.94s/it]"
          ]
        },
        {
          "name": "stdout",
          "output_type": "stream",
          "text": [
            "Accuracy:  0.902\n"
          ]
        },
        {
          "name": "stderr",
          "output_type": "stream",
          "text": [
            "\r 44%|████▍     | 44/100 [17:20<22:17, 23.88s/it]"
          ]
        },
        {
          "name": "stdout",
          "output_type": "stream",
          "text": [
            "Accuracy:  0.902\n"
          ]
        },
        {
          "name": "stderr",
          "output_type": "stream",
          "text": [
            "\r 45%|████▌     | 45/100 [17:44<21:51, 23.85s/it]"
          ]
        },
        {
          "name": "stdout",
          "output_type": "stream",
          "text": [
            "Accuracy:  0.904\n"
          ]
        },
        {
          "name": "stderr",
          "output_type": "stream",
          "text": [
            "\r 46%|████▌     | 46/100 [18:08<21:24, 23.78s/it]"
          ]
        },
        {
          "name": "stdout",
          "output_type": "stream",
          "text": [
            "Accuracy:  0.904\n"
          ]
        },
        {
          "name": "stderr",
          "output_type": "stream",
          "text": [
            "\r 47%|████▋     | 47/100 [18:32<20:58, 23.75s/it]"
          ]
        },
        {
          "name": "stdout",
          "output_type": "stream",
          "text": [
            "Accuracy:  0.906\n"
          ]
        },
        {
          "name": "stderr",
          "output_type": "stream",
          "text": [
            "\r 48%|████▊     | 48/100 [18:55<20:35, 23.75s/it]"
          ]
        },
        {
          "name": "stdout",
          "output_type": "stream",
          "text": [
            "Accuracy:  0.906\n"
          ]
        },
        {
          "name": "stderr",
          "output_type": "stream",
          "text": [
            "\r 49%|████▉     | 49/100 [19:19<20:12, 23.77s/it]"
          ]
        },
        {
          "name": "stdout",
          "output_type": "stream",
          "text": [
            "Accuracy:  0.906\n"
          ]
        },
        {
          "name": "stderr",
          "output_type": "stream",
          "text": [
            "\r 50%|█████     | 50/100 [19:43<19:57, 23.96s/it]"
          ]
        },
        {
          "name": "stdout",
          "output_type": "stream",
          "text": [
            "Accuracy:  0.908\n"
          ]
        },
        {
          "name": "stderr",
          "output_type": "stream",
          "text": [
            "\r 51%|█████     | 51/100 [20:07<19:30, 23.89s/it]"
          ]
        },
        {
          "name": "stdout",
          "output_type": "stream",
          "text": [
            "Accuracy:  0.908\n"
          ]
        },
        {
          "name": "stderr",
          "output_type": "stream",
          "text": [
            "\r 52%|█████▏    | 52/100 [20:31<19:04, 23.85s/it]"
          ]
        },
        {
          "name": "stdout",
          "output_type": "stream",
          "text": [
            "Accuracy:  0.908\n"
          ]
        },
        {
          "name": "stderr",
          "output_type": "stream",
          "text": [
            "\r 53%|█████▎    | 53/100 [20:55<18:39, 23.81s/it]"
          ]
        },
        {
          "name": "stdout",
          "output_type": "stream",
          "text": [
            "Accuracy:  0.908\n"
          ]
        },
        {
          "name": "stderr",
          "output_type": "stream",
          "text": [
            "\r 54%|█████▍    | 54/100 [21:18<18:13, 23.77s/it]"
          ]
        },
        {
          "name": "stdout",
          "output_type": "stream",
          "text": [
            "Accuracy:  0.908\n"
          ]
        },
        {
          "name": "stderr",
          "output_type": "stream",
          "text": [
            "\r 55%|█████▌    | 55/100 [21:42<17:49, 23.77s/it]"
          ]
        },
        {
          "name": "stdout",
          "output_type": "stream",
          "text": [
            "Accuracy:  0.91\n"
          ]
        },
        {
          "name": "stderr",
          "output_type": "stream",
          "text": [
            "\r 56%|█████▌    | 56/100 [22:06<17:32, 23.91s/it]"
          ]
        },
        {
          "name": "stdout",
          "output_type": "stream",
          "text": [
            "Accuracy:  0.91\n"
          ]
        },
        {
          "name": "stderr",
          "output_type": "stream",
          "text": [
            "\r 57%|█████▋    | 57/100 [22:30<17:02, 23.79s/it]"
          ]
        },
        {
          "name": "stdout",
          "output_type": "stream",
          "text": [
            "Accuracy:  0.91\n"
          ]
        },
        {
          "name": "stderr",
          "output_type": "stream",
          "text": [
            "\r 58%|█████▊    | 58/100 [22:53<16:35, 23.71s/it]"
          ]
        },
        {
          "name": "stdout",
          "output_type": "stream",
          "text": [
            "Accuracy:  0.91\n"
          ]
        },
        {
          "name": "stderr",
          "output_type": "stream",
          "text": [
            "\r 59%|█████▉    | 59/100 [23:17<16:10, 23.67s/it]"
          ]
        },
        {
          "name": "stdout",
          "output_type": "stream",
          "text": [
            "Accuracy:  0.912\n"
          ]
        },
        {
          "name": "stderr",
          "output_type": "stream",
          "text": [
            "\r 60%|██████    | 60/100 [23:41<15:46, 23.65s/it]"
          ]
        },
        {
          "name": "stdout",
          "output_type": "stream",
          "text": [
            "Accuracy:  0.914\n"
          ]
        },
        {
          "name": "stderr",
          "output_type": "stream",
          "text": [
            "\r 61%|██████    | 61/100 [24:04<15:21, 23.63s/it]"
          ]
        },
        {
          "name": "stdout",
          "output_type": "stream",
          "text": [
            "Accuracy:  0.916\n"
          ]
        },
        {
          "name": "stderr",
          "output_type": "stream",
          "text": [
            "\r 62%|██████▏   | 62/100 [24:28<14:57, 23.63s/it]"
          ]
        },
        {
          "name": "stdout",
          "output_type": "stream",
          "text": [
            "Accuracy:  0.916\n"
          ]
        },
        {
          "name": "stderr",
          "output_type": "stream",
          "text": [
            "\r 63%|██████▎   | 63/100 [24:52<14:40, 23.80s/it]"
          ]
        },
        {
          "name": "stdout",
          "output_type": "stream",
          "text": [
            "Accuracy:  0.918\n"
          ]
        },
        {
          "name": "stderr",
          "output_type": "stream",
          "text": [
            "\r 64%|██████▍   | 64/100 [25:16<14:14, 23.72s/it]"
          ]
        },
        {
          "name": "stdout",
          "output_type": "stream",
          "text": [
            "Accuracy:  0.92\n"
          ]
        },
        {
          "name": "stderr",
          "output_type": "stream",
          "text": [
            "\r 65%|██████▌   | 65/100 [25:39<13:47, 23.66s/it]"
          ]
        },
        {
          "name": "stdout",
          "output_type": "stream",
          "text": [
            "Accuracy:  0.922\n"
          ]
        },
        {
          "name": "stderr",
          "output_type": "stream",
          "text": [
            "\r 66%|██████▌   | 66/100 [26:03<13:23, 23.62s/it]"
          ]
        },
        {
          "name": "stdout",
          "output_type": "stream",
          "text": [
            "Accuracy:  0.92\n"
          ]
        },
        {
          "name": "stderr",
          "output_type": "stream",
          "text": [
            "\r 67%|██████▋   | 67/100 [26:26<12:57, 23.56s/it]"
          ]
        },
        {
          "name": "stdout",
          "output_type": "stream",
          "text": [
            "Accuracy:  0.922\n"
          ]
        },
        {
          "name": "stderr",
          "output_type": "stream",
          "text": [
            "\r 68%|██████▊   | 68/100 [26:49<12:33, 23.53s/it]"
          ]
        },
        {
          "name": "stdout",
          "output_type": "stream",
          "text": [
            "Accuracy:  0.92\n"
          ]
        },
        {
          "name": "stderr",
          "output_type": "stream",
          "text": [
            "\r 69%|██████▉   | 69/100 [27:14<12:15, 23.72s/it]"
          ]
        },
        {
          "name": "stdout",
          "output_type": "stream",
          "text": [
            "Accuracy:  0.924\n"
          ]
        },
        {
          "name": "stderr",
          "output_type": "stream",
          "text": [
            "\r 70%|███████   | 70/100 [27:37<11:51, 23.70s/it]"
          ]
        },
        {
          "name": "stdout",
          "output_type": "stream",
          "text": [
            "Accuracy:  0.924\n"
          ]
        },
        {
          "name": "stderr",
          "output_type": "stream",
          "text": [
            "\r 71%|███████   | 71/100 [28:01<11:25, 23.65s/it]"
          ]
        },
        {
          "name": "stdout",
          "output_type": "stream",
          "text": [
            "Accuracy:  0.924\n"
          ]
        },
        {
          "name": "stderr",
          "output_type": "stream",
          "text": [
            "\r 72%|███████▏  | 72/100 [28:24<11:00, 23.59s/it]"
          ]
        },
        {
          "name": "stdout",
          "output_type": "stream",
          "text": [
            "Accuracy:  0.926\n"
          ]
        },
        {
          "name": "stderr",
          "output_type": "stream",
          "text": [
            "\r 73%|███████▎  | 73/100 [28:48<10:37, 23.60s/it]"
          ]
        },
        {
          "name": "stdout",
          "output_type": "stream",
          "text": [
            "Accuracy:  0.928\n"
          ]
        },
        {
          "name": "stderr",
          "output_type": "stream",
          "text": [
            "\r 74%|███████▍  | 74/100 [29:12<10:13, 23.60s/it]"
          ]
        },
        {
          "name": "stdout",
          "output_type": "stream",
          "text": [
            "Accuracy:  0.928\n"
          ]
        },
        {
          "name": "stderr",
          "output_type": "stream",
          "text": [
            "\r 75%|███████▌  | 75/100 [29:35<09:50, 23.63s/it]"
          ]
        },
        {
          "name": "stdout",
          "output_type": "stream",
          "text": [
            "Accuracy:  0.928\n"
          ]
        },
        {
          "name": "stderr",
          "output_type": "stream",
          "text": [
            "\r 76%|███████▌  | 76/100 [29:59<09:31, 23.81s/it]"
          ]
        },
        {
          "name": "stdout",
          "output_type": "stream",
          "text": [
            "Accuracy:  0.928\n"
          ]
        },
        {
          "name": "stderr",
          "output_type": "stream",
          "text": [
            "\r 77%|███████▋  | 77/100 [30:23<09:05, 23.72s/it]"
          ]
        },
        {
          "name": "stdout",
          "output_type": "stream",
          "text": [
            "Accuracy:  0.928\n"
          ]
        },
        {
          "name": "stderr",
          "output_type": "stream",
          "text": [
            "\r 78%|███████▊  | 78/100 [30:47<08:41, 23.69s/it]"
          ]
        },
        {
          "name": "stdout",
          "output_type": "stream",
          "text": [
            "Accuracy:  0.926\n"
          ]
        },
        {
          "name": "stderr",
          "output_type": "stream",
          "text": [
            "\r 79%|███████▉  | 79/100 [31:10<08:16, 23.62s/it]"
          ]
        },
        {
          "name": "stdout",
          "output_type": "stream",
          "text": [
            "Accuracy:  0.928\n"
          ]
        },
        {
          "name": "stderr",
          "output_type": "stream",
          "text": [
            "\r 80%|████████  | 80/100 [31:34<07:51, 23.60s/it]"
          ]
        },
        {
          "name": "stdout",
          "output_type": "stream",
          "text": [
            "Accuracy:  0.928\n"
          ]
        },
        {
          "name": "stderr",
          "output_type": "stream",
          "text": [
            "\r 81%|████████  | 81/100 [31:57<07:28, 23.58s/it]"
          ]
        },
        {
          "name": "stdout",
          "output_type": "stream",
          "text": [
            "Accuracy:  0.93\n"
          ]
        },
        {
          "name": "stderr",
          "output_type": "stream",
          "text": [
            "\r 82%|████████▏ | 82/100 [32:21<07:07, 23.75s/it]"
          ]
        },
        {
          "name": "stdout",
          "output_type": "stream",
          "text": [
            "Accuracy:  0.926\n"
          ]
        },
        {
          "name": "stderr",
          "output_type": "stream",
          "text": [
            "\r 83%|████████▎ | 83/100 [32:45<06:42, 23.70s/it]"
          ]
        },
        {
          "name": "stdout",
          "output_type": "stream",
          "text": [
            "Accuracy:  0.926\n"
          ]
        },
        {
          "name": "stderr",
          "output_type": "stream",
          "text": [
            "\r 84%|████████▍ | 84/100 [33:08<06:17, 23.62s/it]"
          ]
        },
        {
          "name": "stdout",
          "output_type": "stream",
          "text": [
            "Accuracy:  0.926\n"
          ]
        },
        {
          "name": "stderr",
          "output_type": "stream",
          "text": [
            "\r 85%|████████▌ | 85/100 [33:32<05:54, 23.61s/it]"
          ]
        },
        {
          "name": "stdout",
          "output_type": "stream",
          "text": [
            "Accuracy:  0.926\n"
          ]
        },
        {
          "name": "stderr",
          "output_type": "stream",
          "text": [
            "\r 86%|████████▌ | 86/100 [33:55<05:30, 23.60s/it]"
          ]
        },
        {
          "name": "stdout",
          "output_type": "stream",
          "text": [
            "Accuracy:  0.926\n"
          ]
        },
        {
          "name": "stderr",
          "output_type": "stream",
          "text": [
            "\r 87%|████████▋ | 87/100 [34:19<05:06, 23.60s/it]"
          ]
        },
        {
          "name": "stdout",
          "output_type": "stream",
          "text": [
            "Accuracy:  0.928\n"
          ]
        },
        {
          "name": "stderr",
          "output_type": "stream",
          "text": [
            "\r 88%|████████▊ | 88/100 [34:43<04:43, 23.59s/it]"
          ]
        },
        {
          "name": "stdout",
          "output_type": "stream",
          "text": [
            "Accuracy:  0.93\n"
          ]
        },
        {
          "name": "stderr",
          "output_type": "stream",
          "text": [
            "\r 89%|████████▉ | 89/100 [35:07<04:21, 23.81s/it]"
          ]
        },
        {
          "name": "stdout",
          "output_type": "stream",
          "text": [
            "Accuracy:  0.93\n"
          ]
        },
        {
          "name": "stderr",
          "output_type": "stream",
          "text": [
            "\r 90%|█████████ | 90/100 [35:31<03:57, 23.74s/it]"
          ]
        },
        {
          "name": "stdout",
          "output_type": "stream",
          "text": [
            "Accuracy:  0.93\n"
          ]
        },
        {
          "name": "stderr",
          "output_type": "stream",
          "text": [
            "\r 91%|█████████ | 91/100 [35:54<03:33, 23.69s/it]"
          ]
        },
        {
          "name": "stdout",
          "output_type": "stream",
          "text": [
            "Accuracy:  0.932\n"
          ]
        },
        {
          "name": "stderr",
          "output_type": "stream",
          "text": [
            "\r 92%|█████████▏| 92/100 [36:18<03:09, 23.64s/it]"
          ]
        },
        {
          "name": "stdout",
          "output_type": "stream",
          "text": [
            "Accuracy:  0.934\n"
          ]
        },
        {
          "name": "stderr",
          "output_type": "stream",
          "text": [
            "\r 93%|█████████▎| 93/100 [36:41<02:45, 23.60s/it]"
          ]
        },
        {
          "name": "stdout",
          "output_type": "stream",
          "text": [
            "Accuracy:  0.932\n"
          ]
        },
        {
          "name": "stderr",
          "output_type": "stream",
          "text": [
            "\r 94%|█████████▍| 94/100 [37:05<02:21, 23.57s/it]"
          ]
        },
        {
          "name": "stdout",
          "output_type": "stream",
          "text": [
            "Accuracy:  0.934\n"
          ]
        },
        {
          "name": "stderr",
          "output_type": "stream",
          "text": [
            "\r 95%|█████████▌| 95/100 [37:29<01:58, 23.73s/it]"
          ]
        },
        {
          "name": "stdout",
          "output_type": "stream",
          "text": [
            "Accuracy:  0.934\n"
          ]
        },
        {
          "name": "stderr",
          "output_type": "stream",
          "text": [
            "\r 96%|█████████▌| 96/100 [37:52<01:34, 23.69s/it]"
          ]
        },
        {
          "name": "stdout",
          "output_type": "stream",
          "text": [
            "Accuracy:  0.934\n"
          ]
        },
        {
          "name": "stderr",
          "output_type": "stream",
          "text": [
            "\r 97%|█████████▋| 97/100 [38:16<01:10, 23.63s/it]"
          ]
        },
        {
          "name": "stdout",
          "output_type": "stream",
          "text": [
            "Accuracy:  0.932\n"
          ]
        },
        {
          "name": "stderr",
          "output_type": "stream",
          "text": [
            "\r 98%|█████████▊| 98/100 [38:39<00:47, 23.57s/it]"
          ]
        },
        {
          "name": "stdout",
          "output_type": "stream",
          "text": [
            "Accuracy:  0.932\n"
          ]
        },
        {
          "name": "stderr",
          "output_type": "stream",
          "text": [
            "\r 99%|█████████▉| 99/100 [39:03<00:23, 23.54s/it]"
          ]
        },
        {
          "name": "stdout",
          "output_type": "stream",
          "text": [
            "Accuracy:  0.932\n"
          ]
        },
        {
          "name": "stderr",
          "output_type": "stream",
          "text": [
            "100%|██████████| 100/100 [39:26<00:00, 23.67s/it]"
          ]
        },
        {
          "name": "stdout",
          "output_type": "stream",
          "text": [
            "Accuracy:  0.932\n"
          ]
        },
        {
          "name": "stderr",
          "output_type": "stream",
          "text": [
            "\n"
          ]
        },
        {
          "data": {
            "image/png": "[encoded data removed]",
            "text/plain": [
              "<Figure size 432x288 with 1 Axes>"
            ]
          },
          "metadata": {},
          "output_type": "display_data"
        },
        {
          "name": "stdout",
          "output_type": "stream",
          "text": [
            "Accuracy:  0.8803\n"
          ]
        },
        {
          "data": {
            "text/plain": [
              "0.8803"
            ]
          },
          "execution_count": 31,
          "metadata": {},
          "output_type": "execute_result"
        }
      ],
      "source": [
        "mini_batch_size = 200\n",
        "epoch_number = 75\n",
        "numHiddenLayers = 2\n",
        "HIDDEN_SIZE = 128\n",
        "# Set to 2 cuz best results in experiments\n",
        "lmbd = 2\n",
        "\n",
        "inputSize = X_train.shape[1]\n",
        "outputSize = y_train.shape[1]\n",
        "model = MLP(\"relu\", numHiddenLayers , HIDDEN_SIZE, inputSize, outputSize, epoch_number, mini_batch_size, regularization=True, lmbd=lmbd)\n",
        "\n",
        "model.fit(X_train, y_train)\n",
        "\n",
        "y_pred = model.predict(X_test)\n",
        "model.evaluate_acc(y_test, y_pred)"
      ]
    },
    {
      "cell_type": "code",
      "execution_count": null,
      "metadata": {
        "colab": {
          "background_save": true
        },
        "id": "bWOR8aTiPEGo"
      },
      "outputs": [],
      "source": [
        "# Lambda = 2\n",
        "reg_acc1 = 0.8803\n",
        "# Lambda = 4\n",
        "reg_acc2 = 0.8683\n",
        "# Lamda = 1\n",
        "reg_acc3 = 0.8684\n",
        "# Lambda 0.5\n",
        "reg_acc4 = 0.8636\n",
        "# Lambda 0.1\n",
        "reg_acc5 = 0.8588\n",
        "# Lambda 0.01\n",
        "reg_acc6 = 0.8546\n",
        "# Lambda 0.001\n",
        "reg_acc7 = 0.8548"
      ]
    },
    {
      "cell_type": "code",
      "execution_count": null,
      "metadata": {
        "colab": {
          "background_save": true,
          "base_uri": "https://localhost:8080/"
        },
        "id": "vUIVObf5S6NO",
        "outputId": "ce18af10-07d0-4df3-cf0b-976432b81826"
      },
      "outputs": [
        {
          "name": "stderr",
          "output_type": "stream",
          "text": [
            "  1%|          | 1/100 [00:24<41:02, 24.88s/it]"
          ]
        },
        {
          "name": "stdout",
          "output_type": "stream",
          "text": [
            "Accuracy:  0.78\n"
          ]
        },
        {
          "name": "stderr",
          "output_type": "stream",
          "text": [
            "\r  2%|▏         | 2/100 [00:50<41:11, 25.22s/it]"
          ]
        },
        {
          "name": "stdout",
          "output_type": "stream",
          "text": [
            "Accuracy:  0.812\n"
          ]
        },
        {
          "name": "stderr",
          "output_type": "stream",
          "text": [
            "\r  3%|▎         | 3/100 [01:15<40:22, 24.98s/it]"
          ]
        },
        {
          "name": "stdout",
          "output_type": "stream",
          "text": [
            "Accuracy:  0.82\n"
          ]
        },
        {
          "name": "stderr",
          "output_type": "stream",
          "text": [
            "\r  4%|▍         | 4/100 [01:39<39:46, 24.86s/it]"
          ]
        },
        {
          "name": "stdout",
          "output_type": "stream",
          "text": [
            "Accuracy:  0.828\n"
          ]
        },
        {
          "name": "stderr",
          "output_type": "stream",
          "text": [
            "\r  5%|▌         | 5/100 [02:04<39:15, 24.80s/it]"
          ]
        },
        {
          "name": "stdout",
          "output_type": "stream",
          "text": [
            "Accuracy:  0.834\n"
          ]
        },
        {
          "name": "stderr",
          "output_type": "stream",
          "text": [
            "\r  6%|▌         | 6/100 [02:29<38:49, 24.79s/it]"
          ]
        },
        {
          "name": "stdout",
          "output_type": "stream",
          "text": [
            "Accuracy:  0.84\n"
          ]
        },
        {
          "name": "stderr",
          "output_type": "stream",
          "text": [
            "\r  7%|▋         | 7/100 [02:53<38:22, 24.76s/it]"
          ]
        },
        {
          "name": "stdout",
          "output_type": "stream",
          "text": [
            "Accuracy:  0.84\n"
          ]
        },
        {
          "name": "stderr",
          "output_type": "stream",
          "text": [
            "\r  8%|▊         | 8/100 [03:19<38:14, 24.94s/it]"
          ]
        },
        {
          "name": "stdout",
          "output_type": "stream",
          "text": [
            "Accuracy:  0.842\n"
          ]
        },
        {
          "name": "stderr",
          "output_type": "stream",
          "text": [
            "\r  9%|▉         | 9/100 [03:43<37:41, 24.85s/it]"
          ]
        },
        {
          "name": "stdout",
          "output_type": "stream",
          "text": [
            "Accuracy:  0.848\n"
          ]
        },
        {
          "name": "stderr",
          "output_type": "stream",
          "text": [
            "\r 10%|█         | 10/100 [04:08<37:13, 24.81s/it]"
          ]
        },
        {
          "name": "stdout",
          "output_type": "stream",
          "text": [
            "Accuracy:  0.85\n"
          ]
        },
        {
          "name": "stderr",
          "output_type": "stream",
          "text": [
            "\r 11%|█         | 11/100 [04:33<36:43, 24.76s/it]"
          ]
        },
        {
          "name": "stdout",
          "output_type": "stream",
          "text": [
            "Accuracy:  0.85\n"
          ]
        },
        {
          "name": "stderr",
          "output_type": "stream",
          "text": [
            "\r 12%|█▏        | 12/100 [04:58<36:20, 24.78s/it]"
          ]
        },
        {
          "name": "stdout",
          "output_type": "stream",
          "text": [
            "Accuracy:  0.852\n"
          ]
        },
        {
          "name": "stderr",
          "output_type": "stream",
          "text": [
            "\r 13%|█▎        | 13/100 [05:22<35:54, 24.77s/it]"
          ]
        },
        {
          "name": "stdout",
          "output_type": "stream",
          "text": [
            "Accuracy:  0.858\n"
          ]
        },
        {
          "name": "stderr",
          "output_type": "stream",
          "text": [
            "\r 14%|█▍        | 14/100 [05:48<35:48, 24.98s/it]"
          ]
        },
        {
          "name": "stdout",
          "output_type": "stream",
          "text": [
            "Accuracy:  0.862\n"
          ]
        },
        {
          "name": "stderr",
          "output_type": "stream",
          "text": [
            "\r 15%|█▌        | 15/100 [06:13<35:19, 24.94s/it]"
          ]
        },
        {
          "name": "stdout",
          "output_type": "stream",
          "text": [
            "Accuracy:  0.862\n"
          ]
        },
        {
          "name": "stderr",
          "output_type": "stream",
          "text": [
            "\r 16%|█▌        | 16/100 [06:37<34:51, 24.90s/it]"
          ]
        },
        {
          "name": "stdout",
          "output_type": "stream",
          "text": [
            "Accuracy:  0.862\n"
          ]
        },
        {
          "name": "stderr",
          "output_type": "stream",
          "text": [
            "\r 17%|█▋        | 17/100 [07:02<34:20, 24.82s/it]"
          ]
        },
        {
          "name": "stdout",
          "output_type": "stream",
          "text": [
            "Accuracy:  0.864\n"
          ]
        },
        {
          "name": "stderr",
          "output_type": "stream",
          "text": [
            "\r 18%|█▊        | 18/100 [07:27<33:53, 24.80s/it]"
          ]
        },
        {
          "name": "stdout",
          "output_type": "stream",
          "text": [
            "Accuracy:  0.866\n"
          ]
        },
        {
          "name": "stderr",
          "output_type": "stream",
          "text": [
            "\r 19%|█▉        | 19/100 [07:51<33:26, 24.77s/it]"
          ]
        },
        {
          "name": "stdout",
          "output_type": "stream",
          "text": [
            "Accuracy:  0.87\n"
          ]
        },
        {
          "name": "stderr",
          "output_type": "stream",
          "text": [
            "\r 20%|██        | 20/100 [08:16<33:02, 24.78s/it]"
          ]
        },
        {
          "name": "stdout",
          "output_type": "stream",
          "text": [
            "Accuracy:  0.872\n"
          ]
        },
        {
          "name": "stderr",
          "output_type": "stream",
          "text": [
            "\r 21%|██        | 21/100 [08:42<32:50, 24.94s/it]"
          ]
        },
        {
          "name": "stdout",
          "output_type": "stream",
          "text": [
            "Accuracy:  0.874\n"
          ]
        },
        {
          "name": "stderr",
          "output_type": "stream",
          "text": [
            "\r 22%|██▏       | 22/100 [09:06<32:19, 24.87s/it]"
          ]
        },
        {
          "name": "stdout",
          "output_type": "stream",
          "text": [
            "Accuracy:  0.876\n"
          ]
        },
        {
          "name": "stderr",
          "output_type": "stream",
          "text": [
            "\r 23%|██▎       | 23/100 [09:31<31:52, 24.83s/it]"
          ]
        },
        {
          "name": "stdout",
          "output_type": "stream",
          "text": [
            "Accuracy:  0.88\n"
          ]
        },
        {
          "name": "stderr",
          "output_type": "stream",
          "text": [
            "\r 24%|██▍       | 24/100 [09:56<31:27, 24.83s/it]"
          ]
        },
        {
          "name": "stdout",
          "output_type": "stream",
          "text": [
            "Accuracy:  0.88\n"
          ]
        },
        {
          "name": "stderr",
          "output_type": "stream",
          "text": [
            "\r 25%|██▌       | 25/100 [10:21<31:02, 24.83s/it]"
          ]
        },
        {
          "name": "stdout",
          "output_type": "stream",
          "text": [
            "Accuracy:  0.882\n"
          ]
        },
        {
          "name": "stderr",
          "output_type": "stream",
          "text": [
            "\r 26%|██▌       | 26/100 [10:46<30:36, 24.81s/it]"
          ]
        },
        {
          "name": "stdout",
          "output_type": "stream",
          "text": [
            "Accuracy:  0.884\n"
          ]
        },
        {
          "name": "stderr",
          "output_type": "stream",
          "text": [
            "\r 27%|██▋       | 27/100 [11:11<30:23, 24.98s/it]"
          ]
        },
        {
          "name": "stdout",
          "output_type": "stream",
          "text": [
            "Accuracy:  0.884\n"
          ]
        },
        {
          "name": "stderr",
          "output_type": "stream",
          "text": [
            "\r 28%|██▊       | 28/100 [11:36<29:51, 24.88s/it]"
          ]
        },
        {
          "name": "stdout",
          "output_type": "stream",
          "text": [
            "Accuracy:  0.888\n"
          ]
        },
        {
          "name": "stderr",
          "output_type": "stream",
          "text": [
            "\r 29%|██▉       | 29/100 [12:00<29:20, 24.80s/it]"
          ]
        },
        {
          "name": "stdout",
          "output_type": "stream",
          "text": [
            "Accuracy:  0.888\n"
          ]
        },
        {
          "name": "stderr",
          "output_type": "stream",
          "text": [
            "\r 30%|███       | 30/100 [12:25<28:55, 24.79s/it]"
          ]
        },
        {
          "name": "stdout",
          "output_type": "stream",
          "text": [
            "Accuracy:  0.888\n"
          ]
        },
        {
          "name": "stderr",
          "output_type": "stream",
          "text": [
            "\r 31%|███       | 31/100 [12:50<28:28, 24.77s/it]"
          ]
        },
        {
          "name": "stdout",
          "output_type": "stream",
          "text": [
            "Accuracy:  0.894\n"
          ]
        },
        {
          "name": "stderr",
          "output_type": "stream",
          "text": [
            "\r 32%|███▏      | 32/100 [13:14<28:02, 24.74s/it]"
          ]
        },
        {
          "name": "stdout",
          "output_type": "stream",
          "text": [
            "Accuracy:  0.894\n"
          ]
        },
        {
          "name": "stderr",
          "output_type": "stream",
          "text": [
            "\r 33%|███▎      | 33/100 [13:40<27:47, 24.89s/it]"
          ]
        },
        {
          "name": "stdout",
          "output_type": "stream",
          "text": [
            "Accuracy:  0.894\n"
          ]
        },
        {
          "name": "stderr",
          "output_type": "stream",
          "text": [
            "\r 34%|███▍      | 34/100 [14:04<27:20, 24.86s/it]"
          ]
        },
        {
          "name": "stdout",
          "output_type": "stream",
          "text": [
            "Accuracy:  0.892\n"
          ]
        },
        {
          "name": "stderr",
          "output_type": "stream",
          "text": [
            "\r 35%|███▌      | 35/100 [14:29<26:53, 24.83s/it]"
          ]
        },
        {
          "name": "stdout",
          "output_type": "stream",
          "text": [
            "Accuracy:  0.892\n"
          ]
        },
        {
          "name": "stderr",
          "output_type": "stream",
          "text": [
            "\r 36%|███▌      | 36/100 [14:54<26:28, 24.82s/it]"
          ]
        },
        {
          "name": "stdout",
          "output_type": "stream",
          "text": [
            "Accuracy:  0.898\n"
          ]
        },
        {
          "name": "stderr",
          "output_type": "stream",
          "text": [
            "\r 37%|███▋      | 37/100 [15:19<26:02, 24.80s/it]"
          ]
        },
        {
          "name": "stdout",
          "output_type": "stream",
          "text": [
            "Accuracy:  0.898\n"
          ]
        },
        {
          "name": "stderr",
          "output_type": "stream",
          "text": [
            "\r 38%|███▊      | 38/100 [15:43<25:38, 24.81s/it]"
          ]
        },
        {
          "name": "stdout",
          "output_type": "stream",
          "text": [
            "Accuracy:  0.898\n"
          ]
        },
        {
          "name": "stderr",
          "output_type": "stream",
          "text": [
            "\r 39%|███▉      | 39/100 [16:08<25:15, 24.84s/it]"
          ]
        },
        {
          "name": "stdout",
          "output_type": "stream",
          "text": [
            "Accuracy:  0.898\n"
          ]
        },
        {
          "name": "stderr",
          "output_type": "stream",
          "text": [
            "\r 40%|████      | 40/100 [16:34<25:04, 25.07s/it]"
          ]
        },
        {
          "name": "stdout",
          "output_type": "stream",
          "text": [
            "Accuracy:  0.9\n"
          ]
        },
        {
          "name": "stderr",
          "output_type": "stream",
          "text": [
            "\r 41%|████      | 41/100 [16:59<24:34, 24.99s/it]"
          ]
        },
        {
          "name": "stdout",
          "output_type": "stream",
          "text": [
            "Accuracy:  0.902\n"
          ]
        },
        {
          "name": "stderr",
          "output_type": "stream",
          "text": [
            "\r 42%|████▏     | 42/100 [17:24<24:08, 24.97s/it]"
          ]
        },
        {
          "name": "stdout",
          "output_type": "stream",
          "text": [
            "Accuracy:  0.902\n"
          ]
        },
        {
          "name": "stderr",
          "output_type": "stream",
          "text": [
            "\r 43%|████▎     | 43/100 [17:49<23:41, 24.95s/it]"
          ]
        },
        {
          "name": "stdout",
          "output_type": "stream",
          "text": [
            "Accuracy:  0.904\n"
          ]
        },
        {
          "name": "stderr",
          "output_type": "stream",
          "text": [
            "\r 44%|████▍     | 44/100 [18:13<23:15, 24.93s/it]"
          ]
        },
        {
          "name": "stdout",
          "output_type": "stream",
          "text": [
            "Accuracy:  0.904\n"
          ]
        },
        {
          "name": "stderr",
          "output_type": "stream",
          "text": [
            "\r 45%|████▌     | 45/100 [18:39<22:52, 24.95s/it]"
          ]
        },
        {
          "name": "stdout",
          "output_type": "stream",
          "text": [
            "Accuracy:  0.906\n"
          ]
        },
        {
          "name": "stderr",
          "output_type": "stream",
          "text": [
            "\r 46%|████▌     | 46/100 [19:04<22:38, 25.16s/it]"
          ]
        },
        {
          "name": "stdout",
          "output_type": "stream",
          "text": [
            "Accuracy:  0.906\n"
          ]
        },
        {
          "name": "stderr",
          "output_type": "stream",
          "text": [
            "\r 47%|████▋     | 47/100 [19:29<22:12, 25.14s/it]"
          ]
        },
        {
          "name": "stdout",
          "output_type": "stream",
          "text": [
            "Accuracy:  0.906\n"
          ]
        },
        {
          "name": "stderr",
          "output_type": "stream",
          "text": [
            "\r 48%|████▊     | 48/100 [19:54<21:47, 25.15s/it]"
          ]
        },
        {
          "name": "stdout",
          "output_type": "stream",
          "text": [
            "Accuracy:  0.908\n"
          ]
        },
        {
          "name": "stderr",
          "output_type": "stream",
          "text": [
            "\r 49%|████▉     | 49/100 [20:20<21:22, 25.14s/it]"
          ]
        },
        {
          "name": "stdout",
          "output_type": "stream",
          "text": [
            "Accuracy:  0.908\n"
          ]
        },
        {
          "name": "stderr",
          "output_type": "stream",
          "text": [
            "\r 50%|█████     | 50/100 [20:45<20:55, 25.11s/it]"
          ]
        },
        {
          "name": "stdout",
          "output_type": "stream",
          "text": [
            "Accuracy:  0.908\n"
          ]
        },
        {
          "name": "stderr",
          "output_type": "stream",
          "text": [
            "\r 51%|█████     | 51/100 [21:10<20:27, 25.06s/it]"
          ]
        },
        {
          "name": "stdout",
          "output_type": "stream",
          "text": [
            "Accuracy:  0.908\n"
          ]
        },
        {
          "name": "stderr",
          "output_type": "stream",
          "text": [
            "\r 52%|█████▏    | 52/100 [21:35<20:02, 25.04s/it]"
          ]
        },
        {
          "name": "stdout",
          "output_type": "stream",
          "text": [
            "Accuracy:  0.908\n"
          ]
        },
        {
          "name": "stderr",
          "output_type": "stream",
          "text": [
            "\r 53%|█████▎    | 53/100 [22:00<19:44, 25.21s/it]"
          ]
        },
        {
          "name": "stdout",
          "output_type": "stream",
          "text": [
            "Accuracy:  0.908\n"
          ]
        },
        {
          "name": "stderr",
          "output_type": "stream",
          "text": [
            "\r 54%|█████▍    | 54/100 [22:25<19:17, 25.16s/it]"
          ]
        },
        {
          "name": "stdout",
          "output_type": "stream",
          "text": [
            "Accuracy:  0.912\n"
          ]
        },
        {
          "name": "stderr",
          "output_type": "stream",
          "text": [
            "\r 55%|█████▌    | 55/100 [22:50<18:47, 25.06s/it]"
          ]
        },
        {
          "name": "stdout",
          "output_type": "stream",
          "text": [
            "Accuracy:  0.908\n"
          ]
        },
        {
          "name": "stderr",
          "output_type": "stream",
          "text": [
            "\r 56%|█████▌    | 56/100 [23:15<18:22, 25.06s/it]"
          ]
        },
        {
          "name": "stdout",
          "output_type": "stream",
          "text": [
            "Accuracy:  0.908\n"
          ]
        },
        {
          "name": "stderr",
          "output_type": "stream",
          "text": [
            "\r 57%|█████▋    | 57/100 [23:40<17:56, 25.03s/it]"
          ]
        },
        {
          "name": "stdout",
          "output_type": "stream",
          "text": [
            "Accuracy:  0.908\n"
          ]
        },
        {
          "name": "stderr",
          "output_type": "stream",
          "text": [
            "\r 58%|█████▊    | 58/100 [24:05<17:30, 25.01s/it]"
          ]
        },
        {
          "name": "stdout",
          "output_type": "stream",
          "text": [
            "Accuracy:  0.91\n"
          ]
        },
        {
          "name": "stderr",
          "output_type": "stream",
          "text": [
            "\r 59%|█████▉    | 59/100 [24:31<17:12, 25.19s/it]"
          ]
        },
        {
          "name": "stdout",
          "output_type": "stream",
          "text": [
            "Accuracy:  0.91\n"
          ]
        },
        {
          "name": "stderr",
          "output_type": "stream",
          "text": [
            "\r 60%|██████    | 60/100 [24:56<16:45, 25.14s/it]"
          ]
        },
        {
          "name": "stdout",
          "output_type": "stream",
          "text": [
            "Accuracy:  0.91\n"
          ]
        },
        {
          "name": "stderr",
          "output_type": "stream",
          "text": [
            "\r 61%|██████    | 61/100 [25:21<16:19, 25.11s/it]"
          ]
        },
        {
          "name": "stdout",
          "output_type": "stream",
          "text": [
            "Accuracy:  0.912\n"
          ]
        },
        {
          "name": "stderr",
          "output_type": "stream",
          "text": [
            "\r 62%|██████▏   | 62/100 [25:46<15:54, 25.11s/it]"
          ]
        },
        {
          "name": "stdout",
          "output_type": "stream",
          "text": [
            "Accuracy:  0.912\n"
          ]
        },
        {
          "name": "stderr",
          "output_type": "stream",
          "text": [
            "\r 63%|██████▎   | 63/100 [26:11<15:28, 25.09s/it]"
          ]
        },
        {
          "name": "stdout",
          "output_type": "stream",
          "text": [
            "Accuracy:  0.914\n"
          ]
        },
        {
          "name": "stderr",
          "output_type": "stream",
          "text": [
            "\r 64%|██████▍   | 64/100 [26:36<15:01, 25.03s/it]"
          ]
        },
        {
          "name": "stdout",
          "output_type": "stream",
          "text": [
            "Accuracy:  0.914\n"
          ]
        },
        {
          "name": "stderr",
          "output_type": "stream",
          "text": [
            "\r 65%|██████▌   | 65/100 [27:01<14:34, 24.99s/it]"
          ]
        },
        {
          "name": "stdout",
          "output_type": "stream",
          "text": [
            "Accuracy:  0.918\n"
          ]
        },
        {
          "name": "stderr",
          "output_type": "stream",
          "text": [
            "\r 66%|██████▌   | 66/100 [27:26<14:15, 25.17s/it]"
          ]
        },
        {
          "name": "stdout",
          "output_type": "stream",
          "text": [
            "Accuracy:  0.918\n"
          ]
        },
        {
          "name": "stderr",
          "output_type": "stream",
          "text": [
            "\r 67%|██████▋   | 67/100 [27:51<13:47, 25.08s/it]"
          ]
        },
        {
          "name": "stdout",
          "output_type": "stream",
          "text": [
            "Accuracy:  0.918\n"
          ]
        },
        {
          "name": "stderr",
          "output_type": "stream",
          "text": [
            "\r 68%|██████▊   | 68/100 [28:16<13:21, 25.04s/it]"
          ]
        },
        {
          "name": "stdout",
          "output_type": "stream",
          "text": [
            "Accuracy:  0.918\n"
          ]
        },
        {
          "name": "stderr",
          "output_type": "stream",
          "text": [
            "\r 69%|██████▉   | 69/100 [28:41<12:55, 25.01s/it]"
          ]
        },
        {
          "name": "stdout",
          "output_type": "stream",
          "text": [
            "Accuracy:  0.918\n"
          ]
        },
        {
          "name": "stderr",
          "output_type": "stream",
          "text": [
            "\r 70%|███████   | 70/100 [29:06<12:30, 25.02s/it]"
          ]
        },
        {
          "name": "stdout",
          "output_type": "stream",
          "text": [
            "Accuracy:  0.918\n"
          ]
        },
        {
          "name": "stderr",
          "output_type": "stream",
          "text": [
            "\r 71%|███████   | 71/100 [29:31<12:06, 25.07s/it]"
          ]
        },
        {
          "name": "stdout",
          "output_type": "stream",
          "text": [
            "Accuracy:  0.918\n"
          ]
        },
        {
          "name": "stderr",
          "output_type": "stream",
          "text": [
            "\r 72%|███████▏  | 72/100 [29:57<11:49, 25.33s/it]"
          ]
        },
        {
          "name": "stdout",
          "output_type": "stream",
          "text": [
            "Accuracy:  0.918\n"
          ]
        },
        {
          "name": "stderr",
          "output_type": "stream",
          "text": [
            "\r 73%|███████▎  | 73/100 [30:22<11:23, 25.31s/it]"
          ]
        },
        {
          "name": "stdout",
          "output_type": "stream",
          "text": [
            "Accuracy:  0.92\n"
          ]
        },
        {
          "name": "stderr",
          "output_type": "stream",
          "text": [
            "\r 74%|███████▍  | 74/100 [30:48<10:57, 25.29s/it]"
          ]
        },
        {
          "name": "stdout",
          "output_type": "stream",
          "text": [
            "Accuracy:  0.92\n"
          ]
        },
        {
          "name": "stderr",
          "output_type": "stream",
          "text": [
            "\r 75%|███████▌  | 75/100 [31:13<10:31, 25.24s/it]"
          ]
        },
        {
          "name": "stdout",
          "output_type": "stream",
          "text": [
            "Accuracy:  0.92\n"
          ]
        },
        {
          "name": "stderr",
          "output_type": "stream",
          "text": [
            "\r 76%|███████▌  | 76/100 [31:38<10:04, 25.19s/it]"
          ]
        },
        {
          "name": "stdout",
          "output_type": "stream",
          "text": [
            "Accuracy:  0.92\n"
          ]
        },
        {
          "name": "stderr",
          "output_type": "stream",
          "text": [
            "\r 77%|███████▋  | 77/100 [32:03<09:39, 25.20s/it]"
          ]
        },
        {
          "name": "stdout",
          "output_type": "stream",
          "text": [
            "Accuracy:  0.92\n"
          ]
        },
        {
          "name": "stderr",
          "output_type": "stream",
          "text": [
            "\r 78%|███████▊  | 78/100 [32:28<09:14, 25.23s/it]"
          ]
        },
        {
          "name": "stdout",
          "output_type": "stream",
          "text": [
            "Accuracy:  0.922\n"
          ]
        },
        {
          "name": "stderr",
          "output_type": "stream",
          "text": [
            "\r 79%|███████▉  | 79/100 [32:54<08:52, 25.38s/it]"
          ]
        },
        {
          "name": "stdout",
          "output_type": "stream",
          "text": [
            "Accuracy:  0.922\n"
          ]
        },
        {
          "name": "stderr",
          "output_type": "stream",
          "text": [
            "\r 80%|████████  | 80/100 [33:19<08:26, 25.30s/it]"
          ]
        },
        {
          "name": "stdout",
          "output_type": "stream",
          "text": [
            "Accuracy:  0.924\n"
          ]
        },
        {
          "name": "stderr",
          "output_type": "stream",
          "text": [
            "\r 81%|████████  | 81/100 [33:44<07:59, 25.26s/it]"
          ]
        },
        {
          "name": "stdout",
          "output_type": "stream",
          "text": [
            "Accuracy:  0.924\n"
          ]
        },
        {
          "name": "stderr",
          "output_type": "stream",
          "text": [
            "\r 82%|████████▏ | 82/100 [34:10<07:34, 25.26s/it]"
          ]
        },
        {
          "name": "stdout",
          "output_type": "stream",
          "text": [
            "Accuracy:  0.924\n"
          ]
        },
        {
          "name": "stderr",
          "output_type": "stream",
          "text": [
            "\r 83%|████████▎ | 83/100 [34:35<07:08, 25.22s/it]"
          ]
        },
        {
          "name": "stdout",
          "output_type": "stream",
          "text": [
            "Accuracy:  0.924\n"
          ]
        },
        {
          "name": "stderr",
          "output_type": "stream",
          "text": [
            "\r 84%|████████▍ | 84/100 [35:00<06:43, 25.22s/it]"
          ]
        },
        {
          "name": "stdout",
          "output_type": "stream",
          "text": [
            "Accuracy:  0.924\n"
          ]
        },
        {
          "name": "stderr",
          "output_type": "stream",
          "text": [
            "\r 85%|████████▌ | 85/100 [35:26<06:21, 25.43s/it]"
          ]
        },
        {
          "name": "stdout",
          "output_type": "stream",
          "text": [
            "Accuracy:  0.924\n"
          ]
        },
        {
          "name": "stderr",
          "output_type": "stream",
          "text": [
            "\r 86%|████████▌ | 86/100 [35:51<05:54, 25.35s/it]"
          ]
        },
        {
          "name": "stdout",
          "output_type": "stream",
          "text": [
            "Accuracy:  0.924\n"
          ]
        },
        {
          "name": "stderr",
          "output_type": "stream",
          "text": [
            "\r 87%|████████▋ | 87/100 [36:16<05:28, 25.30s/it]"
          ]
        },
        {
          "name": "stdout",
          "output_type": "stream",
          "text": [
            "Accuracy:  0.924\n"
          ]
        },
        {
          "name": "stderr",
          "output_type": "stream",
          "text": [
            "\r 88%|████████▊ | 88/100 [36:42<05:03, 25.30s/it]"
          ]
        },
        {
          "name": "stdout",
          "output_type": "stream",
          "text": [
            "Accuracy:  0.924\n"
          ]
        },
        {
          "name": "stderr",
          "output_type": "stream",
          "text": [
            "\r 89%|████████▉ | 89/100 [37:07<04:37, 25.22s/it]"
          ]
        },
        {
          "name": "stdout",
          "output_type": "stream",
          "text": [
            "Accuracy:  0.926\n"
          ]
        },
        {
          "name": "stderr",
          "output_type": "stream",
          "text": [
            "\r 90%|█████████ | 90/100 [37:32<04:12, 25.20s/it]"
          ]
        },
        {
          "name": "stdout",
          "output_type": "stream",
          "text": [
            "Accuracy:  0.926\n"
          ]
        },
        {
          "name": "stderr",
          "output_type": "stream",
          "text": [
            "\r 91%|█████████ | 91/100 [37:57<03:46, 25.13s/it]"
          ]
        },
        {
          "name": "stdout",
          "output_type": "stream",
          "text": [
            "Accuracy:  0.926\n"
          ]
        },
        {
          "name": "stderr",
          "output_type": "stream",
          "text": [
            "\r 92%|█████████▏| 92/100 [38:22<03:22, 25.26s/it]"
          ]
        },
        {
          "name": "stdout",
          "output_type": "stream",
          "text": [
            "Accuracy:  0.928\n"
          ]
        },
        {
          "name": "stderr",
          "output_type": "stream",
          "text": [
            "\r 93%|█████████▎| 93/100 [38:47<02:56, 25.15s/it]"
          ]
        },
        {
          "name": "stdout",
          "output_type": "stream",
          "text": [
            "Accuracy:  0.928\n"
          ]
        },
        {
          "name": "stderr",
          "output_type": "stream",
          "text": [
            "\r 94%|█████████▍| 94/100 [39:12<02:30, 25.05s/it]"
          ]
        },
        {
          "name": "stdout",
          "output_type": "stream",
          "text": [
            "Accuracy:  0.93\n"
          ]
        },
        {
          "name": "stderr",
          "output_type": "stream",
          "text": [
            "\r 95%|█████████▌| 95/100 [39:37<02:05, 25.01s/it]"
          ]
        },
        {
          "name": "stdout",
          "output_type": "stream",
          "text": [
            "Accuracy:  0.93\n"
          ]
        },
        {
          "name": "stderr",
          "output_type": "stream",
          "text": [
            "\r 96%|█████████▌| 96/100 [40:02<01:40, 25.02s/it]"
          ]
        },
        {
          "name": "stdout",
          "output_type": "stream",
          "text": [
            "Accuracy:  0.932\n"
          ]
        },
        {
          "name": "stderr",
          "output_type": "stream",
          "text": [
            "\r 97%|█████████▋| 97/100 [40:27<01:14, 24.99s/it]"
          ]
        },
        {
          "name": "stdout",
          "output_type": "stream",
          "text": [
            "Accuracy:  0.932\n"
          ]
        },
        {
          "name": "stderr",
          "output_type": "stream",
          "text": [
            "\r 98%|█████████▊| 98/100 [40:52<00:50, 25.16s/it]"
          ]
        },
        {
          "name": "stdout",
          "output_type": "stream",
          "text": [
            "Accuracy:  0.932\n"
          ]
        },
        {
          "name": "stderr",
          "output_type": "stream",
          "text": [
            "\r 99%|█████████▉| 99/100 [41:17<00:25, 25.07s/it]"
          ]
        },
        {
          "name": "stdout",
          "output_type": "stream",
          "text": [
            "Accuracy:  0.932\n"
          ]
        },
        {
          "name": "stderr",
          "output_type": "stream",
          "text": [
            "100%|██████████| 100/100 [41:42<00:00, 25.03s/it]"
          ]
        },
        {
          "name": "stdout",
          "output_type": "stream",
          "text": [
            "Accuracy:  0.932\n"
          ]
        },
        {
          "name": "stderr",
          "output_type": "stream",
          "text": [
            "\n"
          ]
        },
        {
          "data": {
            "image/png": "[encoded data removed]",
            "text/plain": [
              "<Figure size 432x288 with 1 Axes>"
            ]
          },
          "metadata": {},
          "output_type": "display_data"
        },
        {
          "name": "stdout",
          "output_type": "stream",
          "text": [
            "Accuracy:  0.8808\n"
          ]
        },
        {
          "data": {
            "text/plain": [
              "0.8808"
            ]
          },
          "execution_count": 33,
          "metadata": {},
          "output_type": "execute_result"
        }
      ],
      "source": [
        "mini_batch_size = 200\n",
        "epoch_number = 75\n",
        "numHiddenLayers = 2\n",
        "HIDDEN_SIZE = 128\n",
        "lmbd = 2\n",
        "\n",
        "inputSize = X_train.shape[1]\n",
        "outputSize = y_train.shape[1]\n",
        "model = MLP(\"tanh\", numHiddenLayers , HIDDEN_SIZE, inputSize, outputSize, epoch_number, mini_batch_size, regularization=True, lmbd=lmbd)\n",
        "\n",
        "model.fit(X_train, y_train)\n",
        "\n",
        "y_pred = model.predict(X_test)\n",
        "model.evaluate_acc(y_test, y_pred)"
      ]
    },
    {
      "cell_type": "code",
      "execution_count": null,
      "metadata": {
        "colab": {
          "background_save": true
        },
        "id": "zdfFEM6QeT9C"
      },
      "outputs": [],
      "source": [
        "tanh_regularized_acc = 0.8808"
      ]
    },
    {
      "cell_type": "code",
      "execution_count": null,
      "metadata": {
        "colab": {
          "base_uri": "https://localhost:8080/",
          "height": 363,
          "referenced_widgets": [
            "aac9536f0fc04e75a12e31ba9a1f11b0",
            "8df1c111e1a64899a5a0dd7bfeae86d1",
            "a8a3bff941224e1f9c47804248292c33",
            "8af1ac6b48514224afb8e2f79a706d9f",
            "4f0ceec49a524aeebad8b8f0a6523057",
            "a29eb4f3b9bc484e8f4e9c051b2a26ee",
            "37519119eb984f95b4ab4c7ced0fef6b",
            "fa448b3735084ec6b95db1ce87c39829",
            "87f044ef07434700baf0229a515091ba",
            "4fa8d30e22bc4e389a60c79f3384f61d",
            "fcfa9e70f20b4b6582ae567bb2fc9f71"
          ]
        },
        "id": "M2x-GOWKTIwF",
        "outputId": "5300fdff-8ae4-4fac-c54b-8947b4deae1d"
      },
      "outputs": [
        {
          "output_type": "display_data",
          "data": {
            "text/plain": [
              "  0%|          | 0/75 [00:00<?, ?it/s]"
            ],
            "application/vnd.jupyter.widget-view+json": {
              "version_major": 2,
              "version_minor": 0,
              "model_id": "aac9536f0fc04e75a12e31ba9a1f11b0"
            }
          },
          "metadata": {}
        },
        {
          "output_type": "display_data",
          "data": {
            "text/plain": [
              "<Figure size 432x288 with 1 Axes>"
            ],
            "image/png": "[encoded data removed]"
          },
          "metadata": {
            "needs_background": "light"
          }
        },
        {
          "output_type": "stream",
          "name": "stdout",
          "text": [
            "Accuracy:  0.8759\n"
          ]
        },
        {
          "output_type": "execute_result",
          "data": {
            "text/plain": [
              "0.8759"
            ]
          },
          "metadata": {},
          "execution_count": 42
        }
      ],
      "source": [
        "mini_batch_size = 200\n",
        "epoch_number = 75\n",
        "numHiddenLayers = 2\n",
        "HIDDEN_SIZE = 128\n",
        "lmbd = 2\n",
        "\n",
        "inputSize = X_train.shape[1]\n",
        "outputSize = y_train.shape[1]\n",
        "model = MLP(\"leaky_relu\", numHiddenLayers , HIDDEN_SIZE, inputSize, outputSize, epoch_number, mini_batch_size, regularization=True, lmbd=lmbd)\n",
        "\n",
        "model.fit(X_train, y_train)\n",
        "\n",
        "y_pred = model.predict(X_test)\n",
        "model.evaluate_acc(y_test, y_pred)"
      ]
    },
    {
      "cell_type": "code",
      "execution_count": null,
      "metadata": {
        "id": "UeQ-tNAemJEW"
      },
      "outputs": [],
      "source": [
        "leaky_relu_regularized = 0.8759"
      ]
    },
    {
      "cell_type": "markdown",
      "metadata": {
        "id": "7-GR1_pX1SVu"
      },
      "source": [
        "## 4) Not Normalized \n",
        "\n",
        "* We initially had a numerical issue (probably divide by 0). For some reason, we don't have this issue with X_train & X_test. Upon inspection, the normalization converted all ints to floats (so, 0 becomes 0.). I therefore divided the ..._not_normalized arrays by 1 to resolve this issue. Unsure why this causes a problem though. \n",
        "* As expected, working with non normalized data significantly impacts performance. An accuracy of 0.1 is equivalent to randomly guessing (since there are 10 classes), and that is what our model effectively ends up doing. \n",
        "* This could be explained by the fact that, since there is a much larger range of values, the gradient calculations vary enormously from one neuron to the next and "
      ]
    },
    {
      "cell_type": "code",
      "execution_count": null,
      "metadata": {
        "id": "6fXtt6kA1WPc"
      },
      "outputs": [],
      "source": [
        "mini_batch_size = 200\n",
        "epoch_number = 20\n",
        "numHiddenLayers = 2\n",
        "HIDDEN_SIZE = 128\n",
        "\n",
        "inputSize = X_train_not_normalized.shape[1]\n",
        "outputSize = y_train.shape[1]\n",
        "model = MLP(\"relu\", numHiddenLayers, HIDDEN_SIZE, inputSize, outputSize, epoch_number, mini_batch_size)\n",
        "\n",
        "model.fit(X_train_not_normalized, y_train)\n",
        "\n",
        "y_pred = model.predict(X_test_not_normalized)\n",
        "model.evaluate_acc(y_test, y_pred)"
      ]
    },
    {
      "cell_type": "code",
      "execution_count": null,
      "metadata": {
        "id": "gIkphUhP1Y0T"
      },
      "outputs": [],
      "source": [
        "notnormalized_acc = 0.1"
      ]
    },
    {
      "cell_type": "markdown",
      "metadata": {
        "id": "VLrdKWcKMZs-"
      },
      "source": [
        "## 5) ConvNet with Keras\n",
        "\n",
        "NOTE: PORTIONS ARE COMMENTED OUT TO PREVENT IT FROM RUNNING WITH EVERY RUN. convnet_acc HAS BEEN SAVED SEPARATELY SO IT'S USABLE/VISIBLE. \n",
        "\n",
        "[Used guide by Rutvik Deshpande](https://www.kaggle.com/code/rutvikdeshpande/fashion-mnist-cnn-beginner-98/notebook)\n",
        "\n",
        "**Notes on Model Design**\n",
        "*   Used GPU acceleration (Runtime->Change runtime type) for much faster training\n",
        "*   Rutvik's model design provides improved performance on test data thanks to layers that help prevent overfitting (in particular multiple Dropout layers to prevent over-reliance on specific neurons, including in the fully connected classification portion of the model)\n",
        "*   It also makes use of multiple BatchNormalization layers as a way of reducing sensitivity to the learning rate (though ADAM is used, which is already a great option) & reduced gradient explosion (though there aren't too many connected layers, meaning the risk of this is lowered).\n",
        "\n",
        "**Notes on Results**\n",
        "*    With GPU acceleration, it still took 6m 23s to train due to the high number of epochs (100)\n",
        "*    Test accuracy: 0.9722; validation accuracy: 0.9345\n",
        "*    As the test accuracy < 1, this indicates that our model does not overfit\n",
        "*    convnet_acc = 0.9297999739646912. A pretty decent classification accuracy on the testing set. \n",
        "*    This clearly outperforms the MLP's best accuracies we could get by a lot. This makes sense since ConvNets are specially adapted to better handling image inputs by performing convolution as a way of extracting more meaningful image features. Additionally, this model is a lot more complex and contains a lot more layers for improved feature abstraction, which is possible given Keras's GPU optimizations (for our MLP, creating more complex models would create for much too slow training times). "
      ]
    },
    {
      "cell_type": "code",
      "execution_count": null,
      "metadata": {
        "id": "RBipcrItMdms",
        "colab": {
          "base_uri": "https://localhost:8080/",
          "height": 1000
        },
        "outputId": "db190c06-9b86-45c9-f627-f0bf38e41e1b"
      },
      "outputs": [
        {
          "output_type": "execute_result",
          "data": {
            "image/png": "[encoded data removed]",
            "text/plain": [
              "<IPython.core.display.Image object>"
            ]
          },
          "metadata": {},
          "execution_count": 19
        }
      ],
      "source": [
        "model = Sequential([\n",
        "  Conv2D(32, 3, padding='same', activation='relu',kernel_initializer='he_normal', input_shape=(28,28, 1)),\n",
        "  MaxPooling2D(pool_size=(2, 2)),\n",
        "  Conv2D(64, 3, padding='same', activation='relu'),\n",
        "  MaxPooling2D(pool_size=(2, 2)),\n",
        "  Dropout(0.3),\n",
        "  BatchNormalization(),\n",
        "  Conv2D(128, 3, padding='same', activation='relu'),\n",
        "  Conv2D(128, 3, padding='same', activation='relu'),\n",
        "  MaxPooling2D(pool_size=(2, 2)),\n",
        "  Dropout(0.4),\n",
        "  Flatten(),\n",
        "  BatchNormalization(),\n",
        "  Dense(512, activation='relu'),\n",
        "  Dropout(0.25),\n",
        "  Dense(10, activation='softmax')\n",
        "])\n",
        "\n",
        "plot_model(model, to_file=\"convnet.png\")"
      ]
    },
    {
      "cell_type": "code",
      "execution_count": null,
      "metadata": {
        "id": "0QSNloUMcZdR",
        "colab": {
          "base_uri": "https://localhost:8080/"
        },
        "outputId": "80d23d07-8f87-4658-942a-a316b0ee54d3"
      },
      "outputs": [
        {
          "output_type": "stream",
          "name": "stdout",
          "text": [
            "Epoch 1/100\n",
            "375/375 [==============================] - 13s 9ms/step - loss: 0.5621 - accuracy: 0.7989 - val_loss: 0.4068 - val_accuracy: 0.8472\n",
            "Epoch 2/100\n",
            "375/375 [==============================] - 3s 8ms/step - loss: 0.3847 - accuracy: 0.8592 - val_loss: 0.3007 - val_accuracy: 0.8870\n",
            "Epoch 3/100\n",
            "375/375 [==============================] - 3s 8ms/step - loss: 0.3316 - accuracy: 0.8780 - val_loss: 0.3393 - val_accuracy: 0.8736\n",
            "Epoch 4/100\n",
            "375/375 [==============================] - 4s 9ms/step - loss: 0.3034 - accuracy: 0.8881 - val_loss: 0.2689 - val_accuracy: 0.8973\n",
            "Epoch 5/100\n",
            "375/375 [==============================] - 5s 12ms/step - loss: 0.2804 - accuracy: 0.8963 - val_loss: 0.2387 - val_accuracy: 0.9115\n",
            "Epoch 6/100\n",
            "375/375 [==============================] - 5s 12ms/step - loss: 0.2673 - accuracy: 0.9010 - val_loss: 0.2455 - val_accuracy: 0.9054\n",
            "Epoch 7/100\n",
            "375/375 [==============================] - 3s 8ms/step - loss: 0.2566 - accuracy: 0.9050 - val_loss: 0.2258 - val_accuracy: 0.9160\n",
            "Epoch 8/100\n",
            "375/375 [==============================] - 3s 8ms/step - loss: 0.2436 - accuracy: 0.9089 - val_loss: 0.2270 - val_accuracy: 0.9146\n",
            "Epoch 9/100\n",
            "375/375 [==============================] - 4s 10ms/step - loss: 0.2377 - accuracy: 0.9104 - val_loss: 0.2250 - val_accuracy: 0.9183\n",
            "Epoch 10/100\n",
            "375/375 [==============================] - 3s 9ms/step - loss: 0.2316 - accuracy: 0.9149 - val_loss: 0.2154 - val_accuracy: 0.9220\n",
            "Epoch 11/100\n",
            "375/375 [==============================] - 3s 8ms/step - loss: 0.2238 - accuracy: 0.9167 - val_loss: 0.2275 - val_accuracy: 0.9162\n",
            "Epoch 12/100\n",
            "375/375 [==============================] - 3s 8ms/step - loss: 0.2152 - accuracy: 0.9203 - val_loss: 0.2234 - val_accuracy: 0.9146\n",
            "Epoch 13/100\n",
            "375/375 [==============================] - 3s 8ms/step - loss: 0.2127 - accuracy: 0.9196 - val_loss: 0.2107 - val_accuracy: 0.9230\n",
            "Epoch 14/100\n",
            "375/375 [==============================] - 3s 8ms/step - loss: 0.2053 - accuracy: 0.9224 - val_loss: 0.2234 - val_accuracy: 0.9199\n",
            "Epoch 15/100\n",
            "375/375 [==============================] - 3s 8ms/step - loss: 0.2009 - accuracy: 0.9237 - val_loss: 0.2078 - val_accuracy: 0.9224\n",
            "Epoch 16/100\n",
            "375/375 [==============================] - 3s 8ms/step - loss: 0.1957 - accuracy: 0.9273 - val_loss: 0.2108 - val_accuracy: 0.9252\n",
            "Epoch 17/100\n",
            "375/375 [==============================] - 3s 9ms/step - loss: 0.1903 - accuracy: 0.9289 - val_loss: 0.1920 - val_accuracy: 0.9295\n",
            "Epoch 18/100\n",
            "375/375 [==============================] - 3s 8ms/step - loss: 0.1863 - accuracy: 0.9295 - val_loss: 0.2018 - val_accuracy: 0.9262\n",
            "Epoch 19/100\n",
            "375/375 [==============================] - 3s 8ms/step - loss: 0.1861 - accuracy: 0.9304 - val_loss: 0.1929 - val_accuracy: 0.9294\n",
            "Epoch 20/100\n",
            "375/375 [==============================] - 3s 8ms/step - loss: 0.1767 - accuracy: 0.9335 - val_loss: 0.1964 - val_accuracy: 0.9298\n",
            "Epoch 21/100\n",
            "375/375 [==============================] - 3s 8ms/step - loss: 0.1751 - accuracy: 0.9343 - val_loss: 0.1902 - val_accuracy: 0.9311\n",
            "Epoch 22/100\n",
            "375/375 [==============================] - 3s 8ms/step - loss: 0.1695 - accuracy: 0.9367 - val_loss: 0.1935 - val_accuracy: 0.9303\n",
            "Epoch 23/100\n",
            "375/375 [==============================] - 3s 8ms/step - loss: 0.1684 - accuracy: 0.9360 - val_loss: 0.2153 - val_accuracy: 0.9237\n",
            "Epoch 24/100\n",
            "375/375 [==============================] - 3s 8ms/step - loss: 0.1669 - accuracy: 0.9367 - val_loss: 0.1877 - val_accuracy: 0.9318\n",
            "Epoch 25/100\n",
            "375/375 [==============================] - 3s 9ms/step - loss: 0.1640 - accuracy: 0.9376 - val_loss: 0.1939 - val_accuracy: 0.9327\n",
            "Epoch 26/100\n",
            "375/375 [==============================] - 3s 9ms/step - loss: 0.1610 - accuracy: 0.9391 - val_loss: 0.2012 - val_accuracy: 0.9311\n",
            "Epoch 27/100\n",
            "375/375 [==============================] - 3s 8ms/step - loss: 0.1566 - accuracy: 0.9406 - val_loss: 0.1870 - val_accuracy: 0.9351\n",
            "Epoch 28/100\n",
            "375/375 [==============================] - 3s 8ms/step - loss: 0.1527 - accuracy: 0.9420 - val_loss: 0.1966 - val_accuracy: 0.9294\n",
            "Epoch 29/100\n",
            "375/375 [==============================] - 4s 10ms/step - loss: 0.1479 - accuracy: 0.9442 - val_loss: 0.1983 - val_accuracy: 0.9317\n",
            "Epoch 30/100\n",
            "375/375 [==============================] - 3s 9ms/step - loss: 0.1450 - accuracy: 0.9451 - val_loss: 0.1817 - val_accuracy: 0.9355\n",
            "Epoch 31/100\n",
            "375/375 [==============================] - 3s 8ms/step - loss: 0.1442 - accuracy: 0.9449 - val_loss: 0.2406 - val_accuracy: 0.9181\n",
            "Epoch 32/100\n",
            "375/375 [==============================] - 3s 9ms/step - loss: 0.1414 - accuracy: 0.9467 - val_loss: 0.1958 - val_accuracy: 0.9342\n",
            "Epoch 33/100\n",
            "375/375 [==============================] - 3s 8ms/step - loss: 0.1404 - accuracy: 0.9472 - val_loss: 0.1905 - val_accuracy: 0.9355\n",
            "Epoch 34/100\n",
            "375/375 [==============================] - 4s 9ms/step - loss: 0.1343 - accuracy: 0.9478 - val_loss: 0.1963 - val_accuracy: 0.9343\n",
            "Epoch 35/100\n",
            "375/375 [==============================] - 4s 9ms/step - loss: 0.1353 - accuracy: 0.9490 - val_loss: 0.1922 - val_accuracy: 0.9373\n",
            "Epoch 36/100\n",
            "375/375 [==============================] - 3s 9ms/step - loss: 0.1347 - accuracy: 0.9500 - val_loss: 0.1975 - val_accuracy: 0.9348\n",
            "Epoch 37/100\n",
            "375/375 [==============================] - 3s 9ms/step - loss: 0.1304 - accuracy: 0.9505 - val_loss: 0.2027 - val_accuracy: 0.9325\n",
            "Epoch 38/100\n",
            "375/375 [==============================] - 3s 9ms/step - loss: 0.1329 - accuracy: 0.9502 - val_loss: 0.2009 - val_accuracy: 0.9318\n",
            "Epoch 39/100\n",
            "375/375 [==============================] - 3s 9ms/step - loss: 0.1260 - accuracy: 0.9534 - val_loss: 0.1878 - val_accuracy: 0.9358\n",
            "Epoch 40/100\n",
            "375/375 [==============================] - 3s 9ms/step - loss: 0.1252 - accuracy: 0.9525 - val_loss: 0.1979 - val_accuracy: 0.9346\n",
            "Epoch 41/100\n",
            "375/375 [==============================] - 3s 8ms/step - loss: 0.1251 - accuracy: 0.9530 - val_loss: 0.1945 - val_accuracy: 0.9367\n",
            "Epoch 42/100\n",
            "375/375 [==============================] - 4s 9ms/step - loss: 0.1240 - accuracy: 0.9535 - val_loss: 0.1975 - val_accuracy: 0.9341\n",
            "Epoch 43/100\n",
            "375/375 [==============================] - 3s 9ms/step - loss: 0.1205 - accuracy: 0.9546 - val_loss: 0.2019 - val_accuracy: 0.9319\n",
            "Epoch 44/100\n",
            "375/375 [==============================] - 4s 9ms/step - loss: 0.1208 - accuracy: 0.9540 - val_loss: 0.1942 - val_accuracy: 0.9360\n",
            "Epoch 45/100\n",
            "375/375 [==============================] - 4s 9ms/step - loss: 0.1143 - accuracy: 0.9567 - val_loss: 0.1990 - val_accuracy: 0.9374\n",
            "Epoch 46/100\n",
            "375/375 [==============================] - 4s 9ms/step - loss: 0.1173 - accuracy: 0.9554 - val_loss: 0.1952 - val_accuracy: 0.9347\n",
            "Epoch 47/100\n",
            "375/375 [==============================] - 3s 8ms/step - loss: 0.1142 - accuracy: 0.9570 - val_loss: 0.1992 - val_accuracy: 0.9345\n",
            "Epoch 48/100\n",
            "375/375 [==============================] - 3s 8ms/step - loss: 0.1102 - accuracy: 0.9575 - val_loss: 0.1937 - val_accuracy: 0.9360\n",
            "Epoch 49/100\n",
            "375/375 [==============================] - 3s 8ms/step - loss: 0.1139 - accuracy: 0.9571 - val_loss: 0.1947 - val_accuracy: 0.9354\n",
            "Epoch 50/100\n",
            "375/375 [==============================] - 3s 8ms/step - loss: 0.1079 - accuracy: 0.9595 - val_loss: 0.1960 - val_accuracy: 0.9392\n",
            "Epoch 51/100\n",
            "375/375 [==============================] - 3s 8ms/step - loss: 0.1105 - accuracy: 0.9575 - val_loss: 0.1928 - val_accuracy: 0.9336\n",
            "Epoch 52/100\n",
            "375/375 [==============================] - 3s 9ms/step - loss: 0.1087 - accuracy: 0.9590 - val_loss: 0.2008 - val_accuracy: 0.9359\n",
            "Epoch 53/100\n",
            "375/375 [==============================] - 3s 9ms/step - loss: 0.1077 - accuracy: 0.9599 - val_loss: 0.2051 - val_accuracy: 0.9341\n",
            "Epoch 54/100\n",
            "375/375 [==============================] - 3s 8ms/step - loss: 0.1077 - accuracy: 0.9597 - val_loss: 0.1933 - val_accuracy: 0.9376\n",
            "Epoch 55/100\n",
            "375/375 [==============================] - 3s 8ms/step - loss: 0.1031 - accuracy: 0.9609 - val_loss: 0.2038 - val_accuracy: 0.9341\n",
            "Epoch 56/100\n",
            "375/375 [==============================] - 3s 8ms/step - loss: 0.1037 - accuracy: 0.9619 - val_loss: 0.1993 - val_accuracy: 0.9352\n",
            "Epoch 57/100\n",
            "375/375 [==============================] - 3s 9ms/step - loss: 0.1049 - accuracy: 0.9618 - val_loss: 0.1968 - val_accuracy: 0.9369\n",
            "Epoch 58/100\n",
            "375/375 [==============================] - 3s 8ms/step - loss: 0.0991 - accuracy: 0.9622 - val_loss: 0.2102 - val_accuracy: 0.9371\n",
            "Epoch 59/100\n",
            "375/375 [==============================] - 3s 9ms/step - loss: 0.1003 - accuracy: 0.9619 - val_loss: 0.2117 - val_accuracy: 0.9352\n",
            "Epoch 60/100\n",
            "375/375 [==============================] - 3s 9ms/step - loss: 0.0966 - accuracy: 0.9639 - val_loss: 0.2119 - val_accuracy: 0.9337\n",
            "Epoch 61/100\n",
            "375/375 [==============================] - 3s 9ms/step - loss: 0.1020 - accuracy: 0.9629 - val_loss: 0.1971 - val_accuracy: 0.9399\n",
            "Epoch 62/100\n",
            "375/375 [==============================] - 3s 8ms/step - loss: 0.0965 - accuracy: 0.9632 - val_loss: 0.2073 - val_accuracy: 0.9381\n",
            "Epoch 63/100\n",
            "375/375 [==============================] - 3s 8ms/step - loss: 0.0967 - accuracy: 0.9643 - val_loss: 0.2004 - val_accuracy: 0.9391\n",
            "Epoch 64/100\n",
            "375/375 [==============================] - 3s 8ms/step - loss: 0.0975 - accuracy: 0.9638 - val_loss: 0.1906 - val_accuracy: 0.9395\n",
            "Epoch 65/100\n",
            "375/375 [==============================] - 3s 8ms/step - loss: 0.0964 - accuracy: 0.9641 - val_loss: 0.2176 - val_accuracy: 0.9286\n",
            "Epoch 66/100\n",
            "375/375 [==============================] - 3s 8ms/step - loss: 0.0942 - accuracy: 0.9647 - val_loss: 0.1981 - val_accuracy: 0.9409\n",
            "Epoch 67/100\n",
            "375/375 [==============================] - 3s 9ms/step - loss: 0.0893 - accuracy: 0.9665 - val_loss: 0.2216 - val_accuracy: 0.9281\n",
            "Epoch 68/100\n",
            "375/375 [==============================] - 3s 9ms/step - loss: 0.0928 - accuracy: 0.9651 - val_loss: 0.1939 - val_accuracy: 0.9366\n",
            "Epoch 69/100\n",
            "375/375 [==============================] - 4s 9ms/step - loss: 0.0911 - accuracy: 0.9663 - val_loss: 0.2181 - val_accuracy: 0.9337\n",
            "Epoch 70/100\n",
            "375/375 [==============================] - 3s 9ms/step - loss: 0.0899 - accuracy: 0.9667 - val_loss: 0.2138 - val_accuracy: 0.9322\n",
            "Epoch 71/100\n",
            "375/375 [==============================] - 3s 8ms/step - loss: 0.0911 - accuracy: 0.9659 - val_loss: 0.2141 - val_accuracy: 0.9355\n",
            "Epoch 72/100\n",
            "375/375 [==============================] - 3s 9ms/step - loss: 0.0872 - accuracy: 0.9679 - val_loss: 0.2087 - val_accuracy: 0.9380\n",
            "Epoch 73/100\n",
            "375/375 [==============================] - 3s 9ms/step - loss: 0.0907 - accuracy: 0.9670 - val_loss: 0.2166 - val_accuracy: 0.9376\n",
            "Epoch 74/100\n",
            "375/375 [==============================] - 4s 10ms/step - loss: 0.0873 - accuracy: 0.9670 - val_loss: 0.2107 - val_accuracy: 0.9395\n",
            "Epoch 75/100\n",
            "375/375 [==============================] - 3s 9ms/step - loss: 0.0869 - accuracy: 0.9681 - val_loss: 0.2102 - val_accuracy: 0.9366\n",
            "Epoch 76/100\n",
            "375/375 [==============================] - 3s 9ms/step - loss: 0.0860 - accuracy: 0.9683 - val_loss: 0.2061 - val_accuracy: 0.9370\n",
            "Epoch 77/100\n",
            "375/375 [==============================] - 3s 9ms/step - loss: 0.0891 - accuracy: 0.9669 - val_loss: 0.1971 - val_accuracy: 0.9383\n",
            "Epoch 78/100\n",
            "375/375 [==============================] - 4s 9ms/step - loss: 0.0852 - accuracy: 0.9686 - val_loss: 0.1952 - val_accuracy: 0.9417\n",
            "Epoch 79/100\n",
            "375/375 [==============================] - 4s 9ms/step - loss: 0.0836 - accuracy: 0.9686 - val_loss: 0.2126 - val_accuracy: 0.9395\n",
            "Epoch 80/100\n",
            "375/375 [==============================] - 3s 9ms/step - loss: 0.0826 - accuracy: 0.9696 - val_loss: 0.2081 - val_accuracy: 0.9392\n",
            "Epoch 81/100\n",
            "375/375 [==============================] - 4s 9ms/step - loss: 0.0832 - accuracy: 0.9692 - val_loss: 0.2146 - val_accuracy: 0.9397\n",
            "Epoch 82/100\n",
            "375/375 [==============================] - 3s 9ms/step - loss: 0.0809 - accuracy: 0.9711 - val_loss: 0.2199 - val_accuracy: 0.9373\n",
            "Epoch 83/100\n",
            "375/375 [==============================] - 3s 8ms/step - loss: 0.0802 - accuracy: 0.9700 - val_loss: 0.2206 - val_accuracy: 0.9400\n",
            "Epoch 84/100\n",
            "375/375 [==============================] - 3s 9ms/step - loss: 0.0803 - accuracy: 0.9712 - val_loss: 0.1971 - val_accuracy: 0.9409\n",
            "Epoch 85/100\n",
            "375/375 [==============================] - 3s 9ms/step - loss: 0.0770 - accuracy: 0.9722 - val_loss: 0.2212 - val_accuracy: 0.9363\n",
            "Epoch 86/100\n",
            "375/375 [==============================] - 3s 8ms/step - loss: 0.0794 - accuracy: 0.9699 - val_loss: 0.2208 - val_accuracy: 0.9342\n",
            "Epoch 87/100\n",
            "375/375 [==============================] - 3s 8ms/step - loss: 0.0771 - accuracy: 0.9711 - val_loss: 0.2149 - val_accuracy: 0.9384\n",
            "Epoch 88/100\n",
            "375/375 [==============================] - 3s 8ms/step - loss: 0.0780 - accuracy: 0.9717 - val_loss: 0.2255 - val_accuracy: 0.9354\n",
            "Epoch 89/100\n",
            "375/375 [==============================] - 3s 8ms/step - loss: 0.0757 - accuracy: 0.9718 - val_loss: 0.2315 - val_accuracy: 0.9382\n",
            "Epoch 90/100\n",
            "375/375 [==============================] - 3s 9ms/step - loss: 0.0773 - accuracy: 0.9719 - val_loss: 0.2100 - val_accuracy: 0.9383\n",
            "Epoch 91/100\n",
            "375/375 [==============================] - 3s 8ms/step - loss: 0.0743 - accuracy: 0.9729 - val_loss: 0.2282 - val_accuracy: 0.9400\n",
            "Epoch 92/100\n",
            "375/375 [==============================] - 3s 9ms/step - loss: 0.0770 - accuracy: 0.9718 - val_loss: 0.2094 - val_accuracy: 0.9398\n",
            "Epoch 93/100\n",
            "375/375 [==============================] - 3s 9ms/step - loss: 0.0758 - accuracy: 0.9730 - val_loss: 0.2334 - val_accuracy: 0.9307\n",
            "Epoch 94/100\n",
            "375/375 [==============================] - 3s 9ms/step - loss: 0.0786 - accuracy: 0.9703 - val_loss: 0.2136 - val_accuracy: 0.9388\n",
            "Epoch 95/100\n",
            "375/375 [==============================] - 3s 9ms/step - loss: 0.0749 - accuracy: 0.9722 - val_loss: 0.2284 - val_accuracy: 0.9345\n",
            "Epoch 96/100\n",
            "375/375 [==============================] - 3s 9ms/step - loss: 0.0723 - accuracy: 0.9740 - val_loss: 0.2111 - val_accuracy: 0.9411\n",
            "Epoch 97/100\n",
            "375/375 [==============================] - 3s 8ms/step - loss: 0.0735 - accuracy: 0.9724 - val_loss: 0.2271 - val_accuracy: 0.9380\n",
            "Epoch 98/100\n",
            "375/375 [==============================] - 3s 8ms/step - loss: 0.0731 - accuracy: 0.9734 - val_loss: 0.2153 - val_accuracy: 0.9408\n",
            "Epoch 99/100\n",
            "375/375 [==============================] - 3s 9ms/step - loss: 0.0757 - accuracy: 0.9727 - val_loss: 0.2285 - val_accuracy: 0.9414\n",
            "Epoch 100/100\n",
            "375/375 [==============================] - 4s 9ms/step - loss: 0.0772 - accuracy: 0.9721 - val_loss: 0.2393 - val_accuracy: 0.9381\n"
          ]
        }
      ],
      "source": [
        "# Takes 6m 23s to run with GPU acceleration, so commented out & saved accuracy\n",
        "\n",
        "model.compile(\n",
        "    'adam',\n",
        "    loss=categorical_crossentropy,\n",
        "    metrics=['accuracy']\n",
        ")\n",
        "\n",
        "train_model = model.fit(X_train_w_val, to_categorical(y_train_w_val),\n",
        "                        batch_size = 128,\n",
        "                        epochs = 100,\n",
        "                        verbose=1,\n",
        "                        validation_data=(X_val, to_categorical(y_val)))"
      ]
    },
    {
      "cell_type": "code",
      "execution_count": null,
      "metadata": {
        "id": "jhqUQxFoldzY",
        "colab": {
          "base_uri": "https://localhost:8080/"
        },
        "outputId": "afa8eba2-0f4d-4c0f-d554-7d1eb5d2fd04"
      },
      "outputs": [
        {
          "output_type": "stream",
          "name": "stdout",
          "text": [
            "313/313 [==============================] - 1s 4ms/step - loss: 0.2645 - accuracy: 0.9313\n",
            "Test accuracy: 0.9312999844551086\n"
          ]
        }
      ],
      "source": [
        "score = model.evaluate(X_test_pre_vect, to_categorical(y_test_pre_ohe))\n",
        "print('Test accuracy:', score[1])\n",
        "convnet_acc = score[1]"
      ]
    },
    {
      "cell_type": "code",
      "execution_count": null,
      "metadata": {
        "id": "WaKgrop-MVQp",
        "colab": {
          "base_uri": "https://localhost:8080/",
          "height": 295
        },
        "outputId": "4afe9731-5c40-44da-c7e0-11e8ebcf1729"
      },
      "outputs": [
        {
          "output_type": "display_data",
          "data": {
            "text/plain": [
              "<Figure size 432x288 with 1 Axes>"
            ],
            "image/png": "[encoded data removed]"
          },
          "metadata": {
            "needs_background": "light"
          }
        }
      ],
      "source": [
        "# Plot graph \n",
        "# Source: https://stackoverflow.com/questions/41908379/keras-plot-training-validation-and-test-set-accuracy\n",
        "# Also has details on plotting loss instead, though we're asked to plot accuracy\n",
        "plt.plot(train_model.history['accuracy'])\n",
        "plt.plot(train_model.history['val_accuracy'])\n",
        "plt.title('Model Accuracy')\n",
        "plt.ylabel('Accuracy')\n",
        "plt.xlabel('Epoch')\n",
        "plt.legend(['Train', 'Val'], loc='upper left')\n",
        "plt.show()"
      ]
    },
    {
      "cell_type": "code",
      "execution_count": null,
      "metadata": {
        "id": "hrePml7rmVN5"
      },
      "outputs": [],
      "source": [
        "convnet_acc = 0.9297999739646912"
      ]
    },
    {
      "cell_type": "markdown",
      "metadata": {
        "id": "q4OU3jXVNow2"
      },
      "source": [
        "## 6) Hyperparameters Tuning\n",
        "\n",
        "*Grid Search for Best Model*\n",
        "\n",
        "**Objective:**\n",
        "\n",
        "Our approach is to use a Keras MLP for faster training (via GPU acceleration) and, in our grid search, vary exclusively the hyperparameters our model consists of. This way, we can then transfer this information on the hyperparameters to our own MLP implementation as a way of getting a performant model. \n",
        "\n",
        "\n",
        "**Note:**\n",
        "\n",
        "From scikit-learn.org: \"The parameters of the estimator used to apply these methods are optimized by cross-validated grid-search over a parameter grid.\".\n",
        "This means that we can use x_train and y_train, without splitting it ourselves in training vs. validation format.\n",
        "\n",
        "\n",
        "**References:**\n",
        "Please note that the code in this section is heavily inspired by those 3 sources:\n",
        "*   https://machinelearningmastery.com/grid-search-hyperparameters-deep-learning-models-python-keras/\n",
        "*   https://colab.research.google.com/github/yueliyl/comp551-notebooks/blob/master/AutoDiffMLP.ipynb#scrollTo=g22608tCOA3M\n",
        "*   https://www.geeksforgeeks.org/hyperparameter-tuning-using-gridsearchcv-and-kerasclassifier/\n",
        "\n"
      ]
    },
    {
      "cell_type": "code",
      "execution_count": null,
      "metadata": {
        "colab": {
          "base_uri": "https://localhost:8080/"
        },
        "id": "8DhwjgPSNtxq",
        "outputId": "12bdac28-741b-4828-93fd-7bbd946b82e0"
      },
      "outputs": [
        {
          "name": "stderr",
          "output_type": "stream",
          "text": [
            "/usr/local/lib/python3.8/dist-packages/joblib/externals/loky/process_executor.py:700: UserWarning: A worker stopped while some jobs were given to the executor. This can be caused by a too short worker timeout or by a memory leak.\n",
            "  warnings.warn(\n"
          ]
        },
        {
          "name": "stdout",
          "output_type": "stream",
          "text": [
            "Best accuracy: 0.895250 using {'batch_size': 200, 'epochs': 200}\n",
            "0.894867 with: {'batch_size': 200, 'epochs': 50}\n",
            "0.892200 with: {'batch_size': 200, 'epochs': 100}\n",
            "0.892167 with: {'batch_size': 200, 'epochs': 150}\n",
            "0.895250 with: {'batch_size': 200, 'epochs': 200}\n",
            "0.895033 with: {'batch_size': 800, 'epochs': 50}\n",
            "0.891933 with: {'batch_size': 800, 'epochs': 100}\n",
            "0.890500 with: {'batch_size': 800, 'epochs': 150}\n",
            "0.889383 with: {'batch_size': 800, 'epochs': 200}\n",
            "0.890783 with: {'batch_size': 1600, 'epochs': 50}\n",
            "0.893067 with: {'batch_size': 1600, 'epochs': 100}\n",
            "0.891250 with: {'batch_size': 1600, 'epochs': 150}\n",
            "0.889117 with: {'batch_size': 1600, 'epochs': 200}\n"
          ]
        }
      ],
      "source": [
        "# Building our model using Keras MLP\n",
        "\n",
        "numberOfHiddenUnits = 128   # In our experiments, we use 128 hidden units\n",
        "\n",
        "# KerasClassifier requires us to create a function that returns a model\n",
        "def build_model():\n",
        "  model = Sequential()\n",
        "  model.add(Dense(numberOfHiddenUnits, input_shape=(X_train.shape[1],), activation='relu')) # Hidden Layer 1\n",
        "  model.add(Dense(numberOfHiddenUnits, activation='relu'))  # Hidden Layer 2\n",
        "  model.add(Dense(y_train.shape[1], activation='softmax'))  # Output layer\n",
        "\n",
        "  #need to compile the model\n",
        "  model.compile(optimizer='adam', loss='binary_crossentropy')\n",
        "  return model\n",
        "\n",
        "# Now, we need to wrap our model in Scikit-Learn. \n",
        "model = KerasClassifier(model = build_model, verbose=0)\n",
        "\n",
        "# Set seed for Tensorflow\n",
        "tf.random.set_seed(12)\n",
        "\n",
        "batch_size = [200, 800, 1600]   # possible mini-batch sizes\n",
        "epochs = [50,100,150, 200]      # possible epochs\n",
        "param_grid = dict(batch_size = batch_size, epochs=epochs)\n",
        "n_jobs = -1 #to use all processors available for parallelism\n",
        "cv = 5 # 5-fold cross validation\n",
        "\n",
        "grid = GridSearchCV(estimator = model, param_grid=param_grid, n_jobs=n_jobs, cv=cv)\n",
        "grid_result=grid.fit(X_train, y_train)\n",
        "\n",
        "\n",
        "# Results \n",
        "# Code from https://machinelearningmastery.com/grid-search-hyperparameters-deep-learning-models-python-keras/\n",
        "print(\"Best accuracy: %f using %s\" % (grid_result.best_score_, grid_result.best_params_))\n",
        "means = grid_result.cv_results_['mean_test_score']\n",
        "params = grid_result.cv_results_['params']\n",
        "for mean, param in zip(means, params):\n",
        "    print(\"%f with: %r\" % (mean, param))"
      ]
    },
    {
      "cell_type": "markdown",
      "source": [
        "## 7) Final Model\n",
        "We run this final model with the best results from hyperparameter tuning (200 epochs, mini batch size of 200) and the best activation function (leaky ReLU)."
      ],
      "metadata": {
        "id": "4idIKEa7UoC0"
      }
    },
    {
      "cell_type": "code",
      "execution_count": null,
      "metadata": {
        "colab": {
          "base_uri": "https://localhost:8080/",
          "height": 349
        },
        "id": "jYMSOvCETUHN",
        "outputId": "652f4d32-197a-4365-9d58-9c4031cde800"
      },
      "outputs": [
        {
          "output_type": "stream",
          "name": "stderr",
          "text": [
            "100%|██████████| 200/200 [2:52:37<00:00, 51.79s/it]\n"
          ]
        },
        {
          "output_type": "display_data",
          "data": {
            "text/plain": [
              "<Figure size 432x288 with 1 Axes>"
            ],
            "image/png": "[encoded data removed]"
          },
          "metadata": {
            "needs_background": "light"
          }
        },
        {
          "output_type": "stream",
          "name": "stdout",
          "text": [
            "Accuracy:  0.8737\n"
          ]
        },
        {
          "output_type": "execute_result",
          "data": {
            "text/plain": [
              "0.8737"
            ]
          },
          "metadata": {},
          "execution_count": 21
        }
      ],
      "source": [
        "mini_batch_size = 200\n",
        "epoch_number = 200\n",
        "numHiddenLayers = 2\n",
        "HIDDEN_SIZE = 128\n",
        "lmbd=2\n",
        "\n",
        "inputSize = X_train.shape[1]\n",
        "outputSize = y_train.shape[1]\n",
        "model = MLP(\"leaky_relu\", numHiddenLayers , HIDDEN_SIZE, inputSize, outputSize, epoch_number, mini_batch_size, regularization=True, lmbd=lmbd)\n",
        "\n",
        "model.fit(X_train, y_train)\n",
        "\n",
        "y_pred = model.predict(X_test)\n",
        "model.evaluate_acc(y_test, y_pred)"
      ]
    }
  ],
  "metadata": {
    "colab": {
      "toc_visible": true,
      "provenance": [],
      "collapsed_sections": [
        "WiFTtMhbc404",
        "Eb_AYusnfGJi",
        "yHvrt-MCfHXi",
        "ppXTdC3V9C0p",
        "ANabYaQLiFMK",
        "4um3Mbo-ietO",
        "bwbTS5kNP9Av",
        "SpP_CFD2QHaF",
        "T01w6Et5QBu0",
        "UvV0Qz8kQR8o",
        "aPOeitbGQaMV",
        "6tJx2iceqYG-",
        "gd_TlChHqZf3"
      ]
    },
    "gpuClass": "standard",
    "kernelspec": {
      "display_name": "Python 3",
      "name": "python3"
    },
    "language_info": {
      "name": "python"
    },
    "widgets": {
      "application/vnd.jupyter.widget-state+json": {
        "aac9536f0fc04e75a12e31ba9a1f11b0": {
          "model_module": "@jupyter-widgets/controls",
          "model_name": "HBoxModel",
          "model_module_version": "1.5.0",
          "state": {
            "_dom_classes": [],
            "_model_module": "@jupyter-widgets/controls",
            "_model_module_version": "1.5.0",
            "_model_name": "HBoxModel",
            "_view_count": null,
            "_view_module": "@jupyter-widgets/controls",
            "_view_module_version": "1.5.0",
            "_view_name": "HBoxView",
            "box_style": "",
            "children": [
              "IPY_MODEL_8df1c111e1a64899a5a0dd7bfeae86d1",
              "IPY_MODEL_a8a3bff941224e1f9c47804248292c33",
              "IPY_MODEL_8af1ac6b48514224afb8e2f79a706d9f"
            ],
            "layout": "IPY_MODEL_4f0ceec49a524aeebad8b8f0a6523057"
          }
        },
        "8df1c111e1a64899a5a0dd7bfeae86d1": {
          "model_module": "@jupyter-widgets/controls",
          "model_name": "HTMLModel",
          "model_module_version": "1.5.0",
          "state": {
            "_dom_classes": [],
            "_model_module": "@jupyter-widgets/controls",
            "_model_module_version": "1.5.0",
            "_model_name": "HTMLModel",
            "_view_count": null,
            "_view_module": "@jupyter-widgets/controls",
            "_view_module_version": "1.5.0",
            "_view_name": "HTMLView",
            "description": "",
            "description_tooltip": null,
            "layout": "IPY_MODEL_a29eb4f3b9bc484e8f4e9c051b2a26ee",
            "placeholder": "​",
            "style": "IPY_MODEL_37519119eb984f95b4ab4c7ced0fef6b",
            "value": "100%"
          }
        },
        "a8a3bff941224e1f9c47804248292c33": {
          "model_module": "@jupyter-widgets/controls",
          "model_name": "FloatProgressModel",
          "model_module_version": "1.5.0",
          "state": {
            "_dom_classes": [],
            "_model_module": "@jupyter-widgets/controls",
            "_model_module_version": "1.5.0",
            "_model_name": "FloatProgressModel",
            "_view_count": null,
            "_view_module": "@jupyter-widgets/controls",
            "_view_module_version": "1.5.0",
            "_view_name": "ProgressView",
            "bar_style": "success",
            "description": "",
            "description_tooltip": null,
            "layout": "IPY_MODEL_fa448b3735084ec6b95db1ce87c39829",
            "max": 75,
            "min": 0,
            "orientation": "horizontal",
            "style": "IPY_MODEL_87f044ef07434700baf0229a515091ba",
            "value": 75
          }
        },
        "8af1ac6b48514224afb8e2f79a706d9f": {
          "model_module": "@jupyter-widgets/controls",
          "model_name": "HTMLModel",
          "model_module_version": "1.5.0",
          "state": {
            "_dom_classes": [],
            "_model_module": "@jupyter-widgets/controls",
            "_model_module_version": "1.5.0",
            "_model_name": "HTMLModel",
            "_view_count": null,
            "_view_module": "@jupyter-widgets/controls",
            "_view_module_version": "1.5.0",
            "_view_name": "HTMLView",
            "description": "",
            "description_tooltip": null,
            "layout": "IPY_MODEL_4fa8d30e22bc4e389a60c79f3384f61d",
            "placeholder": "​",
            "style": "IPY_MODEL_fcfa9e70f20b4b6582ae567bb2fc9f71",
            "value": " 75/75 [1:06:04&lt;00:00, 51.74s/it]"
          }
        },
        "4f0ceec49a524aeebad8b8f0a6523057": {
          "model_module": "@jupyter-widgets/base",
          "model_name": "LayoutModel",
          "model_module_version": "1.2.0",
          "state": {
            "_model_module": "@jupyter-widgets/base",
            "_model_module_version": "1.2.0",
            "_model_name": "LayoutModel",
            "_view_count": null,
            "_view_module": "@jupyter-widgets/base",
            "_view_module_version": "1.2.0",
            "_view_name": "LayoutView",
            "align_content": null,
            "align_items": null,
            "align_self": null,
            "border": null,
            "bottom": null,
            "display": null,
            "flex": null,
            "flex_flow": null,
            "grid_area": null,
            "grid_auto_columns": null,
            "grid_auto_flow": null,
            "grid_auto_rows": null,
            "grid_column": null,
            "grid_gap": null,
            "grid_row": null,
            "grid_template_areas": null,
            "grid_template_columns": null,
            "grid_template_rows": null,
            "height": null,
            "justify_content": null,
            "justify_items": null,
            "left": null,
            "margin": null,
            "max_height": null,
            "max_width": null,
            "min_height": null,
            "min_width": null,
            "object_fit": null,
            "object_position": null,
            "order": null,
            "overflow": null,
            "overflow_x": null,
            "overflow_y": null,
            "padding": null,
            "right": null,
            "top": null,
            "visibility": null,
            "width": null
          }
        },
        "a29eb4f3b9bc484e8f4e9c051b2a26ee": {
          "model_module": "@jupyter-widgets/base",
          "model_name": "LayoutModel",
          "model_module_version": "1.2.0",
          "state": {
            "_model_module": "@jupyter-widgets/base",
            "_model_module_version": "1.2.0",
            "_model_name": "LayoutModel",
            "_view_count": null,
            "_view_module": "@jupyter-widgets/base",
            "_view_module_version": "1.2.0",
            "_view_name": "LayoutView",
            "align_content": null,
            "align_items": null,
            "align_self": null,
            "border": null,
            "bottom": null,
            "display": null,
            "flex": null,
            "flex_flow": null,
            "grid_area": null,
            "grid_auto_columns": null,
            "grid_auto_flow": null,
            "grid_auto_rows": null,
            "grid_column": null,
            "grid_gap": null,
            "grid_row": null,
            "grid_template_areas": null,
            "grid_template_columns": null,
            "grid_template_rows": null,
            "height": null,
            "justify_content": null,
            "justify_items": null,
            "left": null,
            "margin": null,
            "max_height": null,
            "max_width": null,
            "min_height": null,
            "min_width": null,
            "object_fit": null,
            "object_position": null,
            "order": null,
            "overflow": null,
            "overflow_x": null,
            "overflow_y": null,
            "padding": null,
            "right": null,
            "top": null,
            "visibility": null,
            "width": null
          }
        },
        "37519119eb984f95b4ab4c7ced0fef6b": {
          "model_module": "@jupyter-widgets/controls",
          "model_name": "DescriptionStyleModel",
          "model_module_version": "1.5.0",
          "state": {
            "_model_module": "@jupyter-widgets/controls",
            "_model_module_version": "1.5.0",
            "_model_name": "DescriptionStyleModel",
            "_view_count": null,
            "_view_module": "@jupyter-widgets/base",
            "_view_module_version": "1.2.0",
            "_view_name": "StyleView",
            "description_width": ""
          }
        },
        "fa448b3735084ec6b95db1ce87c39829": {
          "model_module": "@jupyter-widgets/base",
          "model_name": "LayoutModel",
          "model_module_version": "1.2.0",
          "state": {
            "_model_module": "@jupyter-widgets/base",
            "_model_module_version": "1.2.0",
            "_model_name": "LayoutModel",
            "_view_count": null,
            "_view_module": "@jupyter-widgets/base",
            "_view_module_version": "1.2.0",
            "_view_name": "LayoutView",
            "align_content": null,
            "align_items": null,
            "align_self": null,
            "border": null,
            "bottom": null,
            "display": null,
            "flex": null,
            "flex_flow": null,
            "grid_area": null,
            "grid_auto_columns": null,
            "grid_auto_flow": null,
            "grid_auto_rows": null,
            "grid_column": null,
            "grid_gap": null,
            "grid_row": null,
            "grid_template_areas": null,
            "grid_template_columns": null,
            "grid_template_rows": null,
            "height": null,
            "justify_content": null,
            "justify_items": null,
            "left": null,
            "margin": null,
            "max_height": null,
            "max_width": null,
            "min_height": null,
            "min_width": null,
            "object_fit": null,
            "object_position": null,
            "order": null,
            "overflow": null,
            "overflow_x": null,
            "overflow_y": null,
            "padding": null,
            "right": null,
            "top": null,
            "visibility": null,
            "width": null
          }
        },
        "87f044ef07434700baf0229a515091ba": {
          "model_module": "@jupyter-widgets/controls",
          "model_name": "ProgressStyleModel",
          "model_module_version": "1.5.0",
          "state": {
            "_model_module": "@jupyter-widgets/controls",
            "_model_module_version": "1.5.0",
            "_model_name": "ProgressStyleModel",
            "_view_count": null,
            "_view_module": "@jupyter-widgets/base",
            "_view_module_version": "1.2.0",
            "_view_name": "StyleView",
            "bar_color": null,
            "description_width": ""
          }
        },
        "4fa8d30e22bc4e389a60c79f3384f61d": {
          "model_module": "@jupyter-widgets/base",
          "model_name": "LayoutModel",
          "model_module_version": "1.2.0",
          "state": {
            "_model_module": "@jupyter-widgets/base",
            "_model_module_version": "1.2.0",
            "_model_name": "LayoutModel",
            "_view_count": null,
            "_view_module": "@jupyter-widgets/base",
            "_view_module_version": "1.2.0",
            "_view_name": "LayoutView",
            "align_content": null,
            "align_items": null,
            "align_self": null,
            "border": null,
            "bottom": null,
            "display": null,
            "flex": null,
            "flex_flow": null,
            "grid_area": null,
            "grid_auto_columns": null,
            "grid_auto_flow": null,
            "grid_auto_rows": null,
            "grid_column": null,
            "grid_gap": null,
            "grid_row": null,
            "grid_template_areas": null,
            "grid_template_columns": null,
            "grid_template_rows": null,
            "height": null,
            "justify_content": null,
            "justify_items": null,
            "left": null,
            "margin": null,
            "max_height": null,
            "max_width": null,
            "min_height": null,
            "min_width": null,
            "object_fit": null,
            "object_position": null,
            "order": null,
            "overflow": null,
            "overflow_x": null,
            "overflow_y": null,
            "padding": null,
            "right": null,
            "top": null,
            "visibility": null,
            "width": null
          }
        },
        "fcfa9e70f20b4b6582ae567bb2fc9f71": {
          "model_module": "@jupyter-widgets/controls",
          "model_name": "DescriptionStyleModel",
          "model_module_version": "1.5.0",
          "state": {
            "_model_module": "@jupyter-widgets/controls",
            "_model_module_version": "1.5.0",
            "_model_name": "DescriptionStyleModel",
            "_view_count": null,
            "_view_module": "@jupyter-widgets/base",
            "_view_module_version": "1.2.0",
            "_view_name": "StyleView",
            "description_width": ""
          }
        }
      }
    }
  },
  "nbformat": 4,
  "nbformat_minor": 0
}